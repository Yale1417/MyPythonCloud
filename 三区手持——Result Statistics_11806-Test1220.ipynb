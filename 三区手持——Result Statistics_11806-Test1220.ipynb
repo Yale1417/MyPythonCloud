{
 "cells": [
  {
   "cell_type": "code",
   "execution_count": null,
   "metadata": {},
   "outputs": [],
   "source": [
    "\"\"\"\n",
    "针对不同版本的三区手持眼底图像自动标注病灶区的算法结果进行统计。\n",
    "@author:By Yale_yang \n",
    "Dec. 5th 2019\n",
    "\"\"\""
   ]
  },
  {
   "cell_type": "markdown",
   "metadata": {},
   "source": [
    "# 业务逻辑：\n",
    "1. 关键的数据列：医生的诊断结果（doc）,算法判断结果（v3.4.1），筛查结果（即：基于医生的诊断结果，修改算法”doc“判断为阳性，医生诊断为阴性，但经人工审核后，图像确实存在病灶！此时将”doc“列对应的图片结果修改为阳性，其余与”doc“结果保持一致，修改后的列作为最终的筛查结果列）\n",
    "2. 关键步骤：提取算法”doc“判断为阳性，医生诊断为阴性的图片，进行下一步人工审核；\n"
   ]
  },
  {
   "cell_type": "code",
   "execution_count": 1,
   "metadata": {},
   "outputs": [
    {
     "name": "stdout",
     "output_type": "stream",
     "text": [
      "import succed!\n"
     ]
    }
   ],
   "source": [
    "import re\n",
    "import os \n",
    "import shutil  #拷贝数据的模块\n",
    "import pandas as pd \n",
    "import matplotlib.pyplot as plt\n",
    "pd.set_option('display.max_columns',None)\n",
    "pd.set_option('display.max_rows',None)\n",
    "pd.set_option('expand_frame_repr',False)   #禁止自动换行\n",
    "print('import succed!')"
   ]
  },
  {
   "cell_type": "code",
   "execution_count": 2,
   "metadata": {},
   "outputs": [],
   "source": [
    "input_path = r'/Users/edz/Documents/My-work/Daily_work/算法结果统计/mine/导入Data'\n",
    "df_template_file = r'/三区域-异常算法-指标统计-2019总表.xls'   # 统计的样表数据\n",
    "df_sf = r'/result_11806_suan.csv'  # 算法每次更新的结果数据——需修改"
   ]
  },
  {
   "cell_type": "code",
   "execution_count": 3,
   "metadata": {},
   "outputs": [
    {
     "data": {
      "text/html": [
       "<div>\n",
       "<style scoped>\n",
       "    .dataframe tbody tr th:only-of-type {\n",
       "        vertical-align: middle;\n",
       "    }\n",
       "\n",
       "    .dataframe tbody tr th {\n",
       "        vertical-align: top;\n",
       "    }\n",
       "\n",
       "    .dataframe thead th {\n",
       "        text-align: right;\n",
       "    }\n",
       "</style>\n",
       "<table border=\"1\" class=\"dataframe\">\n",
       "  <thead>\n",
       "    <tr style=\"text-align: right;\">\n",
       "      <th></th>\n",
       "      <th>image_name</th>\n",
       "      <th>health_or_not</th>\n",
       "      <th>optic</th>\n",
       "      <th>macular</th>\n",
       "      <th>retina</th>\n",
       "    </tr>\n",
       "  </thead>\n",
       "  <tbody>\n",
       "    <tr>\n",
       "      <th>0</th>\n",
       "      <td>0007d2d5b8edab9ed073d17ee5a29719.jpg</td>\n",
       "      <td>0</td>\n",
       "      <td>0</td>\n",
       "      <td>0</td>\n",
       "      <td>0</td>\n",
       "    </tr>\n",
       "    <tr>\n",
       "      <th>1</th>\n",
       "      <td>000cd9c8584700deff0501f435c8a58b.jpg</td>\n",
       "      <td>0</td>\n",
       "      <td>0</td>\n",
       "      <td>0</td>\n",
       "      <td>0</td>\n",
       "    </tr>\n",
       "    <tr>\n",
       "      <th>2</th>\n",
       "      <td>00180a4859798d6a363d7336efde531f.jpg</td>\n",
       "      <td>0</td>\n",
       "      <td>0</td>\n",
       "      <td>0</td>\n",
       "      <td>0</td>\n",
       "    </tr>\n",
       "    <tr>\n",
       "      <th>3</th>\n",
       "      <td>001cd46d9b89095ccdf7a7d518cb9279.jpg</td>\n",
       "      <td>0</td>\n",
       "      <td>0</td>\n",
       "      <td>0</td>\n",
       "      <td>0</td>\n",
       "    </tr>\n",
       "    <tr>\n",
       "      <th>4</th>\n",
       "      <td>0021fc2480706a742402eb29cac6ff80.jpg</td>\n",
       "      <td>0</td>\n",
       "      <td>0</td>\n",
       "      <td>0</td>\n",
       "      <td>0</td>\n",
       "    </tr>\n",
       "  </tbody>\n",
       "</table>\n",
       "</div>"
      ],
      "text/plain": [
       "                             image_name  health_or_not  optic  macular  retina\n",
       "0  0007d2d5b8edab9ed073d17ee5a29719.jpg              0      0        0       0\n",
       "1  000cd9c8584700deff0501f435c8a58b.jpg              0      0        0       0\n",
       "2  00180a4859798d6a363d7336efde531f.jpg              0      0        0       0\n",
       "3  001cd46d9b89095ccdf7a7d518cb9279.jpg              0      0        0       0\n",
       "4  0021fc2480706a742402eb29cac6ff80.jpg              0      0        0       0"
      ]
     },
     "execution_count": 3,
     "metadata": {},
     "output_type": "execute_result"
    }
   ],
   "source": [
    "# 文件读入\n",
    "df_sf = pd.read_csv(input_path+df_sf, sep=',', index_col=None)   # 算法结果\n",
    "# df_sf.drop(columns=[1,3,5,7],inplace=True)\n",
    "\n",
    "df_sf.head()"
   ]
  },
  {
   "cell_type": "code",
   "execution_count": 4,
   "metadata": {},
   "outputs": [
    {
     "name": "stdout",
     "output_type": "stream",
     "text": [
      "                                    md5  Arithmetic_result  item_1  item_2  item_3\n",
      "0  0007d2d5b8edab9ed073d17ee5a29719.jpg                  0       0       0       0\n",
      "1  000cd9c8584700deff0501f435c8a58b.jpg                  0       0       0       0\n",
      "2  00180a4859798d6a363d7336efde531f.jpg                  0       0       0       0\n",
      "3  001cd46d9b89095ccdf7a7d518cb9279.jpg                  0       0       0       0\n",
      "4  0021fc2480706a742402eb29cac6ff80.jpg                  0       0       0       0\n"
     ]
    }
   ],
   "source": [
    "df_sf.rename(columns={'image_name':'md5','health_or_not':'Arithmetic_result',\n",
    "                      'optic':'item_1','macular':'item_2','retina':'item_3'},inplace=True)\n",
    "print(df_sf.head())"
   ]
  },
  {
   "cell_type": "code",
   "execution_count": 5,
   "metadata": {},
   "outputs": [],
   "source": [
    "df_sf['item_sum'] = df_sf.loc[:,['item_1','item_2','item_3']].apply(lambda x:x.sum(),axis=1)   #'item_sum'列计算'item_1','item_2','item_3'三列的总和"
   ]
  },
  {
   "cell_type": "code",
   "execution_count": null,
   "metadata": {},
   "outputs": [],
   "source": [
    "#df_sf.loc[df_sf['item_sum']>0,:]   # 验证添加的求和列结果正确"
   ]
  },
  {
   "cell_type": "code",
   "execution_count": 7,
   "metadata": {},
   "outputs": [],
   "source": [
    "# 根据'item_1','item_2','item_3'中有一项结果为1，则最终的”decison_last“应该标记为”1“，来验证”decison_last“列的数据是否存在错误\n",
    "for i in range(len(df_sf['md5'])):\n",
    "    if df_sf.at[i,'item_sum'] > 0:\n",
    "        if df_sf.at[i,'Arithmetic_result'] == 1:\n",
    "            pass\n",
    "        else:\n",
    "            print(\"{} index of Arithmetic_result_阳性 is Error! \".format(i))\n",
    "    else:\n",
    "        if df_sf.at[i,'Arithmetic_result'] == 0:\n",
    "            pass\n",
    "        else:\n",
    "            print(\"{} index of Arithmetic_result_阴性 is Error! \".format(i))"
   ]
  },
  {
   "cell_type": "code",
   "execution_count": 8,
   "metadata": {},
   "outputs": [
    {
     "name": "stdout",
     "output_type": "stream",
     "text": [
      "                                    md5  Arithmetic_result  item_1  item_2  item_3  item_sum\n",
      "0  0007d2d5b8edab9ed073d17ee5a29719.jpg                  0       0       0       0         0\n",
      "1  000cd9c8584700deff0501f435c8a58b.jpg                  0       0       0       0         0\n",
      "2  00180a4859798d6a363d7336efde531f.jpg                  0       0       0       0         0\n",
      "3  001cd46d9b89095ccdf7a7d518cb9279.jpg                  0       0       0       0         0\n",
      "4  0021fc2480706a742402eb29cac6ff80.jpg                  0       0       0       0         0\n"
     ]
    }
   ],
   "source": [
    "print(df_sf.head())"
   ]
  },
  {
   "cell_type": "code",
   "execution_count": 9,
   "metadata": {},
   "outputs": [],
   "source": [
    "# 读入template_mine.xls，得到患者信息和医生的诊断结果\n",
    "df_tempt = pd.read_excel(input_path+df_template_file, sheet_name='11806', sep='\\t', index_col=None)"
   ]
  },
  {
   "cell_type": "code",
   "execution_count": null,
   "metadata": {},
   "outputs": [],
   "source": [
    "# df_tempt.sort_values(by='name',ascending=False,inplace=True)"
   ]
  },
  {
   "cell_type": "code",
   "execution_count": 10,
   "metadata": {},
   "outputs": [],
   "source": [
    "df_tempt['md5'] = df_tempt['md5'] + '.jpg'"
   ]
  },
  {
   "cell_type": "code",
   "execution_count": null,
   "metadata": {},
   "outputs": [],
   "source": [
    "df_tempt.head()"
   ]
  },
  {
   "cell_type": "code",
   "execution_count": 11,
   "metadata": {},
   "outputs": [
    {
     "name": "stdout",
     "output_type": "stream",
     "text": [
      "df_sf和df_tempt的数据条目总数相等！\n"
     ]
    }
   ],
   "source": [
    "# 校验df_sf和df_tempt的数据条目总数是否相等~\n",
    "if df_sf.shape[0] == df_tempt.shape[0]:\n",
    "    print('df_sf和df_tempt的数据条目总数相等！')\n",
    "else:\n",
    "    print('df_sf数据条目为{},df_tempt数据条目为{}'.format(df_sf.shape[0],df_tempt.shape[0]))"
   ]
  },
  {
   "cell_type": "code",
   "execution_count": 12,
   "metadata": {},
   "outputs": [
    {
     "data": {
      "text/html": [
       "<div>\n",
       "<style scoped>\n",
       "    .dataframe tbody tr th:only-of-type {\n",
       "        vertical-align: middle;\n",
       "    }\n",
       "\n",
       "    .dataframe tbody tr th {\n",
       "        vertical-align: top;\n",
       "    }\n",
       "\n",
       "    .dataframe thead th {\n",
       "        text-align: right;\n",
       "    }\n",
       "</style>\n",
       "<table border=\"1\" class=\"dataframe\">\n",
       "  <thead>\n",
       "    <tr style=\"text-align: right;\">\n",
       "      <th></th>\n",
       "      <th>main_pid</th>\n",
       "      <th>姓名</th>\n",
       "      <th>md5</th>\n",
       "      <th>Doctor_standard</th>\n",
       "      <th>v3.2</th>\n",
       "      <th>doc check1</th>\n",
       "      <th>doc check</th>\n",
       "      <th>sick_name</th>\n",
       "      <th>sick_name-chuli</th>\n",
       "      <th>path</th>\n",
       "      <th>Arithmetic_result</th>\n",
       "    </tr>\n",
       "  </thead>\n",
       "  <tbody>\n",
       "    <tr>\n",
       "      <th>0</th>\n",
       "      <td>10374185</td>\n",
       "      <td>艾迪</td>\n",
       "      <td>980e27e19bac3595c979442bc3aeda17.jpg</td>\n",
       "      <td>0</td>\n",
       "      <td>0</td>\n",
       "      <td>0</td>\n",
       "      <td>0</td>\n",
       "      <td>健康</td>\n",
       "      <td>健康</td>\n",
       "      <td>R_788319b735bf5111b3e9e6eebc57df9f.jpg</td>\n",
       "      <td>0</td>\n",
       "    </tr>\n",
       "    <tr>\n",
       "      <th>1</th>\n",
       "      <td>10374185</td>\n",
       "      <td>艾迪</td>\n",
       "      <td>c377db0f41c6e4da4fcb005bd5461f68.jpg</td>\n",
       "      <td>0</td>\n",
       "      <td>0</td>\n",
       "      <td>0</td>\n",
       "      <td>0</td>\n",
       "      <td>健康</td>\n",
       "      <td>健康</td>\n",
       "      <td>L_daca7354df0a4ddff060993befc594bf.jpg</td>\n",
       "      <td>0</td>\n",
       "    </tr>\n",
       "    <tr>\n",
       "      <th>2</th>\n",
       "      <td>10376875</td>\n",
       "      <td>艾军</td>\n",
       "      <td>3c9e3895f69da41026f308c3e36854ca.jpg</td>\n",
       "      <td>0</td>\n",
       "      <td>0</td>\n",
       "      <td>0</td>\n",
       "      <td>0</td>\n",
       "      <td>健康</td>\n",
       "      <td>健康</td>\n",
       "      <td>R_190410cae8d911541a267e24cf0d99b2.jpg</td>\n",
       "      <td>0</td>\n",
       "    </tr>\n",
       "    <tr>\n",
       "      <th>3</th>\n",
       "      <td>10376875</td>\n",
       "      <td>艾军</td>\n",
       "      <td>f88efdef54cf4b7408aa68a89e160ea2.jpg</td>\n",
       "      <td>0</td>\n",
       "      <td>0</td>\n",
       "      <td>0</td>\n",
       "      <td>0</td>\n",
       "      <td>健康</td>\n",
       "      <td>健康</td>\n",
       "      <td>L_5bf00f2f255834e28d22dc31cf64e8f2.jpg</td>\n",
       "      <td>0</td>\n",
       "    </tr>\n",
       "    <tr>\n",
       "      <th>4</th>\n",
       "      <td>10374579</td>\n",
       "      <td>艾鑫</td>\n",
       "      <td>52b12a8c1428e4b464d5fed6099c3c9e.jpg</td>\n",
       "      <td>0</td>\n",
       "      <td>0</td>\n",
       "      <td>0</td>\n",
       "      <td>0</td>\n",
       "      <td>屈光不正</td>\n",
       "      <td>#</td>\n",
       "      <td>L_2f55506360af7b4a2dfea5f22d7fae09.jpg</td>\n",
       "      <td>0</td>\n",
       "    </tr>\n",
       "  </tbody>\n",
       "</table>\n",
       "</div>"
      ],
      "text/plain": [
       "   main_pid  姓名                                   md5  Doctor_standard  v3.2  doc check1  doc check sick_name sick_name-chuli                                    path  Arithmetic_result\n",
       "0  10374185  艾迪  980e27e19bac3595c979442bc3aeda17.jpg                0     0           0          0        健康              健康  R_788319b735bf5111b3e9e6eebc57df9f.jpg                  0\n",
       "1  10374185  艾迪  c377db0f41c6e4da4fcb005bd5461f68.jpg                0     0           0          0        健康              健康  L_daca7354df0a4ddff060993befc594bf.jpg                  0\n",
       "2  10376875  艾军  3c9e3895f69da41026f308c3e36854ca.jpg                0     0           0          0        健康              健康  R_190410cae8d911541a267e24cf0d99b2.jpg                  0\n",
       "3  10376875  艾军  f88efdef54cf4b7408aa68a89e160ea2.jpg                0     0           0          0        健康              健康  L_5bf00f2f255834e28d22dc31cf64e8f2.jpg                  0\n",
       "4  10374579  艾鑫  52b12a8c1428e4b464d5fed6099c3c9e.jpg                0     0           0          0      屈光不正               #  L_2f55506360af7b4a2dfea5f22d7fae09.jpg                  0"
      ]
     },
     "execution_count": 12,
     "metadata": {},
     "output_type": "execute_result"
    }
   ],
   "source": [
    "# 合并df_sf表与tempt_mine表中的数据\n",
    "df = pd.merge(df_tempt,df_sf[['md5','Arithmetic_result']],how='left',on='md5',sort=False)   #参数sort：是否根据”连接键“对合并后的数据进行排序，默认为True\n",
    "df.head()"
   ]
  },
  {
   "cell_type": "code",
   "execution_count": null,
   "metadata": {},
   "outputs": [],
   "source": [
    "# df.rename(columns={'decison_last':'V3.4.1'},inplace=True)   # 根据每次算法的版本修改列名称"
   ]
  },
  {
   "cell_type": "markdown",
   "metadata": {},
   "source": [
    "# Pandas按指定条件筛选行数据\n",
    "## 同时满足A列值为0，B列值为1的所有行数据\n",
    "df[(df['Doctor_standard']==0) & (df['Arithmetic_result']==1)]\n",
    "<br>亦或\n",
    "<br>df.loc[(df['Doctor_standard']==0) & (df['Arithmetic_result']==1),:]\n",
    "## 业务逻辑：真假以医生的诊断结果为准，阴阳以算法的计算结果为准，二者排列组合。\n",
    "<br>真阳性(TP)：医生诊断为阳性，算法判断为阳性；\n",
    "<br>假阳性(FP)：医生诊断为阴性，算法判断为阳性；（‘误诊’）\n",
    "<br>真阴性(TN)：医生诊断为阴性，算法判断为阴性；\n",
    "<br>假阴性(FN)：医生诊断为阳性，算法判断为阴性；（‘漏诊’）"
   ]
  },
  {
   "cell_type": "code",
   "execution_count": 13,
   "metadata": {},
   "outputs": [
    {
     "name": "stdout",
     "output_type": "stream",
     "text": [
      "     main_pid   姓名                                   md5  Doctor_standard  v3.2  doc check1  doc check       sick_name sick_name-chuli                                    path  Arithmetic_result\n",
      "10   10375726  安福民  183a08bfbacdd728ddf0d716cdba197f.jpg                1     0           1          1    AMD年龄相关性黄斑变性    AMD年龄相关性黄斑变性  L_ed2a847911216a29855d8df7071f50f2.jpg                  0\n",
      "150  10373374   卞强  63a4d049132f30020d52efab812cf6be.jpg                1     0           1          1          其他未知异常          其他未知异常  L_113c28f8ae7392dcf22c9c314b216c57.jpg                  0\n",
      "151  10373374   卞强  7cafdda6afdf14c8ee811f17ca349f4f.jpg                1     0           1          1          其他未知异常          其他未知异常  R_26838aa171c17ba54d5ffee25e1cb12f.jpg                  0\n",
      "154  10377396  卜艳丽  1c276ca7b78280e0c81a18ddcd78fd1f.jpg                1     0           1          1  视网膜动脉硬化#其他未知异常        ##其他未知异常  R_ebaf4449cc08aaa79d8cf21a7e2a6fc1.jpg                  0\n",
      "155  10377396  卜艳丽  52705e91762d06df550129ac2b973fd6.jpg                1     0           1          1  视网膜动脉硬化#其他未知异常        ##其他未知异常  L_4af658a79e7ed12b4d3fc22044f3cf6e.jpg                  0\n"
     ]
    }
   ],
   "source": [
    "#根据指定筛选条件对算法数据进行分类\n",
    "df_TP = df[(df['Doctor_standard']==1) & (df['Arithmetic_result']==1)]   # 真阳性\n",
    "df_FP = df[(df['Doctor_standard']==0) & (df['Arithmetic_result']==1)]   # 假阳性——误诊\n",
    "df_TN = df[(df['Doctor_standard']==0) & (df['Arithmetic_result']==0)]   # 真阴性\n",
    "df_FN = df[(df['Doctor_standard']==1) & (df['Arithmetic_result']==0)]   # 假阴性——漏诊\n",
    "print(df_FN.head())   #验证结果"
   ]
  },
  {
   "cell_type": "code",
   "execution_count": 14,
   "metadata": {},
   "outputs": [
    {
     "name": "stdout",
     "output_type": "stream",
     "text": [
      "2306张假阳性图片数据\n"
     ]
    }
   ],
   "source": [
    "print(\"{}张假阳性图片数据\".format(len(df_FP)))"
   ]
  },
  {
   "cell_type": "code",
   "execution_count": 15,
   "metadata": {},
   "outputs": [],
   "source": [
    "output_path =  r'/Users/edz/Documents/My-work/Daily_work/算法结果统计/mine/导出Result'\n",
    "output_file = r'/df_V3.4.1版本_11806.xlsx'   \n",
    "writer = pd.ExcelWriter(output_path+output_file)\n",
    "df_FP.to_excel(writer,sheet_name='df_FP误诊',index=None)   #  “假阳性——误诊“\n",
    "df_FN.to_excel(writer,sheet_name='df_FN漏诊',index=None)    # “假阴性——漏诊”\n",
    "writer.save()"
   ]
  },
  {
   "cell_type": "markdown",
   "metadata": {},
   "source": [
    "# Part02 算法“误诊”的数据由两部分组成：\n",
    "（1）图片确实存在明显病灶，尽管医生诊断患者为阴性，但算法是基于”病灶正确标注“设计的，因此算法的判断结果——正确；<br>\n",
    "（2）图片的病灶不确定，由于医生诊断患者为阴性，此时仍以医生的结果为准，认为算法的病灶标注错误，因此算法的判断结果——错误；\n",
    "接下来，人工审核环节的主要工作就是校核找出（1）部分的”假阳性“算法数据。\n",
    "<br>筛查标准列”Screening_standard“=修改过的——医生诊断结果列”Doctor_standard“（修改”假阳性“数据中图片存在明显病灶的医生诊断结果数据为”阳性“）\n",
    "## 根据筛选出的”假阳“图片名称，寻找对应的图片，并将其copy到指定文件夹下"
   ]
  },
  {
   "cell_type": "code",
   "execution_count": 16,
   "metadata": {},
   "outputs": [],
   "source": [
    "df_FP.reset_index(drop=True,inplace=True)   # 重置索引\n",
    "df_FN.reset_index(drop=True,inplace=True)   # 重置索引"
   ]
  },
  {
   "cell_type": "code",
   "execution_count": null,
   "metadata": {},
   "outputs": [],
   "source": [
    "df_FP.head()"
   ]
  },
  {
   "cell_type": "code",
   "execution_count": null,
   "metadata": {},
   "outputs": [],
   "source": [
    "df_FN.head()"
   ]
  },
  {
   "cell_type": "code",
   "execution_count": 17,
   "metadata": {},
   "outputs": [],
   "source": [
    "select_list_FP = []   # 定义存放df_FP图片名称的列表\n",
    "for i in range(len(df_FP['md5'])):\n",
    "    select_list_FP.append(df_FP.at[i,'md5'])\n",
    "\n",
    "select_list_FN = []   # 定义存放df_FN图片名称的列表\n",
    "for i in range(len(df_FN['md5'])):\n",
    "    select_list_FN.append(df_FN.at[i,'md5'])    "
   ]
  },
  {
   "cell_type": "code",
   "execution_count": null,
   "metadata": {},
   "outputs": [],
   "source": [
    "copy_image_path_FN = r'/Users/edz/Documents/My-work/Daily_work/算法结果统计/mine/导出Result/FN_image_11806'\n",
    "copy_image_path_FP = r'/Users/edz/Documents/My-work/Daily_work/算法结果统计/mine/导出Result/FP_image_11806'\n",
    "Label_image_path = r'/Users/edz/Documents/My-work/Daily_work/算法结果统计/v3.4.1/11806/result_11806'\n",
    "n = 0  # 统计数目\n",
    "m = 0\n",
    "for maindir, subdir, file_name_list in os.walk(Label_image_path):\n",
    "#     print(maindir)\n",
    "    for filename in file_name_list:\n",
    "        if filename.endswith('.jpg' or '.JPG'):\n",
    "            if filename in select_list_FP:\n",
    "                olddir = os.path.join(maindir,filename)\n",
    "#                 print(filename,'在目标文件夹中')\n",
    "                copy_filedir_FP = os.path.join(copy_image_path_FP,filename)   # copy_filedir定义了copy_FP图片的目标文件夹\n",
    "                n += 1\n",
    "                shutil.copy(olddir,copy_filedir_FP)   # 执行Copy图片的操作\n",
    "            elif filename in select_list_FN:\n",
    "                olddir = os.path.join(maindir,filename)\n",
    "#                 print(filename,'在目标文件夹中')\n",
    "                copy_filedir_FN = os.path.join(copy_image_path_FN,filename)   # copy_filedir定义了copy_FN图片的目标文件夹\n",
    "                m += 1\n",
    "                shutil.copy(olddir,copy_filedir_FN)   # 执行Copy图片的操作\n",
    "            else:\n",
    "                pass\n",
    "\n",
    "print('FP符合的文件数',n)  \n",
    "print('FN符合的文件数',m)  "
   ]
  },
  {
   "cell_type": "markdown",
   "metadata": {},
   "source": [
    "## Part03：对于”假阳性图片“：即：医生诊断为阴性，但算法标注为”有病灶（即：阳性）“\n",
    "基于人工审核过，过滤掉”医生诊断为阴性，但图像标注确实是有病灶的图片“，其余的算作算法标注病灶错误。"
   ]
  },
  {
   "cell_type": "code",
   "execution_count": 18,
   "metadata": {},
   "outputs": [
    {
     "name": "stdout",
     "output_type": "stream",
     "text": [
      "820 doctor诊断结果的column中需要修改为阳性的行数据总条数！\n"
     ]
    }
   ],
   "source": [
    "# 将筛选出的中文件夹的图片文件的文件名提取出来，并且转化为”图片名称的list“\n",
    "input_doctor_modified_path = r'/Users/edz/Documents/My-work/Daily_work/算法结果统计/mine/导入Data/算法正确-820'\n",
    "doctor_modified_list = []\n",
    "for maindir, subdir,file_name_list in os.walk(input_doctor_modified_path):\n",
    "    for filename in file_name_list:\n",
    "        if filename.endswith('.jpg' or '.JPG'):\n",
    "            doctor_modified_list.append(filename)\n",
    "print(len(doctor_modified_list),'doctor诊断结果的column中需要修改为阳性的行数据总条数！')"
   ]
  },
  {
   "cell_type": "code",
   "execution_count": 19,
   "metadata": {},
   "outputs": [
    {
     "name": "stdout",
     "output_type": "stream",
     "text": [
      "   main_pid  姓名                                   md5  Doctor_standard  Screening_standard  v3.2  doc check1  doc check sick_name sick_name-chuli                                    path  Arithmetic_result\n",
      "0  10374185  艾迪  980e27e19bac3595c979442bc3aeda17.jpg                0                   0     0           0          0        健康              健康  R_788319b735bf5111b3e9e6eebc57df9f.jpg                  0\n",
      "1  10374185  艾迪  c377db0f41c6e4da4fcb005bd5461f68.jpg                0                   0     0           0          0        健康              健康  L_daca7354df0a4ddff060993befc594bf.jpg                  0\n",
      "2  10376875  艾军  3c9e3895f69da41026f308c3e36854ca.jpg                0                   0     0           0          0        健康              健康  R_190410cae8d911541a267e24cf0d99b2.jpg                  0\n",
      "3  10376875  艾军  f88efdef54cf4b7408aa68a89e160ea2.jpg                0                   0     0           0          0        健康              健康  L_5bf00f2f255834e28d22dc31cf64e8f2.jpg                  0\n",
      "4  10374579  艾鑫  52b12a8c1428e4b464d5fed6099c3c9e.jpg                0                   0     0           0          0      屈光不正               #  L_2f55506360af7b4a2dfea5f22d7fae09.jpg                  0\n"
     ]
    }
   ],
   "source": [
    "# 将原”Doctor_standard“列复制给”筛查标准列“，此处即：”Screening_standard“列\n",
    "df.insert(df.columns.get_loc('Doctor_standard')+1,'Screening_standard',value=df['Doctor_standard'])   # 指定位置插入插入指定列，同时用指定的某列的值填充对应项\n",
    "print(df.head())   #验证插入列是否符合要求"
   ]
  },
  {
   "cell_type": "code",
   "execution_count": 20,
   "metadata": {},
   "outputs": [
    {
     "name": "stdout",
     "output_type": "stream",
     "text": [
      "\"Screening_standard\"列修改——基于doctor诊断结果列”Doctor_standard“中共计820条数据需修改为阳性（即：1）~\n"
     ]
    }
   ],
   "source": [
    "# 修改template_mine.xls中”Doctor_standard“为”0“（即：人工审核后52张医生诊段结果为阴性，但算法标注图像确实存在病灶的图片，此时将医生诊断结果”doc“列的结果修改为阳性，作为新的筛查标准）\n",
    "m = 0\n",
    "for i in range(len(df['md5'])):\n",
    "    if df.at[i,'md5'] in doctor_modified_list:\n",
    "        #print(df_template_gai.at[i,'doc'])\n",
    "        df.at[i,'Screening_standard'] = 1   # 修改'Screening_standard'列\n",
    "        m += 1\n",
    "    else:\n",
    "        pass\n",
    "print('\"Screening_standard\"列修改——基于doctor诊断结果列”Doctor_standard“中共计{}条数据需修改为阳性（即：1）~'.format(m))    "
   ]
  },
  {
   "cell_type": "code",
   "execution_count": 21,
   "metadata": {},
   "outputs": [
    {
     "name": "stdout",
     "output_type": "stream",
     "text": [
      "820\n"
     ]
    }
   ],
   "source": [
    "# 直接筛选出'Doctor_standard','Screening_standard'两列值不相等的行数据的DataFrame,# 验证修改成功\n",
    "a = df.loc[df['Doctor_standard'] != df['Screening_standard'],['Doctor_standard','Screening_standard']]\n",
    "print(len(a))"
   ]
  },
  {
   "cell_type": "code",
   "execution_count": 22,
   "metadata": {},
   "outputs": [],
   "source": [
    "template_last_output_path = r'/Users/edz/Documents/My-work/Daily_work/算法结果统计/mine/导出Result'\n",
    "template_last_file = r'/template_last_11806.xlsx'\n",
    "writer1 = pd.ExcelWriter(template_last_output_path + template_last_file)\n",
    "df.to_excel(writer1,sheet_name='V3.4.1版本',index=None)\n",
    "writer1.save()"
   ]
  },
  {
   "cell_type": "code",
   "execution_count": null,
   "metadata": {},
   "outputs": [],
   "source": [
    "df.head()"
   ]
  },
  {
   "cell_type": "markdown",
   "metadata": {},
   "source": [
    "## Part04 输出符合要求的统计表\n",
    "基于“图片”维度和“患者”两个类别：\n",
    "<br>分别比较、统计:\n",
    "<br>(a)算法结果“Arithmetic_result”与医生诊断结果“Doctor_standard”的不同标签的样本数，以及“敏感性”、“特异性”和“准确性”；\n",
    "<br>(a)算法结果“Arithmetic_result”与筛查标准结果“Screening_standard”的不同标签的样本数，以及“敏感性”、“特异性”和“准确性”；"
   ]
  },
  {
   "cell_type": "markdown",
   "metadata": {},
   "source": [
    "## (1) 图片维度\n"
   ]
  },
  {
   "cell_type": "code",
   "execution_count": null,
   "metadata": {},
   "outputs": [],
   "source": [
    "# Table_image = pd.DataFrame(columns=['属性_class','诊断标准_count','筛查标准_count'])"
   ]
  },
  {
   "cell_type": "markdown",
   "metadata": {},
   "source": [
    "### “敏感性”、“特异性”和“准确性”的计算公式如下：\n",
    "<br>(1)敏感性：TP/(TP+FN)\n",
    "<br>(2)特异性：TN/(TN+FP)\n",
    "<br>(3)准确性：(TP+TN)/(TP+TN+FP+FN)"
   ]
  },
  {
   "cell_type": "code",
   "execution_count": 23,
   "metadata": {},
   "outputs": [],
   "source": [
    "# 计算 “敏感性”、“特异性”和“准确性”\n",
    "def statistics_fun(dfname_TP,dfname_FP,dfname_TN,dfname_FN):\n",
    "    Sensibility = round((dfname_TP.shape[0] / (dfname_TP.shape[0] + dfname_FN.shape[0])),4)\n",
    "    Specificity = round((dfname_TN.shape[0] / (dfname_TN.shape[0] + dfname_FP.shape[0])),4)\n",
    "    Accuracy = round(((dfname_TP.shape[0] + dfname_TN.shape[0]) / (dfname_TP.shape[0]+dfname_FP.shape[0] + dfname_TN.shape[0] + dfname_FN.shape[0])),4)\n",
    "    print(\"Sensibility:{}, Specificity:{}, Accuracy:{}\".format(Sensibility, Specificity, Accuracy))\n",
    "    return Sensibility, Specificity, Accuracy"
   ]
  },
  {
   "cell_type": "code",
   "execution_count": 24,
   "metadata": {},
   "outputs": [
    {
     "name": "stdout",
     "output_type": "stream",
     "text": [
      "343 2306 8970 187\n"
     ]
    }
   ],
   "source": [
    "print(df_TP.shape[0],df_FP.shape[0],df_TN.shape[0],df_FN.shape[0])"
   ]
  },
  {
   "cell_type": "code",
   "execution_count": 25,
   "metadata": {},
   "outputs": [],
   "source": [
    "def classification_stantistics_fun(df_item):\n",
    "    #根据指定筛选条件对算法数据进行分类——诊断标准\n",
    "    df_item_TP = df_item[(df_item['Doctor_standard']==1) & (df_item['Arithmetic_result']==1)]   # 真阳性\n",
    "    df_item_FP = df_item[(df_item['Doctor_standard']==0) & (df_item['Arithmetic_result']==1)]   # 假阳性——误诊\n",
    "    df_item_TN = df_item[(df_item['Doctor_standard']==0) & (df_item['Arithmetic_result']==0)]   # 真阴性\n",
    "    df_item_FN = df_item[(df_item['Doctor_standard']==1) & (df_item['Arithmetic_result']==0)]   # 假阴性——漏诊\n",
    "    print(\"诊断标准：\")\n",
    "    print(\"TP:{}, FP:{}, TN:{}, FN:{}\".format(df_item_TP.shape[0],df_item_FP.shape[0],df_item_TN.shape[0],df_item_FN.shape[0]))   #验证结果\n",
    "    \n",
    "    Sensibility = round((df_item_TP.shape[0] / (df_item_TP.shape[0] + df_item_FN.shape[0])),4)\n",
    "    Specificity = round((df_item_TN.shape[0] / (df_item_TN.shape[0] + df_item_FP.shape[0])),4)\n",
    "    Accuracy = round(((df_item_TP.shape[0] + df_item_TN.shape[0]) / (df_item_TP.shape[0]+df_item_FP.shape[0] + df_item_TN.shape[0] + df_item_FN.shape[0])),4)\n",
    "    print(\"Sensibility:{}, Specificity:{}, Accuracy:{}\".format(Sensibility, Specificity, Accuracy))\n",
    "#     return Sensibility, Specificity, Accuracy\n",
    "    #     statistics_fun(df_item_TP,df_item_FP,df_item_TN,df_item_FN)   # 调用函数——计算Sensibility, Specificity, Accuracy\n",
    "    \n",
    "    #根据指定筛选条件对算法数据进行分类——筛查标准\n",
    "    df_item_sc_TP = df_item[(df_item['Screening_standard']==1) & (df_item['Arithmetic_result']==1)]   # 真阳性\n",
    "    df_item_sc_FP = df_item[(df_item['Screening_standard']==0) & (df_item['Arithmetic_result']==1)]   # 假阳性——误诊\n",
    "    df_item_sc_TN = df_item[(df_item['Screening_standard']==0) & (df_item['Arithmetic_result']==0)]   # 真阴性\n",
    "    df_item_sc_FN = df_item[(df_item['Screening_standard']==1) & (df_item['Arithmetic_result']==0)]   # 假阴性——漏诊\n",
    "    print(\"筛查标准：\")\n",
    "    print(\"TP:{}, FP:{}, TN:{}, FN:{}\".format(df_item_sc_TP.shape[0],df_item_sc_FP.shape[0],\n",
    "                                              df_item_sc_TN.shape[0],df_item_sc_FN.shape[0]))   #验证结果\n",
    "    \n",
    "    Sensibility_sc = round((df_item_sc_TP.shape[0] / (df_item_sc_TP.shape[0] + df_item_sc_FN.shape[0])),4)\n",
    "    Specificity_sc = round((df_item_sc_TN.shape[0] / (df_item_sc_TN.shape[0] + df_item_sc_FP.shape[0])),4)\n",
    "    Accuracy_sc = round(((df_item_sc_TP.shape[0] + df_item_sc_TN.shape[0]) / (df_item_sc_TP.shape[0]+\n",
    "                        df_item_sc_FP.shape[0] + df_item_sc_TN.shape[0] + df_item_sc_FN.shape[0])),4)\n",
    "    print(\"Sensibility:{}, Specificity:{}, Accuracy:{}\".format(Sensibility_sc, Specificity_sc, Accuracy_sc))\n",
    "#     return Sensibility_sc, Specificity_sc, Accuracy_sc\n",
    "#     statistics_fun(df_item_sc_TP,df_item_sc_FP,df_item_sc_TN,df_item_sc_FN)   # 调用函数——计算Sensibility, Specificity, Accuracy\n",
    "    \n",
    "#     return df_item_TP,df_item_FP,df_item_TN,df_item_FN,df_item_sc_TP,df_item_sc_FP,df_item_sc_TN,df_item_sc_FN\n",
    "    \n",
    "    global Table_item  #定义全局变量，局部变量在函数调用结束即释放，因此无法后续调用！！！\n",
    "    Table_item = pd.DataFrame(columns=['属性_class','诊断标准_count','筛查标准_count'])\n",
    "    Table_item['属性_class'] = ['TP','FP','TN','FN','敏感性','特异性','准确性']   # 填充“属性_class”\n",
    "    Table_item['诊断标准_count'] = [df_item_TP.shape[0],df_item_FP.shape[0],df_item_TN.shape[0],df_item_FN.shape[0],\n",
    "                                   str(Sensibility), str(Specificity), str(Accuracy)]\n",
    "    Table_item['筛查标准_count'] = [df_item_sc_TP.shape[0],df_item_sc_FP.shape[0],df_item_sc_TN.shape[0],\n",
    "                                   df_item_sc_FN.shape[0],str(Sensibility_sc), str(Specificity_sc), str(Accuracy_sc)]\n",
    "    \n",
    "    return Table_item"
   ]
  },
  {
   "cell_type": "code",
   "execution_count": 26,
   "metadata": {},
   "outputs": [
    {
     "name": "stdout",
     "output_type": "stream",
     "text": [
      "V3.4.1——图片维度(图片共计：11806张)\n",
      "诊断标准：\n",
      "TP:343, FP:2306, TN:8970, FN:187\n",
      "Sensibility:0.6472, Specificity:0.7955, Accuracy:0.7888\n",
      "筛查标准：\n",
      "TP:1163, FP:1486, TN:8970, FN:187\n",
      "Sensibility:0.8615, Specificity:0.8579, Accuracy:0.8583\n"
     ]
    }
   ],
   "source": [
    "print('V3.4.1——图片维度(图片共计：{}张)'.format(df.shape[0]))\n",
    "Table_image = classification_stantistics_fun(df)"
   ]
  },
  {
   "cell_type": "code",
   "execution_count": 27,
   "metadata": {},
   "outputs": [
    {
     "data": {
      "text/html": [
       "<div>\n",
       "<style scoped>\n",
       "    .dataframe tbody tr th:only-of-type {\n",
       "        vertical-align: middle;\n",
       "    }\n",
       "\n",
       "    .dataframe tbody tr th {\n",
       "        vertical-align: top;\n",
       "    }\n",
       "\n",
       "    .dataframe thead th {\n",
       "        text-align: right;\n",
       "    }\n",
       "</style>\n",
       "<table border=\"1\" class=\"dataframe\">\n",
       "  <thead>\n",
       "    <tr style=\"text-align: right;\">\n",
       "      <th></th>\n",
       "      <th>属性_class</th>\n",
       "      <th>诊断标准_count</th>\n",
       "      <th>筛查标准_count</th>\n",
       "    </tr>\n",
       "  </thead>\n",
       "  <tbody>\n",
       "    <tr>\n",
       "      <th>0</th>\n",
       "      <td>TP</td>\n",
       "      <td>343</td>\n",
       "      <td>1163</td>\n",
       "    </tr>\n",
       "    <tr>\n",
       "      <th>1</th>\n",
       "      <td>FP</td>\n",
       "      <td>2306</td>\n",
       "      <td>1486</td>\n",
       "    </tr>\n",
       "    <tr>\n",
       "      <th>2</th>\n",
       "      <td>TN</td>\n",
       "      <td>8970</td>\n",
       "      <td>8970</td>\n",
       "    </tr>\n",
       "    <tr>\n",
       "      <th>3</th>\n",
       "      <td>FN</td>\n",
       "      <td>187</td>\n",
       "      <td>187</td>\n",
       "    </tr>\n",
       "    <tr>\n",
       "      <th>4</th>\n",
       "      <td>敏感性</td>\n",
       "      <td>0.6472</td>\n",
       "      <td>0.8615</td>\n",
       "    </tr>\n",
       "    <tr>\n",
       "      <th>5</th>\n",
       "      <td>特异性</td>\n",
       "      <td>0.7955</td>\n",
       "      <td>0.8579</td>\n",
       "    </tr>\n",
       "    <tr>\n",
       "      <th>6</th>\n",
       "      <td>准确性</td>\n",
       "      <td>0.7888</td>\n",
       "      <td>0.8583</td>\n",
       "    </tr>\n",
       "  </tbody>\n",
       "</table>\n",
       "</div>"
      ],
      "text/plain": [
       "  属性_class 诊断标准_count 筛查标准_count\n",
       "0       TP        343       1163\n",
       "1       FP       2306       1486\n",
       "2       TN       8970       8970\n",
       "3       FN        187        187\n",
       "4      敏感性     0.6472     0.8615\n",
       "5      特异性     0.7955     0.8579\n",
       "6      准确性     0.7888     0.8583"
      ]
     },
     "execution_count": 27,
     "metadata": {},
     "output_type": "execute_result"
    }
   ],
   "source": [
    "Table_image"
   ]
  },
  {
   "cell_type": "code",
   "execution_count": null,
   "metadata": {},
   "outputs": [],
   "source": [
    "# template_last_output_path = r'/Users/edz/Documents/My-work/Daily_work/算法结果统计/mine/导出Result/template_last_excel'\n",
    "# template_last_file = r'/template_last_11806_V3.4.1版本.xlsx'\n",
    "# writer1 = pd.ExcelWriter(template_last_output_path + template_last_file)\n",
    "# Table_image.to_excel(writer1,sheet_name='V3.4.1版本_图片维度_分表',index=None)\n",
    "# writer1.save()"
   ]
  },
  {
   "cell_type": "markdown",
   "metadata": {},
   "source": [
    "## 患者标准"
   ]
  },
  {
   "cell_type": "code",
   "execution_count": 30,
   "metadata": {},
   "outputs": [
    {
     "name": "stdout",
     "output_type": "stream",
     "text": [
      "Index(['main_pid', '姓名', 'md5', 'Doctor_standard', 'Screening_standard',\n",
      "       'v3.2', 'doc check1', 'doc check', 'sick_name', 'sick_name-chuli',\n",
      "       'path', 'Arithmetic_result'],\n",
      "      dtype='object')\n"
     ]
    }
   ],
   "source": [
    "# 调试——列名不一致问题\n",
    "print(df.columns)\n",
    "# if '姓名' in df.columnsolumns\n",
    "df.rename(columns={'姓名':'name'},inplace=True)"
   ]
  },
  {
   "cell_type": "code",
   "execution_count": 31,
   "metadata": {},
   "outputs": [
    {
     "data": {
      "text/html": [
       "<div>\n",
       "<style scoped>\n",
       "    .dataframe tbody tr th:only-of-type {\n",
       "        vertical-align: middle;\n",
       "    }\n",
       "\n",
       "    .dataframe tbody tr th {\n",
       "        vertical-align: top;\n",
       "    }\n",
       "\n",
       "    .dataframe thead th {\n",
       "        text-align: right;\n",
       "    }\n",
       "</style>\n",
       "<table border=\"1\" class=\"dataframe\">\n",
       "  <thead>\n",
       "    <tr style=\"text-align: right;\">\n",
       "      <th></th>\n",
       "      <th>Doctor_standard</th>\n",
       "      <th>Screening_standard</th>\n",
       "      <th>Arithmetic_result</th>\n",
       "    </tr>\n",
       "    <tr>\n",
       "      <th>name</th>\n",
       "      <th></th>\n",
       "      <th></th>\n",
       "      <th></th>\n",
       "    </tr>\n",
       "  </thead>\n",
       "  <tbody>\n",
       "    <tr>\n",
       "      <th>艾迪</th>\n",
       "      <td>0</td>\n",
       "      <td>0</td>\n",
       "      <td>0</td>\n",
       "    </tr>\n",
       "    <tr>\n",
       "      <th>艾军</th>\n",
       "      <td>0</td>\n",
       "      <td>0</td>\n",
       "      <td>0</td>\n",
       "    </tr>\n",
       "    <tr>\n",
       "      <th>艾鑫</th>\n",
       "      <td>0</td>\n",
       "      <td>0</td>\n",
       "      <td>0</td>\n",
       "    </tr>\n",
       "    <tr>\n",
       "      <th>安法元</th>\n",
       "      <td>0</td>\n",
       "      <td>0</td>\n",
       "      <td>0</td>\n",
       "    </tr>\n",
       "    <tr>\n",
       "      <th>安夫国</th>\n",
       "      <td>0</td>\n",
       "      <td>0</td>\n",
       "      <td>0</td>\n",
       "    </tr>\n",
       "  </tbody>\n",
       "</table>\n",
       "</div>"
      ],
      "text/plain": [
       "      Doctor_standard  Screening_standard  Arithmetic_result\n",
       "name                                                        \n",
       "艾迪                  0                   0                  0\n",
       "艾军                  0                   0                  0\n",
       "艾鑫                  0                   0                  0\n",
       "安法元                 0                   0                  0\n",
       "安夫国                 0                   0                  0"
      ]
     },
     "execution_count": 31,
     "metadata": {},
     "output_type": "execute_result"
    }
   ],
   "source": [
    "df_patient = df[['name','Doctor_standard','Screening_standard','Arithmetic_result']].groupby(by=df['name'],sort=False).sum()\n",
    "df_patient.head()"
   ]
  },
  {
   "cell_type": "code",
   "execution_count": 32,
   "metadata": {},
   "outputs": [
    {
     "name": "stdout",
     "output_type": "stream",
     "text": [
      "患者共计5271人\n"
     ]
    }
   ],
   "source": [
    "print(\"患者共计{}人\".format(df_patient.shape[0]))"
   ]
  },
  {
   "cell_type": "markdown",
   "metadata": {},
   "source": [
    "### 列表去重\n",
    "ids = [1,4,3,3,4,2,3,4,5,6,1]\n",
    "\n",
    "ids = list(set(ids))"
   ]
  },
  {
   "cell_type": "code",
   "execution_count": 33,
   "metadata": {},
   "outputs": [
    {
     "name": "stdout",
     "output_type": "stream",
     "text": [
      "[0, 1, 2, 3, 4, 5, 6]\n"
     ]
    }
   ],
   "source": [
    "# 获取Doctor_standard、Screening_standard和Arithmetic_result的3列的value_counts()为组合情形的列表\n",
    "different_index_list_a = df_patient['Doctor_standard'].value_counts().index.tolist() # 获取同一患者拍摄多张图片的可能的取值情况的列表,.reset_index() # 将索引列index转为普通列\n",
    "different_index_list_b = df_patient['Screening_standard'].value_counts().index.tolist() \n",
    "different_index_list_c = df_patient['Arithmetic_result'].value_counts().index.tolist() \n",
    "# 合并列表\n",
    "different_index_list = list(set(different_index_list_a+different_index_list_b+different_index_list_c))\n",
    "print(different_index_list) "
   ]
  },
  {
   "cell_type": "code",
   "execution_count": 34,
   "metadata": {},
   "outputs": [],
   "source": [
    "#替换>1的项的值为1，其余不变~\n",
    "df_patient['Screening_standard'].replace(2, 1 ,inplace=True)\n",
    "for i in range(len(different_index_list)):\n",
    "    if (different_index_list[i] == 0) or (different_index_list[i] == 1):\n",
    "        pass\n",
    "    else:\n",
    "        df_patient['Doctor_standard'].replace(different_index_list[i], 1 ,inplace=True)  #替换>1的项的值为1，其余不变~\n",
    "        df_patient['Screening_standard'].replace(different_index_list[i], 1 ,inplace=True)\n",
    "        df_patient['Arithmetic_result'].replace(different_index_list[i], 1 ,inplace=True)"
   ]
  },
  {
   "cell_type": "code",
   "execution_count": 35,
   "metadata": {},
   "outputs": [
    {
     "name": "stdout",
     "output_type": "stream",
     "text": [
      "0    4917\n",
      "1     354\n",
      "Name: Doctor_standard, dtype: int64\n",
      "0    4264\n",
      "1    1007\n",
      "Name: Screening_standard, dtype: int64\n",
      "0    3250\n",
      "1    2021\n",
      "Name: Arithmetic_result, dtype: int64\n"
     ]
    }
   ],
   "source": [
    "# 验证替换成功\n",
    "print(df_patient['Doctor_standard'].value_counts())\n",
    "print(df_patient['Screening_standard'].value_counts())\n",
    "print(df_patient['Arithmetic_result'].value_counts())"
   ]
  },
  {
   "cell_type": "code",
   "execution_count": 36,
   "metadata": {},
   "outputs": [
    {
     "data": {
      "text/html": [
       "<div>\n",
       "<style scoped>\n",
       "    .dataframe tbody tr th:only-of-type {\n",
       "        vertical-align: middle;\n",
       "    }\n",
       "\n",
       "    .dataframe tbody tr th {\n",
       "        vertical-align: top;\n",
       "    }\n",
       "\n",
       "    .dataframe thead th {\n",
       "        text-align: right;\n",
       "    }\n",
       "</style>\n",
       "<table border=\"1\" class=\"dataframe\">\n",
       "  <thead>\n",
       "    <tr style=\"text-align: right;\">\n",
       "      <th></th>\n",
       "      <th>Doctor_standard</th>\n",
       "      <th>Screening_standard</th>\n",
       "      <th>Arithmetic_result</th>\n",
       "    </tr>\n",
       "    <tr>\n",
       "      <th>name</th>\n",
       "      <th></th>\n",
       "      <th></th>\n",
       "      <th></th>\n",
       "    </tr>\n",
       "  </thead>\n",
       "  <tbody>\n",
       "    <tr>\n",
       "      <th>艾迪</th>\n",
       "      <td>0</td>\n",
       "      <td>0</td>\n",
       "      <td>0</td>\n",
       "    </tr>\n",
       "    <tr>\n",
       "      <th>艾军</th>\n",
       "      <td>0</td>\n",
       "      <td>0</td>\n",
       "      <td>0</td>\n",
       "    </tr>\n",
       "    <tr>\n",
       "      <th>艾鑫</th>\n",
       "      <td>0</td>\n",
       "      <td>0</td>\n",
       "      <td>0</td>\n",
       "    </tr>\n",
       "    <tr>\n",
       "      <th>安法元</th>\n",
       "      <td>0</td>\n",
       "      <td>0</td>\n",
       "      <td>0</td>\n",
       "    </tr>\n",
       "    <tr>\n",
       "      <th>安夫国</th>\n",
       "      <td>0</td>\n",
       "      <td>0</td>\n",
       "      <td>0</td>\n",
       "    </tr>\n",
       "  </tbody>\n",
       "</table>\n",
       "</div>"
      ],
      "text/plain": [
       "      Doctor_standard  Screening_standard  Arithmetic_result\n",
       "name                                                        \n",
       "艾迪                  0                   0                  0\n",
       "艾军                  0                   0                  0\n",
       "艾鑫                  0                   0                  0\n",
       "安法元                 0                   0                  0\n",
       "安夫国                 0                   0                  0"
      ]
     },
     "execution_count": 36,
     "metadata": {},
     "output_type": "execute_result"
    }
   ],
   "source": [
    "df_patient.head()"
   ]
  },
  {
   "cell_type": "code",
   "execution_count": 37,
   "metadata": {},
   "outputs": [
    {
     "name": "stdout",
     "output_type": "stream",
     "text": [
      "V3.4.1——患者维度：(患者共计：5271人)\n",
      "诊断标准：\n",
      "TP:266, FP:1755, TN:3162, FN:88\n",
      "Sensibility:0.7514, Specificity:0.6431, Accuracy:0.6504\n",
      "筛查标准：\n",
      "TP:919, FP:1102, TN:3162, FN:88\n",
      "Sensibility:0.9126, Specificity:0.7416, Accuracy:0.7742\n",
      "  属性_class 诊断标准_count 筛查标准_count\n",
      "0       TP        266        919\n",
      "1       FP       1755       1102\n",
      "2       TN       3162       3162\n",
      "3       FN         88         88\n",
      "4      敏感性     0.7514     0.9126\n",
      "5      特异性     0.6431     0.7416\n",
      "6      准确性     0.6504     0.7742\n"
     ]
    }
   ],
   "source": [
    "print('V3.4.1——患者维度：(患者共计：{}人)'.format(df_patient.shape[0]))\n",
    "Table_patient = classification_stantistics_fun(df_patient)\n",
    "print(Table_patient)"
   ]
  },
  {
   "cell_type": "code",
   "execution_count": 38,
   "metadata": {},
   "outputs": [
    {
     "name": "stdout",
     "output_type": "stream",
     "text": [
      "<class 'int'>\n",
      "<class 'int'>\n",
      "<class 'int'>\n",
      "<class 'int'>\n",
      "患者维度：TP、FP、TN、FN各项的累加之和：5271~与患者总人数一致！\n"
     ]
    }
   ],
   "source": [
    "#校验以\"患者\"维度分段聚合后，图片数量和患者数量的总数保持一致\n",
    "patient_items = 0   # 初始化为0\n",
    "for i in range(4):\n",
    "    print(type(int(Table_patient.at[i,'诊断标准_count'])))    # 将字符型转为int型，后续累加TP、FP、TN、FN各项的累加和是否为“患者”总人数\n",
    "    patient_items += Table_patient.at[i,'诊断标准_count']\n",
    "if patient_items==df_patient.shape[0]:\n",
    "    print(\"患者维度：TP、FP、TN、FN各项的累加之和：{}~与患者总人数一致！\".format(patient_items))\n",
    "else:\n",
    "    print(\"ERROR:患者维度：TP、FP、TN、FN各项的累加之和与患者总人数相差{}人\".format(df_patient.shape[0] - patient_items))"
   ]
  },
  {
   "cell_type": "code",
   "execution_count": 46,
   "metadata": {},
   "outputs": [],
   "source": [
    "template_last_output_path = r'/Users/edz/Documents/My-work/Daily_work/算法结果统计/mine/导出Result/template_last_table'\n",
    "template_last_file = r'/template_last_11806_V3.4.1版本_分表.xlsx'\n",
    "writer1 = pd.ExcelWriter(template_last_output_path + template_last_file)\n",
    "Table_image.to_excel(writer1,sheet_name='V3.4.1版本_图片维度_分表',index=None)\n",
    "Table_patient.to_excel(writer1,sheet_name='V3.4.1版本_患者维度',index=None)\n",
    "writer1.save()"
   ]
  },
  {
   "cell_type": "code",
   "execution_count": null,
   "metadata": {},
   "outputs": [],
   "source": []
  }
 ],
 "metadata": {
  "kernelspec": {
   "display_name": "Python 3",
   "language": "python",
   "name": "python3"
  },
  "language_info": {
   "codemirror_mode": {
    "name": "ipython",
    "version": 3
   },
   "file_extension": ".py",
   "mimetype": "text/x-python",
   "name": "python",
   "nbconvert_exporter": "python",
   "pygments_lexer": "ipython3",
   "version": "3.7.5"
  }
 },
 "nbformat": 4,
 "nbformat_minor": 2
}
