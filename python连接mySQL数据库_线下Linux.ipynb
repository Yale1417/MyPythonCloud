{
 "cells": [
  {
   "cell_type": "markdown",
   "metadata": {},
   "source": [
    "## 使用python3实现mysql导出数据到文件的脚本"
   ]
  },
  {
   "cell_type": "markdown",
   "metadata": {},
   "source": [
    "##### mysql分页直接用limit start, count分页语句：\n",
    "select * from product limit start, count  从start开始分页,每页取count条"
   ]
  },
  {
   "cell_type": "code",
   "execution_count": 1,
   "metadata": {},
   "outputs": [
    {
     "name": "stdout",
     "output_type": "stream",
     "text": [
      "import succed!\n"
     ]
    }
   ],
   "source": [
    "# 导入pymysql模块\n",
    "import pymysql\n",
    "import time \n",
    "import math\n",
    "import pandas as pd\n",
    "pd.set_option(\"display.max_columns\",None)\n",
    "pd.set_option(\"display.max_rows\",None)\n",
    "pd.set_option(\"expand.frame_repr\",False)\n",
    "print('import succed!')"
   ]
  },
  {
   "cell_type": "code",
   "execution_count": 2,
   "metadata": {},
   "outputs": [],
   "source": [
    "# 建立连接——连接database数据库\n",
    "conn = pymysql.connect(\n",
    "    host=\"114.215.123.44\", \n",
    "    port =3306, \n",
    "    user=\"root\", \n",
    "    password=\"W01fstudio\",\n",
    "    charset=\"utf8\")"
   ]
  },
  {
   "cell_type": "code",
   "execution_count": 3,
   "metadata": {},
   "outputs": [],
   "source": [
    "# 获取光标——得到一个可以执行SQL语句的光标对象\n",
    "cursor = conn.cursor()"
   ]
  },
  {
   "cell_type": "code",
   "execution_count": 4,
   "metadata": {},
   "outputs": [
    {
     "name": "stdout",
     "output_type": "stream",
     "text": [
      "欲查询的Table包含——256条数据\n"
     ]
    }
   ],
   "source": [
    "# 统计总的条目数\n",
    "sql1 = \"select fromcheckid,sendreadtime,casehospitalname,readhospitalname from zn_ai.d_baseinfo;\" # 输出数据库zn_ai.d_baseinfo表包含的总数据量\n",
    "print(\"欲查询的Table包含——{}条数据\".format(cursor.execute(sql1)))"
   ]
  },
  {
   "cell_type": "code",
   "execution_count": 5,
   "metadata": {},
   "outputs": [],
   "source": [
    "def select_fuc(sql_x, limit_num, count_scale_x):\n",
    "    df_last = pd.DataFrame()\n",
    "    for i in range(count_scale_x):    # range(n) —— 表示循环 n 次 \n",
    "        start_num = 0 + limit_num*i    # 导出数据的开始索引\n",
    "        end_num = limit_num * (i+1)   # 导出数据的末尾索引\n",
    "\n",
    "        start_num_i = str(start_num)   # 起始数据索引——转为字符形式str\n",
    "        end_num_i = str(end_num)       # 末尾数据索引——转为字符形式str\n",
    "        limit_num_i = str(limit_num) \n",
    "#         print(\"起始索引_{0},终止索引_{1}\".format(start_num_i,end_num_i))\n",
    "        sql = sql_x + start_num_i + \",\" + limit_num_i + \";\"\n",
    "        cursor.execute(sql)      # 执行SQL语句\n",
    "        data  = cursor.fetchall()  # 使用fetchone()方法创建一个游标对象   \n",
    "    #     print(data)\n",
    "    #     print(\"=\"*50)\n",
    "        df_last = df_last.append(pd.DataFrame(data),ignore_index=True)   # 添加数据集子  ignore_index=True表示重排列索引\n",
    "#         print(df_last)\n",
    "    print(\"合并后的数据总量：{}\".format(df_last.shape[0]))\n",
    "        \n",
    "    return df_last"
   ]
  },
  {
   "cell_type": "markdown",
   "metadata": {},
   "source": [
    "# 设置参数\n",
    "limit_num = 50   # 数据规格大小\n",
    "sql_x = \"select fromcheckid,sendreadtime,casehospitalname,readhospitalname from zn_ai.d_baseinfo limit \" \n",
    "df_temp01 = select_fuc(sql_x,limit_num)  # 调用查询数据函数，并写入定义的空DataFrame中，用于存放查询出来的数据\n",
    "df_temp01.columns = ['fromcheckid','sendreadtime','casehospitalname','readhospitalname']    # 重命名列名\n",
    "\n",
    "#### （1）向上取整：math.ceil()——严格遵循向上取整，所有小数都是向着数值更大的方向取整，不论正负数都如此\n",
    "#### （2）四舍五入：round()——round()当不传入第二个参数时默认取整，具体就是按照四舍五入来。但值得一提的是这里对小数末尾为5的处理方法：当末尾的5的前一位为奇数：向绝对值更大的方向取整（比如-1.5、1.5处理结果）；当末尾的5的前一位为偶数：去尾取整（比如-2.5，-0.5，0.5和2.5的处理结果）。\n",
    "例如：round(1.5) >>> 2      round(2.5)  >>> 2\n",
    "#### （3）向下取整：math.floor()——简单且忠实地向下取整\n",
    "#### （4）两个有趣且特殊的Python取整：int()、整除\"//\"\n",
    "一句话总结：int()函数是“向0取整”，取整方向总是让结果比小数的绝对值更小；一句话总结：“整除”符号运算将结果忠实地向下取整，与math.floor()处理结果一样"
   ]
  },
  {
   "cell_type": "code",
   "execution_count": 10,
   "metadata": {
    "scrolled": true
   },
   "outputs": [],
   "source": [
    "def output_fuc(table_items,Table_name,limit_num):\n",
    "    for j in range(table_items):\n",
    "        # 统计总的条目数\n",
    "        table_number = 0   # 初始表的索引值\n",
    "        # Table_name = \"d_checkimage_\" + str(table_number)  # 准备导出的表名称 ————————最终使用\n",
    "        print(\"欲导出数据表的名称: {}\".format(Table_name))\n",
    "        sql_count = \"select fromcheckid,sendreadtime,casehospitalname,readhospitalname from zn_ai.\" + Table_name + \"; \"# 输出数据库zn_ai.d_baseinfo表包含的总数据量\n",
    "        table_x_count = cursor.execute(sql_count)  # 统计表_x的容量大小\n",
    "        print(\"欲查询的Table包含——{}条数据\".format(table_x_count))\n",
    "        limit_num = 50    # 导出数据的规格大小\n",
    "        count_scale = math.ceil(table_x_count/limit_num)   # 数据分段大小，math.ceil()向上取整\n",
    "        print(\"原始数据集将被分割为: {} 段\".format(count_scale))\n",
    "        # 定义导出SQL\n",
    "        sql_x = \"select fromcheckid,sendreadtime,casehospitalname,readhospitalname from zn_ai.\" + Table_name + \" limit \"  \n",
    "        table_number += j # 表名称递增\n",
    "        ## 函数调用+整理\n",
    "        df_temp = select_fuc(sql_x, limit_num, count_scale)   # 调用函数\n",
    "        df_temp.columns = [\"fromcheckid\",\"sendreadtime\",\"casehospitalname\",\"readhospitalname\"]   # 重定义列名\n",
    "        ## 校验\n",
    "        a_x = df_temp[df_temp['fromcheckid'].duplicated()==True]\n",
    "        if a_x.shape[0] == 0:\n",
    "            print(\"表——X无重复数据项，结果正确！！！！！\")\n",
    "        else:\n",
    "            print(\"表——X有重复数据项，结果有误！！！！！\")\n",
    "            break\n",
    "        ## 写出数据\n",
    "        houzui = str(j)\n",
    "        output_path = r\"/Users/edz/Documents/yandi_data/AI_data/zd_dc\"\n",
    "        output_file = r\"/d_checkimage_\" + houzui + \".csv\"\n",
    "        df_temp.to_csv(output_path + output_file,index=None)"
   ]
  },
  {
   "cell_type": "markdown",
   "metadata": {},
   "source": [
    "## 函数调用+整理"
   ]
  },
  {
   "cell_type": "code",
   "execution_count": 11,
   "metadata": {
    "collapsed": true
   },
   "outputs": [
    {
     "name": "stdout",
     "output_type": "stream",
     "text": [
      "欲导出数据表的名称: d_baseinfo\n",
      "欲查询的Table包含——256条数据\n",
      "原始数据集将被分割为: 6 段\n",
      "合并后的数据总量：256\n",
      "表——X无重复数据项，结果正确！！！！！\n",
      "欲导出数据表的名称: d_baseinfo\n",
      "欲查询的Table包含——256条数据\n",
      "原始数据集将被分割为: 6 段\n",
      "合并后的数据总量：256\n",
      "表——X无重复数据项，结果正确！！！！！\n",
      "欲导出数据表的名称: d_baseinfo\n",
      "欲查询的Table包含——256条数据\n",
      "原始数据集将被分割为: 6 段\n",
      "合并后的数据总量：256\n",
      "表——X无重复数据项，结果正确！！！！！\n",
      "欲导出数据表的名称: d_baseinfo\n",
      "欲查询的Table包含——256条数据\n",
      "原始数据集将被分割为: 6 段\n",
      "合并后的数据总量：256\n",
      "表——X无重复数据项，结果正确！！！！！\n",
      "欲导出数据表的名称: d_baseinfo\n",
      "欲查询的Table包含——256条数据\n",
      "原始数据集将被分割为: 6 段\n",
      "合并后的数据总量：256\n",
      "表——X无重复数据项，结果正确！！！！！\n",
      "欲导出数据表的名称: d_baseinfo\n",
      "欲查询的Table包含——256条数据\n",
      "原始数据集将被分割为: 6 段\n",
      "合并后的数据总量：256\n",
      "表——X无重复数据项，结果正确！！！！！\n",
      "欲导出数据表的名称: d_baseinfo\n",
      "欲查询的Table包含——256条数据\n",
      "原始数据集将被分割为: 6 段\n",
      "合并后的数据总量：256\n",
      "表——X无重复数据项，结果正确！！！！！\n",
      "欲导出数据表的名称: d_baseinfo\n",
      "欲查询的Table包含——256条数据\n",
      "原始数据集将被分割为: 6 段\n",
      "合并后的数据总量：256\n",
      "表——X无重复数据项，结果正确！！！！！\n",
      "欲导出数据表的名称: d_baseinfo\n",
      "欲查询的Table包含——256条数据\n",
      "原始数据集将被分割为: 6 段\n",
      "合并后的数据总量：256\n",
      "表——X无重复数据项，结果正确！！！！！\n",
      "欲导出数据表的名称: d_baseinfo\n",
      "欲查询的Table包含——256条数据\n",
      "原始数据集将被分割为: 6 段\n",
      "合并后的数据总量：256\n",
      "表——X无重复数据项，结果正确！！！！！\n",
      "欲导出数据表的名称: d_baseinfo\n",
      "欲查询的Table包含——256条数据\n",
      "原始数据集将被分割为: 6 段\n",
      "合并后的数据总量：256\n",
      "表——X无重复数据项，结果正确！！！！！\n",
      "欲导出数据表的名称: d_baseinfo\n",
      "欲查询的Table包含——256条数据\n",
      "原始数据集将被分割为: 6 段\n",
      "合并后的数据总量：256\n",
      "表——X无重复数据项，结果正确！！！！！\n",
      "欲导出数据表的名称: d_baseinfo\n",
      "欲查询的Table包含——256条数据\n",
      "原始数据集将被分割为: 6 段\n",
      "合并后的数据总量：256\n",
      "表——X无重复数据项，结果正确！！！！！\n",
      "欲导出数据表的名称: d_baseinfo\n",
      "欲查询的Table包含——256条数据\n",
      "原始数据集将被分割为: 6 段\n",
      "合并后的数据总量：256\n",
      "表——X无重复数据项，结果正确！！！！！\n",
      "欲导出数据表的名称: d_baseinfo\n",
      "欲查询的Table包含——256条数据\n",
      "原始数据集将被分割为: 6 段\n",
      "合并后的数据总量：256\n",
      "表——X无重复数据项，结果正确！！！！！\n",
      "欲导出数据表的名称: d_baseinfo\n",
      "欲查询的Table包含——256条数据\n",
      "原始数据集将被分割为: 6 段\n",
      "合并后的数据总量：256\n",
      "表——X无重复数据项，结果正确！！！！！\n"
     ]
    }
   ],
   "source": [
    "Table_name_a = \"d_baseinfo\"  # 准备导出的表名称————————暂时使用\n",
    "limit_num_a = 50    # 导出数据的规格大小\n",
    "table_items_a = 16\n",
    "output_fuc(table_items_a,Table_name_a,limit_num_a)"
   ]
  },
  {
   "cell_type": "code",
   "execution_count": null,
   "metadata": {},
   "outputs": [],
   "source": [
    "# sql2 = \"select * from zn_ai.d_baseinfo where fromcheckid!='' and fromcheckid is not null;\""
   ]
  },
  {
   "cell_type": "code",
   "execution_count": null,
   "metadata": {},
   "outputs": [],
   "source": [
    "# 关闭光标对象\n",
    "cursor.close()"
   ]
  },
  {
   "cell_type": "code",
   "execution_count": null,
   "metadata": {},
   "outputs": [],
   "source": [
    "# 关闭数据库连接\n",
    "conn.close()"
   ]
  },
  {
   "cell_type": "code",
   "execution_count": null,
   "metadata": {},
   "outputs": [],
   "source": []
  }
 ],
 "metadata": {
  "kernelspec": {
   "display_name": "Python 3",
   "language": "python",
   "name": "python3"
  },
  "language_info": {
   "codemirror_mode": {
    "name": "ipython",
    "version": 3
   },
   "file_extension": ".py",
   "mimetype": "text/x-python",
   "name": "python",
   "nbconvert_exporter": "python",
   "pygments_lexer": "ipython3",
   "version": "3.7.5"
  }
 },
 "nbformat": 4,
 "nbformat_minor": 2
}
