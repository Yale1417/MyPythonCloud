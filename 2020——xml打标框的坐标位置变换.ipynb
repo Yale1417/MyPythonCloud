{
 "cells": [
  {
   "cell_type": "code",
   "execution_count": 1,
   "metadata": {},
   "outputs": [],
   "source": [
    "import os\n",
    "import re\n",
    "import xml.dom.minidom\n",
    "import xml.etree.ElementTree as ET"
   ]
  },
  {
   "cell_type": "code",
   "execution_count": null,
   "metadata": {},
   "outputs": [],
   "source": []
  },
  {
   "cell_type": "code",
   "execution_count": 2,
   "metadata": {},
   "outputs": [],
   "source": [
    "xml_path = r'/Users/edz/Documents/yandi_data/taishi_loading/file_xml/id15_黄斑前膜/014f80f346d72001267240b1a62f1b72.xml'"
   ]
  },
  {
   "cell_type": "code",
   "execution_count": 3,
   "metadata": {},
   "outputs": [],
   "source": [
    "# 原图像的尺寸和裁剪后新图像的尺寸\n",
    "img_width_new = 1200\n",
    "img_width_old = 1924\n",
    "img_height_new = 1000\n",
    "img_height_old = 1556"
   ]
  },
  {
   "cell_type": "markdown",
   "metadata": {},
   "source": [
    "### XML打标框根据图像尺寸等比例缩放"
   ]
  },
  {
   "cell_type": "code",
   "execution_count": 10,
   "metadata": {},
   "outputs": [],
   "source": [
    "def xml_location_ratio_func(xml_path):\n",
    "    # 定义图片的缩放比率——图片的缩放比例和打标框的缩放比例是相等的\n",
    "    ratio_width = round(img_width_new/img_width_old, 2)\n",
    "    ratio_height = round(img_height_new/img_height_old, 2)\n",
    "    print('ratio_width', ratio_width)\n",
    "    print('ratio_height', ratio_height)\n",
    "\n",
    "    DOMTree = xml.dom.minidom.parse(xml_path)  # 读入xml文件\n",
    "    collection = DOMTree.documentElement\n",
    "    ########## （1）读入打标框的size，并根据缩放比进行修改\n",
    "    sizenamelist = collection.getElementsByTagName('size')  # 第一层——size\n",
    "    for sizes in sizenamelist:\n",
    "        width_set = sizes.getElementsByTagName('width')  # 第二层——width\n",
    "        height_set = sizes.getElementsByTagName('height')  # 第二层——height\n",
    "        # 重新赋值——打标框的尺寸\n",
    "        width_set[0].childNodes[0].data = int(int(width_set[0].childNodes[0].data)*ratio_width)\n",
    "        print('图像size_width_new', width_set[0].childNodes[0].data)\n",
    "        height_set[0].childNodes[0].data = int(int(height_set[0].childNodes[0].data)*ratio_height)\n",
    "        print('图像size_height_new', height_set[0].childNodes[0].data)\n",
    "    ########## （2）读入打标框的位置坐标，并根据缩放比进行修改\n",
    "    filenamelist = collection.getElementsByTagName('object')  # 第一层——object\n",
    "    for objects in filenamelist:\n",
    "        bndboxlist = objects.getElementsByTagName('bndbox')  # 第二层\n",
    "        for items in bndboxlist:\n",
    "            xmin = items.getElementsByTagName('xmin')  # 第三层——xmin\n",
    "            ymin = items.getElementsByTagName('ymin')  # 第三层——ymin\n",
    "            xmax = items.getElementsByTagName('xmax')  # 第三层——xam\n",
    "            ymax = items.getElementsByTagName('ymax')  # 第三层——ymax      \n",
    "            # 重新赋值打标框\n",
    "            xmin[0].childNodes[0].data = int(int(xmin[0].childNodes[0].data)*ratio_width)  # 重新赋值\n",
    "            print('xmin_new' ,xmin[0].childNodes[0].data)\n",
    "            ymin[0].childNodes[0].data = int(int(ymin[0].childNodes[0].data)*ratio_height)  # 重新赋值\n",
    "            print('ymin_new' ,ymin[0].childNodes[0].data)\n",
    "            xmax[0].childNodes[0].data = int(int(xmax[0].childNodes[0].data)*ratio_width)  # 重新赋值\n",
    "            print('xmax_new' ,xmax[0].childNodes[0].data)\n",
    "            ymax[0].childNodes[0].data = int(int(ymax[0].childNodes[0].data)*ratio_height)  # 重新赋值\n",
    "            print('ymax_new' ,ymax[0].childNodes[0].data)\n",
    "\n",
    "    ################ 文件保存\n",
    "    #定义输出的xml文件路径和名称\n",
    "    temp_xmlfile = '/Users/edz/Desktop/test_黄斑前膜.xml'\n",
    "    try:\n",
    "        with open(temp_xmlfile,'w',encoding='UTF-8') as fh:\n",
    "     # 4.writexml()第一个参数是目标文件对象，第二个参数是根节点的缩进格式，第三个参数是其他子节点的缩进格式，\n",
    "     # 第四个参数制定了换行格式，第五个参数制定了xml内容的编码。\n",
    "            DOMTree.writexml(fh)\n",
    "            print('写入xml OK!')\n",
    "    except Exception as err:\n",
    "        print('错误信息：{0}'.format(err))"
   ]
  },
  {
   "cell_type": "code",
   "execution_count": 11,
   "metadata": {},
   "outputs": [
    {
     "name": "stdout",
     "output_type": "stream",
     "text": [
      "ratio_width 0.62\n",
      "ratio_height 0.64\n",
      "图像size_width_new 1192\n",
      "图像size_height_new 995\n",
      "xmin_new 854\n",
      "ymin_new 474\n",
      "xmax_new 1054\n",
      "ymax_new 844\n",
      "xmin_new 371\n",
      "ymin_new 449\n",
      "xmax_new 669\n",
      "ymax_new 782\n",
      "写入xml OK!\n"
     ]
    }
   ],
   "source": [
    "xml_location_ratio_func(xml_path)"
   ]
  },
  {
   "cell_type": "code",
   "execution_count": null,
   "metadata": {},
   "outputs": [],
   "source": []
  }
 ],
 "metadata": {
  "kernelspec": {
   "display_name": "Python 3",
   "language": "python",
   "name": "python3"
  },
  "language_info": {
   "codemirror_mode": {
    "name": "ipython",
    "version": 3
   },
   "file_extension": ".py",
   "mimetype": "text/x-python",
   "name": "python",
   "nbconvert_exporter": "python",
   "pygments_lexer": "ipython3",
   "version": "3.7.7"
  }
 },
 "nbformat": 4,
 "nbformat_minor": 2
}
