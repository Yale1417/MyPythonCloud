{
 "cells": [
  {
   "cell_type": "code",
   "execution_count": 2,
   "metadata": {},
   "outputs": [
    {
     "name": "stdout",
     "output_type": "stream",
     "text": [
      "import succed!\n"
     ]
    }
   ],
   "source": [
    "import pandas as pd \n",
    "import numpy as np\n",
    "import os\n",
    "import shutil\n",
    "import re\n",
    "import math \n",
    "pd.set_option(\"display.max_columns\",None)\n",
    "pd.set_option(\"display.max_rows\",None)\n",
    "pd.set_option(\"expand.frame_repr\",False)\n",
    "print(\"import succed!\")"
   ]
  },
  {
   "cell_type": "code",
   "execution_count": null,
   "metadata": {},
   "outputs": [],
   "source": [
    "# 设置——两库全量_and_疾病标签_总表的导入路径\n",
    "input_path = r'/Users/edz/Documents/yandi_data/AI_data/zn_dc_ai总表'\n",
    "input_path_file = r'/两库全量_and_疾病标签_总表.xlsx'"
   ]
  },
  {
   "cell_type": "code",
   "execution_count": null,
   "metadata": {},
   "outputs": [],
   "source": [
    "df = pd.read_excel(input_path+input_path_file,sep='\\t',index_col=None)\n",
    "df.tail(2)"
   ]
  },
  {
   "cell_type": "code",
   "execution_count": null,
   "metadata": {},
   "outputs": [],
   "source": [
    "df.shape  # 查看行列容量"
   ]
  },
  {
   "cell_type": "code",
   "execution_count": null,
   "metadata": {},
   "outputs": [],
   "source": [
    "# # 筛选有效列数据\n",
    "# df_pre = df[['来自图片id','来自检查id','阅片诊断','图像地址','sBosobject','图像md5信息','sImageMd5','arithmeticTag','nTagCheckDevice',\n",
    "#             'left_糖网','right_糖网','left_青光眼','right_青光眼','left_屈光不正','right_屈光不正','left_白内障','right_白内障']]"
   ]
  },
  {
   "cell_type": "code",
   "execution_count": null,
   "metadata": {},
   "outputs": [],
   "source": [
    "df_pre.info()"
   ]
  },
  {
   "cell_type": "markdown",
   "metadata": {},
   "source": [
    "## 合并剩余37万数据的32分类标签"
   ]
  },
  {
   "cell_type": "code",
   "execution_count": null,
   "metadata": {},
   "outputs": [],
   "source": [
    "# 设置读入32分类标签的数据路径\n",
    "input_path_32 = r'/Users/edz/Documents/yandi_data/AI_data/32分类标签/32_hou_label' \n",
    "dir_list_32 = os.listdir(input_path_32)\n",
    "file_dir_list_32 = [ os.path.join(input_path_32,x) for  x in dir_list_32 ]\n",
    "print(file_dir_list_32)"
   ]
  },
  {
   "cell_type": "code",
   "execution_count": null,
   "metadata": {},
   "outputs": [],
   "source": [
    "df_classific_32 = pd.DataFrame()\n",
    "# 循环读入32分类标签数据\n",
    "for i in range(1,len(file_dir_list_32)):\n",
    "    df_i = pd.read_csv(file_dir_list_32[i],sep='\\s+',index_col=None,header=None)\n",
    "    print(\"{}的数据容量为{}：\".format(file_dir_list_32[i], df_i.shape[0]))\n",
    "    df_classific_32 = df_classific_32.append(df_i)\n",
    "# 重命名列名\n",
    "df_classific_32.rename(columns={0:'图像地址',1:'md5值',2:'arithmeticTag_32'},inplace=True)\n",
    "print(df_classific_32.shape[0])"
   ]
  },
  {
   "cell_type": "code",
   "execution_count": null,
   "metadata": {},
   "outputs": [],
   "source": [
    "df_classific_32.reset_index(drop=True,inplace=True)  # 重置索引\n",
    "df_classific_32.tail(2)"
   ]
  },
  {
   "cell_type": "code",
   "execution_count": null,
   "metadata": {},
   "outputs": [],
   "source": [
    "df_classific_32['arithmeticTag_32'].notnull().sum()  # 查看无32分类标签的数据容量"
   ]
  },
  {
   "cell_type": "code",
   "execution_count": null,
   "metadata": {},
   "outputs": [],
   "source": [
    "df = df.merge(df_classific_32,how='left', on='图像地址')"
   ]
  },
  {
   "cell_type": "code",
   "execution_count": null,
   "metadata": {},
   "outputs": [],
   "source": [
    "df.info()"
   ]
  },
  {
   "cell_type": "markdown",
   "metadata": {},
   "source": [
    "### pd.isnull(z.at[815076,'arithmeticTag'])==True  # Dataframe判断一列中某值是否为空"
   ]
  },
  {
   "cell_type": "code",
   "execution_count": null,
   "metadata": {},
   "outputs": [],
   "source": [
    "# 循环用有效的'arithmeticTag_32'值，代替'arithmeticTag'中的空值\n",
    "for j in range(df.shape[0]):\n",
    "    if pd.isnull(df.at[j,'arithmeticTag'])==True:   # Dataframe判断一列中某值是否为空\n",
    "        df.at[j,'arithmeticTag'] = df.at[j,'arithmeticTag_32']  # 填充指定值\n",
    "    else:\n",
    "        pass"
   ]
  },
  {
   "cell_type": "code",
   "execution_count": null,
   "metadata": {},
   "outputs": [],
   "source": [
    "df['arithmeticTag'].notnull().sum()"
   ]
  },
  {
   "cell_type": "code",
   "execution_count": null,
   "metadata": {},
   "outputs": [],
   "source": [
    "df['arithmeticTag'].value_counts()"
   ]
  },
  {
   "cell_type": "code",
   "execution_count": null,
   "metadata": {},
   "outputs": [],
   "source": [
    "df.drop(columns=['arithmeticTag_32'],inplace=True)"
   ]
  },
  {
   "cell_type": "markdown",
   "metadata": {},
   "source": [
    "#### 根据有\"nTagCheckDevice\"字段的根据字段内容，定义图像类型；没有的则根据\"arithmeticTag\"(即：32分类)字段内容，定义图像类型。"
   ]
  },
  {
   "cell_type": "code",
   "execution_count": null,
   "metadata": {},
   "outputs": [],
   "source": [
    "# 32分类标签的辅助修正\n",
    "# 插入”图像类别“标签列\n",
    "insert_class_num = df.columns.get_loc('arithmeticTag')\n",
    "print(insert_class_num)"
   ]
  },
  {
   "cell_type": "code",
   "execution_count": null,
   "metadata": {},
   "outputs": [],
   "source": [
    "df['nTagCheckDevice'].value_counts()"
   ]
  },
  {
   "cell_type": "code",
   "execution_count": null,
   "metadata": {},
   "outputs": [],
   "source": [
    "df.insert(insert_class_num+1,'图像类别',None)  # 获取插入列的索引"
   ]
  },
  {
   "cell_type": "code",
   "execution_count": null,
   "metadata": {},
   "outputs": [],
   "source": [
    "df['图像类别'] = df['arithmeticTag']"
   ]
  },
  {
   "cell_type": "code",
   "execution_count": null,
   "metadata": {},
   "outputs": [],
   "source": [
    "df.columns"
   ]
  },
  {
   "cell_type": "code",
   "execution_count": null,
   "metadata": {},
   "outputs": [],
   "source": [
    "for i in range(df.shape[0]):\n",
    "    if df.at[i,'nTagCheckDevice']=='眼底照相机':\n",
    "        df.at[i,'图像类别'] = 11\n",
    "    elif df.at[i,'nTagCheckDevice']=='OCT':\n",
    "        df.at[i,'图像类别'] = 25\n",
    "    else:\n",
    "        pass"
   ]
  },
  {
   "cell_type": "code",
   "execution_count": null,
   "metadata": {},
   "outputs": [],
   "source": [
    "# 读入左右眼标签列\n",
    "input_path_lr = r'/Users/edz/Documents/yandi_data/AI_data/左右眼label'\n",
    "select_filelist = os.listdir(input_path_lr)  # 获取被筛选文件夹中所有的文件名称\n",
    "file_dir_list = [os.path.join(input_path_lr,x) for x in select_filelist]\n",
    "print(file_dir_list)  # 绝对路径"
   ]
  },
  {
   "cell_type": "code",
   "execution_count": null,
   "metadata": {},
   "outputs": [],
   "source": [
    "df_lr = pd.DataFrame()  # 用于存储读入表\n",
    "# 循环读入文件\n",
    "# 该文本中的分割符既有空格又有制表符（‘/t’），sep参数用‘/s+’，可以匹配任何空格。\n",
    "for i in range(1, len(file_dir_list)):\n",
    "    df_i = pd.read_csv( file_dir_list[i], sep='\\s+',index_col=None,header=None)\n",
    "    print(\"读入{},shape:{}\".format( file_dir_list[i], df_i.shape[0]))\n",
    "    df_lr = df_lr.append(df_i,ignore_index=True)\n",
    "print(\"合表后，左右眼标签表的数据容量{}\".format(df_lr.shape[0]))"
   ]
  },
  {
   "cell_type": "code",
   "execution_count": null,
   "metadata": {},
   "outputs": [],
   "source": [
    "df_lr.rename(columns={0:'图像地址',1:'MD5值',2:'左右眼'},inplace=True)\n",
    "df_lr.tail(2)"
   ]
  },
  {
   "cell_type": "code",
   "execution_count": null,
   "metadata": {},
   "outputs": [],
   "source": [
    "df_lr['左右眼'].value_counts()"
   ]
  },
  {
   "cell_type": "code",
   "execution_count": null,
   "metadata": {},
   "outputs": [],
   "source": [
    "df_lr['左右眼'].isnull().sum()"
   ]
  },
  {
   "cell_type": "code",
   "execution_count": null,
   "metadata": {},
   "outputs": [],
   "source": [
    "df_lr[df_lr['左右眼'].isnull()==True].head(2)"
   ]
  },
  {
   "cell_type": "code",
   "execution_count": null,
   "metadata": {},
   "outputs": [],
   "source": [
    "df_lr.tail(2)  "
   ]
  },
  {
   "cell_type": "markdown",
   "metadata": {},
   "source": [
    "pandas中规定，只要数值类型列，有缺失值，那么这一列的数据类型就是浮点型，所以不能强制转换为整型，不然会报错——ValueError: Cannot convert non-finite values (NA or inf) to integer"
   ]
  },
  {
   "cell_type": "code",
   "execution_count": null,
   "metadata": {},
   "outputs": [],
   "source": [
    "df = df.merge(df_lr,how='left',on='图像地址')"
   ]
  },
  {
   "cell_type": "code",
   "execution_count": null,
   "metadata": {},
   "outputs": [],
   "source": [
    "df.info()"
   ]
  },
  {
   "cell_type": "code",
   "execution_count": null,
   "metadata": {},
   "outputs": [],
   "source": [
    "pd.isnull(df.loc[0,'MD5值'])==False"
   ]
  },
  {
   "cell_type": "code",
   "execution_count": null,
   "metadata": {},
   "outputs": [],
   "source": [
    "a = df[df['图像md5信息'].duplicated()==True]"
   ]
  },
  {
   "cell_type": "code",
   "execution_count": null,
   "metadata": {},
   "outputs": [],
   "source": [
    "a['图像md5信息'].value_counts()"
   ]
  },
  {
   "cell_type": "code",
   "execution_count": null,
   "metadata": {},
   "outputs": [],
   "source": [
    "df['图像md5信息'].str.contains('empty').sum()"
   ]
  },
  {
   "cell_type": "code",
   "execution_count": null,
   "metadata": {},
   "outputs": [],
   "source": [
    "# 整合MD5值的相关信息\n",
    "for i in range(df.shape[0]):\n",
    "    if df.loc[i,'图像md5信息'] =='empty':\n",
    "        if pd.isnull(df.loc[i,'MD5值'])==False:\n",
    "            df.loc[i,'图像md5信息'] = df.loc[i,'MD5值']\n",
    "        else:\n",
    "            pass\n",
    "    elif df.loc[i,'图像md5信息'] =='no':\n",
    "        if pd.isnull(df.loc[i,'MD5值'])==False:\n",
    "            df.loc[i,'图像md5信息'] = df.loc[i,'MD5值']\n",
    "        else:\n",
    "            pass\n",
    "    else:\n",
    "        pass"
   ]
  },
  {
   "cell_type": "code",
   "execution_count": null,
   "metadata": {},
   "outputs": [],
   "source": [
    "# 整合MD5值的相关信息\n",
    "for i in range(df.shape[0]):\n",
    "    if df.loc[i,'图像md5信息'] =='empty':\n",
    "        if pd.isnull(df.loc[i,'md5值'])==False:\n",
    "            df.loc[i,'图像md5信息'] = df.loc[i,'md5值']\n",
    "        else:\n",
    "            pass\n",
    "    elif df.loc[i,'图像md5信息'] =='no':\n",
    "        if pd.isnull(df.loc[i,'md5值'])==False:\n",
    "            df.loc[i,'图像md5信息'] = df.loc[i,'md5值']\n",
    "        else:\n",
    "            pass\n",
    "    else:\n",
    "        pass"
   ]
  },
  {
   "cell_type": "code",
   "execution_count": null,
   "metadata": {},
   "outputs": [],
   "source": [
    "df_pre.columns"
   ]
  },
  {
   "cell_type": "code",
   "execution_count": null,
   "metadata": {},
   "outputs": [],
   "source": [
    "# 筛选有效列数据\n",
    "df_pre = df[['来自图片id','图像地址','图像md5信息','左右眼','图像类别','影像描述','阅片诊断','来自检查id','nTagCheckDevice',\n",
    "            'left_糖网','right_糖网','left_青光眼','right_青光眼','left_屈光不正','right_屈光不正','left_白内障','right_白内障']]"
   ]
  },
  {
   "cell_type": "code",
   "execution_count": null,
   "metadata": {},
   "outputs": [],
   "source": [
    "df_zong['图像md5信息'].str.contains('empty').sum()"
   ]
  },
  {
   "cell_type": "markdown",
   "metadata": {},
   "source": [
    "### 读入疾病标签表"
   ]
  },
  {
   "cell_type": "code",
   "execution_count": null,
   "metadata": {},
   "outputs": [],
   "source": [
    "input_path_bq = r'/Users/edz/Documents/yandi_data/AI_data/zn_ai_疾病标签'\n",
    "dir_list_bq = os.listdir(input_path_bq)\n",
    "print(dir_list_bq)"
   ]
  },
  {
   "cell_type": "code",
   "execution_count": null,
   "metadata": {},
   "outputs": [],
   "source": [
    "# 删除指定的无需读入列\n",
    "del_list = ['.DS_Store','糖网_quan_250625.xlsx','白内障_quan_250625.xlsx','青光眼_quan_250625.xlsx','屈光不正_quan_250625.xlsx']\n",
    "for i in del_list:\n",
    "    dir_list_bq.remove(i)  # python中删除list中某指定元素,知道索引的话就可以用del来删除 del list[i]"
   ]
  },
  {
   "cell_type": "code",
   "execution_count": null,
   "metadata": {},
   "outputs": [],
   "source": [
    "file_dir_list_bq = [os.path.join(input_path_bq, x) for x in dir_list_bq]\n",
    "print(file_dir_list_bq) "
   ]
  },
  {
   "cell_type": "code",
   "execution_count": null,
   "metadata": {},
   "outputs": [],
   "source": [
    "# 读入标签数据\n",
    "for i in range(len(file_dir_list_bq)):\n",
    "    df_bq_i = pd.read_excel(file_dir_list_bq[i], usecols=[0,2,3], sep='\\t',index_col=None) \n",
    "    if i == 0:\n",
    "        df_bq = df_bq_i  # 首次赋值==原始表\n",
    "    else:\n",
    "        df_bq = df_bq.merge(df_bq_i,how='left',on='来自检查id')  # 之后添加新标签表\n",
    "\n",
    "print(df_bq.columns)\n",
    "    # df_bq_1.head(2)"
   ]
  },
  {
   "cell_type": "code",
   "execution_count": null,
   "metadata": {},
   "outputs": [],
   "source": [
    "df_zong = df_pre.merge(df_bq, how='left', on='来自检查id')"
   ]
  },
  {
   "cell_type": "code",
   "execution_count": null,
   "metadata": {},
   "outputs": [],
   "source": [
    "df_zong.head(2)"
   ]
  },
  {
   "cell_type": "code",
   "execution_count": null,
   "metadata": {},
   "outputs": [],
   "source": [
    "df_zong['图像类别'].notnull().sum()"
   ]
  },
  {
   "cell_type": "code",
   "execution_count": null,
   "metadata": {},
   "outputs": [],
   "source": [
    "df_zong.shape[0]"
   ]
  },
  {
   "cell_type": "markdown",
   "metadata": {},
   "source": [
    "### 导出合并右右眼标签、32分类标签、疾病标签的总数据表"
   ]
  },
  {
   "cell_type": "code",
   "execution_count": null,
   "metadata": {},
   "outputs": [],
   "source": [
    "df_zong.columns"
   ]
  },
  {
   "cell_type": "code",
   "execution_count": null,
   "metadata": {},
   "outputs": [],
   "source": [
    "df_zong['图像类别'].notnull().sum()  # 存在32分类标签图片的数据总量"
   ]
  },
  {
   "cell_type": "code",
   "execution_count": null,
   "metadata": {},
   "outputs": [],
   "source": [
    "df_zong['图像类别'].isnull().sum()  # 不存在32分类标签图片的数据总量"
   ]
  },
  {
   "cell_type": "markdown",
   "metadata": {},
   "source": [
    "### 筛选眼底图数据——用于统计表的制作\n",
    "###### 取差集 c = list(set(a).difference(set(b)))"
   ]
  },
  {
   "cell_type": "code",
   "execution_count": null,
   "metadata": {},
   "outputs": [],
   "source": [
    "a = df_zong.columns.tolist()"
   ]
  },
  {
   "cell_type": "code",
   "execution_count": null,
   "metadata": {},
   "outputs": [],
   "source": [
    "# 获取合并标签列list\n",
    "a = df_zong.columns.tolist()\n",
    "a =  [a[i].replace('right_','') for i in range(len(a))]  # replace函数实现str的替换\n",
    "a =  [a[i].replace('left_','') for i in range(len(a))]\n",
    "start_index = df_zong.columns.get_loc('nTagCheckDevice')\n",
    "b = a[start_index+1:]\n",
    "# 得到新增列名称的列表\n",
    "x = list(set(b))  # 去重得到新增项列表名称——合并标签\n",
    "print(x)  #  新增列名称的列表"
   ]
  },
  {
   "cell_type": "code",
   "execution_count": null,
   "metadata": {},
   "outputs": [],
   "source": [
    "insert_index = df_zong.columns.get_loc('阅片诊断')  # 获取“阅片诊断”列的index号\n",
    "insert_columns_list = x  # 新增列名称的列表\n",
    "# 插入指定列\n",
    "for i in range(len(insert_columns_list)):\n",
    "    df_zong.insert(insert_index+(i+1),insert_columns_list[i],None)"
   ]
  },
  {
   "cell_type": "code",
   "execution_count": null,
   "metadata": {},
   "outputs": [],
   "source": [
    "print(df_zong.columns)"
   ]
  },
  {
   "cell_type": "code",
   "execution_count": null,
   "metadata": {},
   "outputs": [],
   "source": [
    "# 根据左右眼标签识别唯一的眼底图对应疾病标签\n",
    "for k in range(len(x)):\n",
    "    for i in range(df_zong.shape[0]):  \n",
    "        str_i = df_zong.at[i,'左右眼']\n",
    "        if  str_i == 0: # 左眼\n",
    "            df_zong.at[i, x[k]] = df_zong.at[i,'left_' + x[k]]\n",
    "        elif str_i == 1:\n",
    "            df_zong.at[i, x[k]] = df_zong.at[i,'right_' + x[k]]\n",
    "        else:\n",
    "            pass"
   ]
  },
  {
   "cell_type": "code",
   "execution_count": null,
   "metadata": {},
   "outputs": [],
   "source": [
    "df_zong.loc[20:25,:]  # 查验"
   ]
  },
  {
   "cell_type": "code",
   "execution_count": null,
   "metadata": {},
   "outputs": [],
   "source": [
    "# 根据”左眼标签==右眼标签“识别图片对应的疾病标签\n",
    "def lr_equal_func(df,l_column,r_column,equal_column):\n",
    "    for j in range(df.shape[0]):\n",
    "        if pd.isnull(df.at[j,equal_column])==False:\n",
    "            pass\n",
    "        else:\n",
    "            if df.at[j,l_column] == df.at[j,r_column]:\n",
    "                df.at[j,equal_column] = df.at[j,l_column]\n",
    "    #             print(df_last.at[j,'糖网'])\n",
    "            else:\n",
    "                pass    "
   ]
  },
  {
   "cell_type": "code",
   "execution_count": null,
   "metadata": {},
   "outputs": [],
   "source": [
    "# # 调用疾病标签合并的打标函数\n",
    "for k in range(len(x)):\n",
    "    print(\"处理——{}列：\".format(x[k]))\n",
    "    lr_equal_func(df_zong,'left_' + x[k],'right_' + x[k], x[k])"
   ]
  },
  {
   "cell_type": "code",
   "execution_count": null,
   "metadata": {},
   "outputs": [],
   "source": [
    "df_zong.info()  # 校验已打标数据总量"
   ]
  },
  {
   "cell_type": "code",
   "execution_count": null,
   "metadata": {},
   "outputs": [],
   "source": [
    "df_zong.columns"
   ]
  },
  {
   "cell_type": "markdown",
   "metadata": {},
   "source": [
    "## 导出全量疾病标签数据"
   ]
  },
  {
   "cell_type": "code",
   "execution_count": null,
   "metadata": {},
   "outputs": [],
   "source": [
    "# 导出最终的全量总表——右、右眼两列疾病标签\n",
    "out_put_path = r'/Users/edz/Documents/yandi_data/AI_data/zn_dc_ai总表/影像描述_异常病灶总表'\n",
    "out_put_file = r'/阅片诊断_疾病标签_59类_总表_815098.xlsx'\n",
    "writer = pd.ExcelWriter(out_put_path + out_put_file)\n",
    "df_zong.to_excel(writer,sheet_name='607971条已解析图像类别',index=None)\n",
    "writer.save()"
   ]
  },
  {
   "cell_type": "markdown",
   "metadata": {},
   "source": [
    "#### 筛选眼底图像数据"
   ]
  },
  {
   "cell_type": "code",
   "execution_count": null,
   "metadata": {},
   "outputs": [],
   "source": [
    "# 筛选眼底图像数据\n",
    "df_zong_yd = df_zong[df_zong['图像类别']==11]\n",
    "df_zong_yd.reset_index(drop=True,inplace=True)"
   ]
  },
  {
   "cell_type": "code",
   "execution_count": null,
   "metadata": {},
   "outputs": [],
   "source": [
    "df_zong_yd.tail(2)"
   ]
  },
  {
   "cell_type": "code",
   "execution_count": null,
   "metadata": {},
   "outputs": [],
   "source": [
    "df_zong_yd.shape[0]"
   ]
  },
  {
   "cell_type": "markdown",
   "metadata": {},
   "source": [
    "## 导出眼底图疾病标签数据"
   ]
  },
  {
   "cell_type": "code",
   "execution_count": null,
   "metadata": {},
   "outputs": [],
   "source": [
    "out_put_path_yd_ydb = r'/Users/edz/Documents/yandi_data/AI_data/zn_dc_ai总表/影像描述_异常病灶总表'\n",
    "out_put_file_yd_ydb = r'/眼底图_阅片诊断_疾病标签_59类_总表_504334.xlsx'\n",
    "writer = pd.ExcelWriter(out_put_path_yd_ydb + out_put_file_yd_ydb)\n",
    "df_zong_yd.to_excel(writer,sheet_name='已打标的眼底图标签表_'+ str(df_zong_yd.shape[0]),index=None)\n",
    "writer.save()"
   ]
  },
  {
   "cell_type": "markdown",
   "metadata": {},
   "source": [
    "## 导出最终的全量数据表"
   ]
  },
  {
   "cell_type": "code",
   "execution_count": 5,
   "metadata": {},
   "outputs": [],
   "source": [
    "# 读入疾病信息表\n",
    "in_put_path_bz = r'/Users/edz/Documents/yandi_data/AI_data/zn_dc_ai总表/影像描述_异常病灶总表'\n",
    "in_put_file_bz = r'/阅片诊断_疾病标签_59类_总表_815098.xlsx'\n",
    "df_jibing = pd.read_excel(in_put_path_bz+in_put_file_bz,sep='\\t',index_col=None)"
   ]
  },
  {
   "cell_type": "code",
   "execution_count": 6,
   "metadata": {},
   "outputs": [],
   "source": [
    "df_jb = df_jibing"
   ]
  },
  {
   "cell_type": "code",
   "execution_count": 7,
   "metadata": {},
   "outputs": [
    {
     "name": "stdout",
     "output_type": "stream",
     "text": [
      "Index(['来自图片id', '图像地址', '图像md5信息', '左右眼', '图像类别', '影像描述', '阅片诊断', '视神经炎',\n",
      "       '眼底血管样条纹', 'Purtscher视网膜病变',\n",
      "       ...\n",
      "       'left_脉络膜萎缩', 'right_脉络膜萎缩', 'left_脉络膜病变', 'right_脉络膜病变', 'left_人工晶体眼',\n",
      "       'right_人工晶体眼', 'left_玻璃体后脱离', 'right_玻璃体后脱离', 'left_斜视', 'right_斜视'],\n",
      "      dtype='object', length=186)\n"
     ]
    }
   ],
   "source": [
    "a_list = df_jb.columns\n",
    "print(a_list)"
   ]
  },
  {
   "cell_type": "code",
   "execution_count": 8,
   "metadata": {},
   "outputs": [],
   "source": [
    "df_jb = df_jb.drop(columns = ['图像地址', '图像md5信息', '左右眼', '图像类别', \n",
    "                              '影像描述','阅片诊断','来自检查id','nTagCheckDevice'])"
   ]
  },
  {
   "cell_type": "code",
   "execution_count": 3,
   "metadata": {},
   "outputs": [],
   "source": [
    "in_put_path_bz = r'/Users/edz/Documents/yandi_data/AI_data/zn_dc_ai总表/影像描述_异常病灶总表'\n",
    "in_put_file_bz = r'/影像描述_异常病灶标签_40类_总表_815098.xlsx'\n",
    "df_bz = pd.read_excel(in_put_path_bz+in_put_file_bz,sep='\\t',index_col=None)"
   ]
  },
  {
   "cell_type": "code",
   "execution_count": 9,
   "metadata": {},
   "outputs": [],
   "source": [
    "df_bingzao = df_bz"
   ]
  },
  {
   "cell_type": "code",
   "execution_count": 10,
   "metadata": {},
   "outputs": [],
   "source": [
    "df_bingzao = df_bingzao.drop(columns = ['图像地址', '图像md5信息', '左右眼', '图像类别', \n",
    "                              '影像描述','阅片诊断','来自检查id','nTagCheckDevice'])"
   ]
  },
  {
   "cell_type": "code",
   "execution_count": 4,
   "metadata": {},
   "outputs": [],
   "source": [
    "# 读入基本信息表\n",
    "in_put_path_bz = r'/Users/edz/Documents/yandi_data/AI_data/zn_dc_ai总表/影像描述_异常病灶总表'\n",
    "in_put_file_bz = r'/阅片诊断非空_基本信息_总表_29列_815098.xlsx'\n",
    "df_jiben = pd.read_excel(in_put_path_bz+in_put_file_bz,sep='\\t',index_col=None)"
   ]
  },
  {
   "cell_type": "code",
   "execution_count": null,
   "metadata": {},
   "outputs": [],
   "source": [
    "df_jiben.columns"
   ]
  },
  {
   "cell_type": "code",
   "execution_count": null,
   "metadata": {},
   "outputs": [],
   "source": [
    "df_jiben.columns.get_loc('影像描述')"
   ]
  },
  {
   "cell_type": "code",
   "execution_count": 11,
   "metadata": {},
   "outputs": [],
   "source": [
    "# 合并疾病标签和异常病灶标签\n",
    "df_add = df_bingzao.merge(df_jb,how='left',on='来自图片id')"
   ]
  },
  {
   "cell_type": "code",
   "execution_count": null,
   "metadata": {},
   "outputs": [],
   "source": [
    "df_he = df_jiben.merge(df_add, how='left', on='来自图片id')"
   ]
  },
  {
   "cell_type": "code",
   "execution_count": null,
   "metadata": {},
   "outputs": [],
   "source": [
    "add_list = df_he.columns.to_list()\n",
    "add_list"
   ]
  },
  {
   "cell_type": "code",
   "execution_count": null,
   "metadata": {},
   "outputs": [],
   "source": [
    "print(add_list)"
   ]
  },
  {
   "cell_type": "code",
   "execution_count": null,
   "metadata": {},
   "outputs": [],
   "source": []
  },
  {
   "cell_type": "markdown",
   "metadata": {},
   "source": [
    "### 设置变量，统计各疾病标签下的数据量"
   ]
  },
  {
   "cell_type": "code",
   "execution_count": null,
   "metadata": {},
   "outputs": [],
   "source": [
    "##################第一步，统计已打标的图像数量\n",
    "## 以视网膜血管阻塞为例设计统计函数\n",
    "def son_statistic_func(df,column_name,contain_strs):\n",
    "    a = df[df[column_name].notnull()]\n",
    "    b = a[a[column_name].str.contains(contain_strs)]\n",
    "    # print(b['视网膜血管阻塞'].value_counts())\n",
    "    # print(b.shape[0])\n",
    "    c = pd.DataFrame(data=b[column_name].value_counts())\n",
    "    c.reset_index(level=0,inplace=True)  # 将索引列转为普通列\n",
    "    c.rename(columns={c.columns[0]:'疾病子类',c.columns[1]:'已打标眼底图数量'},inplace=True)\n",
    "    # 新增子类合计行，显示为标准表\n",
    "    c.loc[c.shape[0]]=c.loc[:,['已打标眼底图数量']].apply(lambda x: x.sum())  # 新增一行用于统计指定列下，各行数据总和，并作为新行添加到末尾\n",
    "    c.loc[c.shape[0]-1,'疾病子类'] = column_name + '类合计'\n",
    "    c['已打标眼底图数量'] = c['已打标眼底图数量'].astype(int)  # 将数据强制转为整型\n",
    "#     print(c)\n",
    "    return c"
   ]
  },
  {
   "cell_type": "markdown",
   "metadata": {},
   "source": [
    "#### 糖网、白内障、青光眼"
   ]
  },
  {
   "cell_type": "code",
   "execution_count": null,
   "metadata": {},
   "outputs": [],
   "source": [
    "ydb_table = pd.DataFrame()"
   ]
  },
  {
   "cell_type": "code",
   "execution_count": null,
   "metadata": {},
   "outputs": [],
   "source": [
    "########## 糖网\n",
    "hb_part_tw = son_statistic_func(df_last_yd,'糖网','糖网')\n",
    "# 指定行新数据\n",
    "ydb_table.loc[ydb_table.shape[0],'疾病子类'] = '糖网'\n",
    "ydb_table.loc[ydb_table.shape[0]-1,'已打标眼底图数量'] = hb_part_tw.loc[hb_part_tw.shape[0]-1,'已打标眼底图数量']"
   ]
  },
  {
   "cell_type": "code",
   "execution_count": null,
   "metadata": {},
   "outputs": [],
   "source": [
    "########## 白内障\n",
    "bnz_part = son_statistic_func(df_last_yd,'白内障','白内障')\n",
    "# 指定行新数据\n",
    "ydb_table.loc[ydb_table.shape[0],'疾病子类'] = '白内障'\n",
    "ydb_table.loc[ydb_table.shape[0]-1,'已打标眼底图数量'] = bnz_part.loc[bnz_part.shape[0]-1,'已打标眼底图数量']"
   ]
  },
  {
   "cell_type": "code",
   "execution_count": null,
   "metadata": {},
   "outputs": [],
   "source": [
    "########## 青光眼\n",
    "qgy_part = son_statistic_func(df_last_yd,'青光眼','青光眼')\n",
    "# 指定行新数据\n",
    "ydb_table.loc[ydb_table.shape[0],'疾病子类'] = '青光眼'\n",
    "ydb_table.loc[ydb_table.shape[0]-1,'已打标眼底图数量'] = qgy_part.loc[qgy_part.shape[0]-1,'已打标眼底图数量']"
   ]
  },
  {
   "cell_type": "code",
   "execution_count": null,
   "metadata": {},
   "outputs": [],
   "source": [
    "ydb_table"
   ]
  },
  {
   "cell_type": "markdown",
   "metadata": {},
   "source": [
    "#### 视网膜血管阻塞"
   ]
  },
  {
   "cell_type": "code",
   "execution_count": null,
   "metadata": {},
   "outputs": [],
   "source": [
    "ydb_table = ydb_table.append(son_statistic_func(df_last_yd,'视网膜血管阻塞','视网膜血管阻塞'),ignore_index=True)"
   ]
  },
  {
   "cell_type": "markdown",
   "metadata": {},
   "source": [
    "#### 视网膜血管炎"
   ]
  },
  {
   "cell_type": "code",
   "execution_count": null,
   "metadata": {},
   "outputs": [],
   "source": [
    "ydb_table = ydb_table.append(son_statistic_func(df_last_yd,'视网膜血管炎','视网膜血管炎'),ignore_index=True)"
   ]
  },
  {
   "cell_type": "markdown",
   "metadata": {},
   "source": [
    "#### 黄斑病变"
   ]
  },
  {
   "cell_type": "code",
   "execution_count": null,
   "metadata": {},
   "outputs": [],
   "source": [
    "########## AMD\n",
    "hb_part_amd = son_statistic_func(df_last_yd,'黄斑病变','AMD')\n",
    "# 指定行新数据\n",
    "ydb_table.loc[ydb_table.shape[0],'疾病子类'] = '老年性黄斑变性（AMD）'\n",
    "ydb_table.loc[ydb_table.shape[0]-1,'已打标眼底图数量'] = hb_part_amd.loc[hb_part_amd.shape[0]-1,'已打标眼底图数量']\n",
    "########## 黄斑前膜\n",
    "hb_part_qm = son_statistic_func(df_last_yd,'黄斑病变','黄斑前膜')\n",
    "# 指定行新数据\n",
    "ydb_table.loc[ydb_table.shape[0],'疾病子类'] = '黄斑前膜'\n",
    "ydb_table.loc[ydb_table.shape[0]-1,'已打标眼底图数量'] = hb_part_qm.loc[hb_part_qm.shape[0]-1,'已打标眼底图数量']\n",
    "########## 黄斑裂孔\n",
    "hb_part_lk = son_statistic_func(df_last_yd,'黄斑病变','黄斑裂孔')\n",
    "# 指定行新数据\n",
    "ydb_table.loc[ydb_table.shape[0],'疾病子类'] = '黄斑裂孔'\n",
    "ydb_table.loc[ydb_table.shape[0]-1,'已打标眼底图数量'] = hb_part_lk.loc[hb_part_lk.shape[0]-1,'已打标眼底图数量']\n",
    "########## 黄斑区色素上皮\n",
    "hb_part_sssp = son_statistic_func(df_last_yd,'黄斑病变','黄斑区色素上皮')\n",
    "# 指定行新数据\n",
    "ydb_table.loc[ydb_table.shape[0],'疾病子类'] = '黄斑区色素上皮改变、脱离'\n",
    "ydb_table.loc[ydb_table.shape[0]-1,'已打标眼底图数量'] = hb_part_sssp.loc[hb_part_sssp.shape[0]-1,'已打标眼底图数量']\n",
    "########## 黄斑病变,瘢痕期|黄斑病变,早期\n",
    "hb_part_hbb = son_statistic_func(df_last_yd,'黄斑病变','黄斑病变,瘢痕期|黄斑病变,早期')\n",
    "# 指定行新数据\n",
    "ydb_table.loc[ydb_table.shape[0],'疾病子类'] = '黄斑病变,瘢痕期|黄斑病变,早期'\n",
    "ydb_table.loc[ydb_table.shape[0]-1,'已打标眼底图数量'] = hb_part_hbb.loc[hb_part_hbb.shape[0]-1,'已打标眼底图数量']\n",
    "# 黄斑病变子标签添加\n",
    "hb_part = son_statistic_func(df_last_yd,'黄斑病变','黄斑病变')\n",
    "ydb_table = ydb_table.append(hb_part[~hb_part['疾病子类'].str.contains('AMD|黄斑区色素上皮|黄斑裂孔|黄斑前膜|瘢痕期|早期')],ignore_index=True)"
   ]
  },
  {
   "cell_type": "code",
   "execution_count": null,
   "metadata": {},
   "outputs": [],
   "source": [
    "ydb_table"
   ]
  },
  {
   "cell_type": "code",
   "execution_count": null,
   "metadata": {},
   "outputs": [],
   "source": [
    "# 合并行函数\n",
    "def hebing_hang_func(df_table,delete_hang,mubiao_hang):\n",
    "    # 寻找合并子行的索引\n",
    "    b = df_table[df_table['疾病子类'].isin([delete_hang])].index.tolist()\n",
    "    # 寻找合并目标行的索引\n",
    "    a = df_table[df_table['疾病子类'].isin([mubiao_hang])].index.tolist()\n",
    "    df_table.at[a[0],'已打标眼底图数量'] += df_table.at[b[0],'已打标眼底图数量']\n",
    "    df_table = df_table.drop(b[0],axis=0)  # 删除指定index的行数据\n",
    "    return df_table"
   ]
  },
  {
   "cell_type": "code",
   "execution_count": null,
   "metadata": {},
   "outputs": [],
   "source": [
    "# 调用合并行函数，合并部分行数据\n",
    "ydb_table = hebing_hang_func(ydb_table,'黄斑病变,黄斑水肿,糖尿病性','黄斑病变,黄斑水肿')\n",
    "ydb_table = hebing_hang_func(ydb_table,'黄斑病变,瘢痕期|黄斑病变,早期','黄斑病变')\n",
    "ydb_table = hebing_hang_func(ydb_table,'黄斑病变,营养不良,先天性','黄斑病变,营养不良')\n",
    "\n",
    "# 修改部分行疾病的名称为指定内容\n",
    "c = ydb_table[ydb_table['疾病子类'].isin(['黄斑病变,黄斑水肿,黄斑囊样水肿'])].index.tolist() \n",
    "ydb_table.at[c[0],'疾病子类'] = '黄斑囊样水肿'\n",
    "d = ydb_table[ydb_table['疾病子类'].isin(['黄斑病变,黄斑囊样变性'])].index.tolist() \n",
    "ydb_table.at[d[0],'疾病子类'] = '黄斑囊样变性'\n",
    "e = ydb_table[ydb_table['疾病子类'].isin(['黄斑病变,黄斑变性,先天性,Stargardt病'])].index.tolist() \n",
    "ydb_table.at[e[0],'疾病子类'] = '先天性黄斑变性Stargardt病'\n",
    "f = ydb_table[ydb_table['疾病子类'].isin(['黄斑病变,黄斑变性,先天性,Best病'])].index.tolist() \n",
    "ydb_table.at[f[0],'疾病子类'] = '先天性黄斑变性Best病'"
   ]
  },
  {
   "cell_type": "code",
   "execution_count": null,
   "metadata": {},
   "outputs": [],
   "source": [
    "ydb_table"
   ]
  },
  {
   "cell_type": "code",
   "execution_count": null,
   "metadata": {},
   "outputs": [],
   "source": [
    "ydb_table.reset_index(drop=True,inplace=True)   # 重置index\n",
    "# 获取删除行的起始index和终止index\n",
    "hb_delete_start =  ydb_table[ydb_table['疾病子类'].isin(['老年性黄斑变性（AMD）'])].index.tolist()\n",
    "hb_delete_end = ydb_table[ydb_table['疾病子类'].isin(['黄斑病变类合计'])].index.tolist()\n",
    "# 筛选指定行内容并排序\n",
    "hbbb_sort = ydb_table[hb_delete_start[0]:hb_delete_end[0]].sort_values('已打标眼底图数量',ascending=False) # 筛选排序行内容 \n",
    "ydb_table = ydb_table.drop([i for i in range(hb_delete_start[0],hb_delete_end[0]+1)],axis=0)   # 根据行列表一次性删除index的多行\n",
    "ydb_table = ydb_table.append(hbbb_sort,ignore_index=True)"
   ]
  },
  {
   "cell_type": "code",
   "execution_count": null,
   "metadata": {},
   "outputs": [],
   "source": [
    "########## 黄斑病变——合计行添加\n",
    "qgy_part = son_statistic_func(df_last_yd,'黄斑病变','黄斑病变')\n",
    "# 指定行新数据\n",
    "ydb_table.loc[ydb_table.shape[0],'疾病子类'] = '黄斑病变类合计'\n",
    "ydb_table.loc[ydb_table.shape[0]-1,'已打标眼底图数量'] = qgy_part.loc[qgy_part.shape[0]-1,'已打标眼底图数量']"
   ]
  },
  {
   "cell_type": "code",
   "execution_count": null,
   "metadata": {},
   "outputs": [],
   "source": [
    "ydb_table"
   ]
  },
  {
   "cell_type": "markdown",
   "metadata": {},
   "source": [
    "#### 屈光不正"
   ]
  },
  {
   "cell_type": "code",
   "execution_count": null,
   "metadata": {},
   "outputs": [],
   "source": [
    "ydb_table = ydb_table.append(son_statistic_func(df_last_yd,'屈光不正','屈光不正'),ignore_index=True)"
   ]
  },
  {
   "cell_type": "markdown",
   "metadata": {},
   "source": [
    "#### 视网膜有髓神经纤维"
   ]
  },
  {
   "cell_type": "code",
   "execution_count": null,
   "metadata": {},
   "outputs": [],
   "source": [
    "ydb_table = ydb_table.append(son_statistic_func(df_last_yd,'视网膜有髓神经纤维','视网膜有髓神经纤维'),ignore_index=True)"
   ]
  },
  {
   "cell_type": "markdown",
   "metadata": {},
   "source": [
    "#### 眼底动脉硬化"
   ]
  },
  {
   "cell_type": "code",
   "execution_count": null,
   "metadata": {},
   "outputs": [],
   "source": [
    "ydb_table = ydb_table.append(son_statistic_func(df_last_yd,'眼底动脉硬化','眼底动脉硬化'),ignore_index=True)"
   ]
  },
  {
   "cell_type": "markdown",
   "metadata": {},
   "source": [
    "#### 视网膜脱离  视网膜色素上皮改变 脉络膜血管瘤 脉络膜缺损 黑色素瘤 色素痣 脉络膜病变 玻璃体浑浊 玻璃体后脱离 视盘水肿 玻璃体出血 大视杯 视盘缺损 视盘发育异常 视神经炎"
   ]
  },
  {
   "cell_type": "code",
   "execution_count": null,
   "metadata": {},
   "outputs": [],
   "source": [
    "ydb_table = ydb_table.append(son_statistic_func(df_last_yd,'视网膜脱离','视网膜脱离'),ignore_index=True)\n",
    "ydb_table = ydb_table.append(son_statistic_func(df_last_yd,'视网膜色素上皮改变','视网膜色素上皮改变'),ignore_index=True)\n",
    "ydb_table = ydb_table.append(son_statistic_func(df_last_yd,'脉络膜萎缩','脉络膜萎缩'),ignore_index=True)\n",
    "ydb_table = ydb_table.append(son_statistic_func(df_last_yd,'脉络膜血管瘤','脉络膜血管瘤'),ignore_index=True)\n",
    "ydb_table = ydb_table.append(son_statistic_func(df_last_yd,'脉络膜缺损','脉络膜缺损'),ignore_index=True)\n",
    "ydb_table = ydb_table.append(son_statistic_func(df_last_yd,'黑色素瘤','黑色素瘤'),ignore_index=True)\n",
    "ydb_table = ydb_table.append(son_statistic_func(df_last_yd,'色素痣','色素痣'),ignore_index=True)\n",
    "ydb_table = ydb_table.append(son_statistic_func(df_last_yd,'脉络膜病变','脉络膜病变'),ignore_index=True)\n",
    "ydb_table = ydb_table.append(son_statistic_func(df_last_yd,'玻璃体浑浊','玻璃体浑浊'),ignore_index=True)\n",
    "ydb_table = ydb_table.append(son_statistic_func(df_last_yd,'玻璃体后脱离','玻璃体后脱离'),ignore_index=True)\n",
    "ydb_table = ydb_table.append(son_statistic_func(df_last_yd,'视盘水肿','视盘水肿'),ignore_index=True)\n",
    "ydb_table = ydb_table.append(son_statistic_func(df_last_yd,'玻璃体出血','玻璃体出血'),ignore_index=True)\n",
    "ydb_table = ydb_table.append(son_statistic_func(df_last_yd,'大视杯','大视杯'),ignore_index=True)\n",
    "ydb_table = ydb_table.append(son_statistic_func(df_last_yd,'视盘缺损','视盘缺损'),ignore_index=True)\n",
    "ydb_table = ydb_table.append(son_statistic_func(df_last_yd,'视盘发育异常','视盘发育异常'),ignore_index=True)\n",
    "ydb_table = ydb_table.append(son_statistic_func(df_last_yd,'视神经炎','视神经炎'),ignore_index=True)"
   ]
  },
  {
   "cell_type": "markdown",
   "metadata": {},
   "source": [
    "#### '视网膜色素变性', '视网膜震荡', '视神经萎缩', 'Coats病', '早产儿视网膜病变ROP', '占位性病变','视网膜劈裂症', '缺血性视神经病变', '屈光间质浑浊', '结膜炎', 'Purtscher视网膜病变','缺血性视网膜病变', '息肉样脉络膜血管病变PCV','色素膜炎', '后发障', '斜视', '人工晶体眼','脉络膜骨瘤', '特发性脉络膜新生血管', '视网膜前膜', '结晶样视网膜变性', '视神经病变','病理性近视', '星状玻璃体变性', '晶体脱位', '高血压性视网膜病变', '巩膜炎', '闪辉性玻璃体液化',  '眼底出血', '虹膜炎', '无晶状体眼', '视网膜大动脉瘤', '眼底血管样条纹', '黑色素细胞瘤'"
   ]
  },
  {
   "cell_type": "code",
   "execution_count": null,
   "metadata": {},
   "outputs": [],
   "source": [
    "ydb_table = ydb_table.append(son_statistic_func(df_last_yd,'视网膜色素变性','视网膜色素变性'),ignore_index=True)\n",
    "ydb_table = ydb_table.append(son_statistic_func(df_last_yd,'视网膜震荡','视网膜震荡'),ignore_index=True)\n",
    "ydb_table = ydb_table.append(son_statistic_func(df_last_yd,'视神经萎缩','视神经萎缩'),ignore_index=True)\n",
    "ydb_table = ydb_table.append(son_statistic_func(df_last_yd,'Coats病','Coats病'),ignore_index=True)\n",
    "ydb_table = ydb_table.append(son_statistic_func(df_last_yd,'早产儿视网膜病变ROP','ROP'),ignore_index=True)\n",
    "ydb_table = ydb_table.append(son_statistic_func(df_last_yd,'占位性病变','占位性病变'),ignore_index=True)\n",
    "ydb_table = ydb_table.append(son_statistic_func(df_last_yd,'视网膜劈裂症','视网膜劈裂症'),ignore_index=True)\n",
    "ydb_table = ydb_table.append(son_statistic_func(df_last_yd,'缺血性视神经病变','缺血性视神经病变'),ignore_index=True)\n",
    "ydb_table = ydb_table.append(son_statistic_func(df_last_yd,'屈光间质浑浊','屈光间质浑浊'),ignore_index=True)\n",
    "ydb_table = ydb_table.append(son_statistic_func(df_last_yd,'结膜炎','结膜炎'),ignore_index=True)\n",
    "ydb_table = ydb_table.append(son_statistic_func(df_last_yd,'Purtscher视网膜病变','Purtscher视网膜病变'),ignore_index=True)\n",
    "ydb_table = ydb_table.append(son_statistic_func(df_last_yd,'缺血性视网膜病变','缺血性视网膜病变'),ignore_index=True)\n",
    "ydb_table = ydb_table.append(son_statistic_func(df_last_yd,'息肉样脉络膜血管病变PCV','息肉样脉络膜血管病变PCV'),ignore_index=True)\n",
    "ydb_table = ydb_table.append(son_statistic_func(df_last_yd,'色素膜炎','色素膜炎'),ignore_index=True)\n",
    "ydb_table = ydb_table.append(son_statistic_func(df_last_yd,'斜视','斜视'),ignore_index=True)\n",
    "ydb_table = ydb_table.append(son_statistic_func(df_last_yd,'人工晶体眼','人工晶体眼'),ignore_index=True)\n",
    "ydb_table = ydb_table.append(son_statistic_func(df_last_yd,'脉络膜骨瘤','脉络膜骨瘤'),ignore_index=True)\n",
    "ydb_table = ydb_table.append(son_statistic_func(df_last_yd,'特发性脉络膜新生血管','特发性脉络膜新生血管'),ignore_index=True)\n",
    "ydb_table = ydb_table.append(son_statistic_func(df_last_yd,'视网膜前膜','视网膜前膜'),ignore_index=True)\n",
    "ydb_table = ydb_table.append(son_statistic_func(df_last_yd,'结晶样视网膜变性','结晶样视网膜变性'),ignore_index=True)\n",
    "ydb_table = ydb_table.append(son_statistic_func(df_last_yd,'视神经病变','视神经病变'),ignore_index=True)\n",
    "ydb_table = ydb_table.append(son_statistic_func(df_last_yd,'病理性近视','病理性近视'),ignore_index=True)\n",
    "ydb_table = ydb_table.append(son_statistic_func(df_last_yd,'星状玻璃体变性','星状玻璃体变性'),ignore_index=True)\n",
    "ydb_table = ydb_table.append(son_statistic_func(df_last_yd,'晶体脱位','晶体脱位'),ignore_index=True)\n",
    "ydb_table = ydb_table.append(son_statistic_func(df_last_yd,'高血压性视网膜病变','高血压性视网膜病变'),ignore_index=True)\n",
    "ydb_table = ydb_table.append(son_statistic_func(df_last_yd,'巩膜炎','巩膜炎'),ignore_index=True)\n",
    "ydb_table = ydb_table.append(son_statistic_func(df_last_yd,'闪辉性玻璃体液化','闪辉性玻璃体液化'),ignore_index=True)\n",
    "ydb_table = ydb_table.append(son_statistic_func(df_last_yd,'眼底出血','眼底出血'),ignore_index=True)\n",
    "ydb_table = ydb_table.append(son_statistic_func(df_last_yd,'虹膜炎','虹膜炎'),ignore_index=True)\n",
    "ydb_table = ydb_table.append(son_statistic_func(df_last_yd,'无晶状体眼','无晶状体眼'),ignore_index=True)\n",
    "ydb_table = ydb_table.append(son_statistic_func(df_last_yd,'视网膜大动脉瘤','视网膜大动脉瘤'),ignore_index=True)\n",
    "ydb_table = ydb_table.append(son_statistic_func(df_last_yd,'眼底血管样条纹','眼底血管样条纹'),ignore_index=True)\n",
    "ydb_table = ydb_table.append(son_statistic_func(df_last_yd,'黑色素细胞瘤','黑色素细胞瘤'),ignore_index=True)\n",
    "ydb_table = ydb_table.append(son_statistic_func(df_last_yd,'后发障','后发障'),ignore_index=True)"
   ]
  },
  {
   "cell_type": "code",
   "execution_count": null,
   "metadata": {},
   "outputs": [],
   "source": [
    "ydb_table"
   ]
  },
  {
   "cell_type": "markdown",
   "metadata": {},
   "source": [
    "### 筛选——可打标眼底图像数量统计\n",
    "筛选条件：”图像类别“==眼底图，缺少左、右眼标签，而且左、右眼疾病种类不同"
   ]
  },
  {
   "cell_type": "code",
   "execution_count": null,
   "metadata": {},
   "outputs": [],
   "source": [
    "# 判断左右糖网是否均为空\n",
    "# pd.isnull(df_last_yd.at[0,'left_糖网']) and pd.isnull(df_last_yd.at[0,'right_糖网'])"
   ]
  },
  {
   "cell_type": "code",
   "execution_count": null,
   "metadata": {},
   "outputs": [],
   "source": [
    "rop"
   ]
  },
  {
   "cell_type": "code",
   "execution_count": null,
   "metadata": {},
   "outputs": [],
   "source": [
    "# 逐行添加”未打标的含指定疾病的“，无左右眼标签，且左右眼疾病标签不同的行数据\n",
    "def not_label_func(df,l_column,r_column):\n",
    "    df_lr_dif = pd.DataFrame()\n",
    "    for i in range(df.shape[0]):\n",
    "        if pd.isnull(df.at[i,l_column]) and pd.isnull(df.at[i,r_column]):\n",
    "            pass\n",
    "        else:\n",
    "            if df.at[i,l_column] == df.at[i,r_column]:\n",
    "                pass\n",
    "            else:\n",
    "                df_lr_dif = df_lr_dif.append(pd.DataFrame(data=df.iloc[i:i+1,:]))\n",
    "    print(\"左右眼疾病标签不一致的shape：{}\".format(df_lr_dif.shape[0]))\n",
    "    df_lr_weizhi = df_lr_dif[df_lr_dif['左右眼']==2]\n",
    "    df_lr_isnull = df_lr_dif[df_lr_dif['左右眼'].isnull()]\n",
    "    print(\"左右眼疾病标签不一致的标签数据中——左右眼==2未知的shape：{}\".format(df_lr_weizhi.shape[0]))\n",
    "    print(\"左右眼疾病标签不一致的标签数据中——左右眼isnull的shape：{}\".format(df_lr_isnull.shape[0]))\n",
    "    df_wdb = df_lr_weizhi.append(df_lr_isnull,ignore_index=True)\n",
    "    print( l_column[5:]+\"无左右眼，左右疾病不一致的眼底图shape：{}\".format(df_wdb.shape[0]))\n",
    "    return df_wdb"
   ]
  },
  {
   "cell_type": "code",
   "execution_count": null,
   "metadata": {},
   "outputs": [],
   "source": [
    "df_wdb_last_tw = not_label_func(df_last_yd,'left_糖网','right_糖网')\n",
    "df_wdb_last_qgy = not_label_func(df_last_yd,'left_青光眼','right_青光眼')\n",
    "df_wdb_last_bnz = not_label_func(df_last_yd,'left_白内障','right_白内障')\n",
    "df_wdb_last_qgbz = not_label_func(df_last_yd,'left_屈光不正','right_屈光不正')"
   ]
  },
  {
   "cell_type": "code",
   "execution_count": null,
   "metadata": {},
   "outputs": [],
   "source": [
    "df_wdb_last_hbbb = not_label_func(df_last_yd,'left_黄斑病变','right_黄斑病变')"
   ]
  },
  {
   "cell_type": "code",
   "execution_count": null,
   "metadata": {},
   "outputs": [],
   "source": [
    "df_wdb_last_xgzs = not_label_func(df_last_yd,'left_视网膜血管阻塞','right_视网膜血管阻塞')\n",
    "df_wdb_last_xgy = not_label_func(df_last_yd,'left_视网膜血管炎','right_视网膜血管炎')\n",
    "df_wdb_last_ys = not_label_func(df_last_yd,'left_视网膜有髓神经纤维','right_视网膜有髓神经纤维')\n",
    "df_wdb_last_dmyh = not_label_func(df_last_yd,'left_眼底动脉硬化','right_眼底动脉硬化')\n",
    "df_wdb_last_swtl = not_label_func(df_last_yd,'left_视网膜脱离','right_视网膜脱离')\n",
    "df_wdb_last_ssspgb = not_label_func(df_last_yd,'left_视网膜色素上皮改变','right_视网膜色素上皮改变')\n",
    "df_wdb_last_mlmws = not_label_func(df_last_yd,'left_脉络膜萎缩','right_脉络膜萎缩')\n",
    "df_wdb_last_mlmwsmxgl = not_label_func(df_last_yd,'left_脉络膜血管瘤','right_脉络膜血管瘤')"
   ]
  },
  {
   "cell_type": "code",
   "execution_count": null,
   "metadata": {},
   "outputs": [],
   "source": [
    "df_wdb_last_mlmqs = not_label_func(df_last_yd,'left_脉络膜缺损','right_脉络膜缺损')\n",
    "df_wdb_last_hssl = not_label_func(df_last_yd,'left_黑色素瘤','right_黑色素瘤')\n",
    "df_wdb_last_ssz = not_label_func(df_last_yd,'left_色素痣','right_色素痣')\n",
    "df_wdb_last_mlmbb = not_label_func(df_last_yd,'left_脉络膜病变','right_脉络膜病变')\n",
    "df_wdb_last_blthz = not_label_func(df_last_yd,'left_玻璃体浑浊','right_玻璃体浑浊')\n",
    "df_wdb_last_blthzthtl = not_label_func(df_last_yd,'left_玻璃体后脱离','right_玻璃体后脱离')\n",
    "df_wdb_last_spsz = not_label_func(df_last_yd,'left_视盘水肿','right_视盘水肿')\n",
    "df_wdb_last_bltcx = not_label_func(df_last_yd,'left_玻璃体出血','right_玻璃体出血')\n",
    "df_wdb_last_dsb = not_label_func(df_last_yd,'left_大视杯','right_大视杯')\n",
    "df_wdb_last_spszqs = not_label_func(df_last_yd,'left_视盘缺损','right_视盘缺损')\n",
    "df_wdb_last_spfyyc = not_label_func(df_last_yd,'left_视盘发育异常','right_视盘发育异常')\n",
    "df_wdb_last_ssjy = not_label_func(df_last_yd,'left_视神经炎','right_视神经炎')"
   ]
  },
  {
   "cell_type": "code",
   "execution_count": null,
   "metadata": {},
   "outputs": [],
   "source": [
    "# 第二批\n",
    "df_wdb_last_01 = not_label_func(df_last_yd,'left_视网膜色素变性','right_视网膜色素变性')\n",
    "df_wdb_last_02 = not_label_func(df_last_yd,'left_视网膜震荡','right_视网膜震荡')\n",
    "df_wdb_last_03 = not_label_func(df_last_yd,'left_视神经萎缩','right_视神经萎缩')\n",
    "df_wdb_last_04 = not_label_func(df_last_yd,'left_Coats病','right_Coats病')\n",
    "# df_wdb_last_05 = not_label_func(df_last_yd,'left_早产儿视网膜病变ROP','right_早产儿视网膜病变ROP')   # 不存在未打标的数据，故未打标DataFrame为空，统计报错\n",
    "df_wdb_last_06 = not_label_func(df_last_yd,'left_占位性病变','right_占位性病变')\n",
    "df_wdb_last_07 = not_label_func(df_last_yd,'left_视网膜劈裂症','right_视网膜劈裂症')\n",
    "df_wdb_last_08 = not_label_func(df_last_yd,'left_缺血性视神经病变','right_缺血性视神经病变')\n",
    "df_wdb_last_09 = not_label_func(df_last_yd,'left_屈光间质浑浊','right_屈光间质浑浊')"
   ]
  },
  {
   "cell_type": "code",
   "execution_count": null,
   "metadata": {},
   "outputs": [],
   "source": [
    "df_wdb_last_10 = not_label_func(df_last_yd,'left_结膜炎','right_结膜炎')\n",
    "df_wdb_last_11 = not_label_func(df_last_yd,'left_Purtscher视网膜病变','right_Purtscher视网膜病变')\n",
    "df_wdb_last_12 = not_label_func(df_last_yd,'left_缺血性视网膜病变','right_缺血性视网膜病变')\n",
    "df_wdb_last_13 = not_label_func(df_last_yd,'left_息肉样脉络膜血管病变PCV','right_息肉样脉络膜血管病变PCV')\n",
    "df_wdb_last_14 = not_label_func(df_last_yd,'left_色素膜炎','right_色素膜炎')\n",
    "df_wdb_last_15 = not_label_func(df_last_yd,'left_后发障','right_后发障')\n",
    "df_wdb_last_16 = not_label_func(df_last_yd,'left_斜视','right_斜视')\n",
    "df_wdb_last_17 = not_label_func(df_last_yd,'left_人工晶体眼','right_人工晶体眼')\n",
    "df_wdb_last_18 = not_label_func(df_last_yd,'left_脉络膜骨瘤','right_脉络膜骨瘤')"
   ]
  },
  {
   "cell_type": "code",
   "execution_count": null,
   "metadata": {},
   "outputs": [],
   "source": [
    "df_wdb_last_19 = not_label_func(df_last_yd,'left_特发性脉络膜新生血管','right_特发性脉络膜新生血管')\n",
    "df_wdb_last_20 = not_label_func(df_last_yd,'left_视网膜前膜','right_视网膜前膜')\n",
    "# df_wdb_last_21 = not_label_func(df_last_yd,'left_结晶样视网膜变性','right_结晶样视网膜变性')\n",
    "df_wdb_last_22 = not_label_func(df_last_yd,'left_视神经病变','right_视神经病变')\n",
    "df_wdb_last_23 = not_label_func(df_last_yd,'left_病理性近视','right_病理性近视')\n",
    "df_wdb_last_24 = not_label_func(df_last_yd,'left_星状玻璃体变性','right_星状玻璃体变性')\n",
    "df_wdb_last_25 = not_label_func(df_last_yd,'left_晶体脱位','right_晶体脱位')\n",
    "df_wdb_last_26 = not_label_func(df_last_yd,'left_高血压性视网膜病变','right_高血压性视网膜病变')\n",
    "df_wdb_last_27 = not_label_func(df_last_yd,'left_巩膜炎','right_巩膜炎')"
   ]
  },
  {
   "cell_type": "code",
   "execution_count": null,
   "metadata": {},
   "outputs": [],
   "source": [
    "df_wdb_last_28 = not_label_func(df_last_yd,'left_闪辉性玻璃体液化','right_闪辉性玻璃体液化')\n",
    "df_wdb_last_29 = not_label_func(df_last_yd,'left_眼底出血','right_眼底出血')\n",
    "df_wdb_last_30 = not_label_func(df_last_yd,'left_虹膜炎','right_虹膜炎')\n",
    "df_wdb_last_31 = not_label_func(df_last_yd,'left_无晶状体眼','right_无晶状体眼')\n",
    "df_wdb_last_32 = not_label_func(df_last_yd,'left_视网膜大动脉瘤','right_视网膜大动脉瘤')\n",
    "df_wdb_last_33 = not_label_func(df_last_yd,'left_眼底血管样条纹','right_眼底血管样条纹')\n",
    "df_wdb_last_34 = not_label_func(df_last_yd,'left_黑色素细胞瘤','right_黑色素细胞瘤')"
   ]
  },
  {
   "cell_type": "code",
   "execution_count": null,
   "metadata": {},
   "outputs": [],
   "source": [
    "rop"
   ]
  },
  {
   "cell_type": "code",
   "execution_count": null,
   "metadata": {},
   "outputs": [],
   "source": [
    "###### 绘制未打标标签表\n",
    "wdb_table = pd.DataFrame(columns=['疾病子类','未打标眼底图数量']) "
   ]
  },
  {
   "cell_type": "code",
   "execution_count": null,
   "metadata": {},
   "outputs": [],
   "source": [
    "# '早产儿视网膜病变ROP类合计','结晶样视网膜变性类合计',"
   ]
  },
  {
   "cell_type": "code",
   "execution_count": null,
   "metadata": {},
   "outputs": [],
   "source": [
    "wdb_table['疾病子类'] = ['糖网','白内障','青光眼','屈光不正类合计','黄斑病变类合计','视网膜血管阻塞类合计','视网膜血管炎类合计',\n",
    "                     '视网膜有髓神经纤维类合计','眼底动脉硬化类合计','视网膜脱离类合计','视网膜色素上皮改变类合计','脉络膜萎缩类合计',\n",
    "                     '脉络膜血管瘤类合计','脉络膜缺损类合计','黑色素瘤类合计','色素痣类合计','脉络膜病变类合计','玻璃体浑浊类合计',\n",
    "                     '玻璃体后脱离类合计','视盘水肿类合计','玻璃体出血类合计','大视杯类合计','视盘缺损类合计','视盘发育异常类合计',\n",
    "                     '视神经炎类合计','视网膜色素变性类合计', '视网膜震荡类合计', '视神经萎缩类合计', 'Coats病类合计', \n",
    "                     '占位性病变类合计','视网膜劈裂症类合计', '缺血性视神经病变类合计', '屈光间质浑浊类合计', '结膜炎类合计', \n",
    "                     'Purtscher视网膜病变类合计','缺血性视网膜病变类合计', '息肉样脉络膜血管病变PCV类合计','色素膜炎类合计', '后发障类合计',\n",
    "                     '斜视类合计', '人工晶体眼类合计','脉络膜骨瘤类合计', '特发性脉络膜新生血管类合计', '视网膜前膜类合计',\n",
    "                      '视神经病变类合计','病理性近视类合计', '星状玻璃体变性类合计', '晶体脱位类合计',\n",
    "                     '高血压性视网膜病变类合计', '巩膜炎类合计', '闪辉性玻璃体液化类合计', '眼底出血类合计', '虹膜炎类合计',\n",
    "                     '无晶状体眼类合计', '视网膜大动脉瘤类合计', '眼底血管样条纹类合计', '黑色素细胞瘤类合计','后发障类合计']"
   ]
  },
  {
   "cell_type": "code",
   "execution_count": null,
   "metadata": {},
   "outputs": [],
   "source": [
    "# df_wdb_last_05.shape[0],df_wdb_last_21.shape[0],"
   ]
  },
  {
   "cell_type": "code",
   "execution_count": null,
   "metadata": {},
   "outputs": [],
   "source": [
    "wdb_table['未打标眼底图数量'] = [df_wdb_last_tw.shape[0],df_wdb_last_bnz.shape[0],df_wdb_last_qgy.shape[0],\n",
    "                         df_wdb_last_qgbz.shape[0],df_wdb_last_hbbb.shape[0],df_wdb_last_xgzs.shape[0],\n",
    "                         df_wdb_last_xgy.shape[0],df_wdb_last_ys.shape[0],df_wdb_last_dmyh.shape[0],\n",
    "                         df_wdb_last_swtl.shape[0],df_wdb_last_ssspgb.shape[0],df_wdb_last_mlmws.shape[0],\n",
    "                         df_wdb_last_mlmwsmxgl.shape[0],df_wdb_last_mlmqs.shape[0],df_wdb_last_hssl.shape[0],\n",
    "                         df_wdb_last_ssz.shape[0],df_wdb_last_mlmbb.shape[0],df_wdb_last_blthz.shape[0],\n",
    "                         df_wdb_last_blthzthtl.shape[0],df_wdb_last_spsz.shape[0],df_wdb_last_bltcx.shape[0],\n",
    "                         df_wdb_last_dsb.shape[0],df_wdb_last_spszqs.shape[0],df_wdb_last_spfyyc.shape[0],\n",
    "                         df_wdb_last_ssjy.shape[0],df_wdb_last_01.shape[0],df_wdb_last_02.shape[0],df_wdb_last_03.shape[0],\n",
    "                         df_wdb_last_04.shape[0],df_wdb_last_06.shape[0],df_wdb_last_07.shape[0],\n",
    "                         df_wdb_last_08.shape[0],df_wdb_last_09.shape[0],df_wdb_last_10.shape[0],df_wdb_last_11.shape[0],\n",
    "                         df_wdb_last_12.shape[0],df_wdb_last_13.shape[0],df_wdb_last_14.shape[0],df_wdb_last_15.shape[0],\n",
    "                         df_wdb_last_16.shape[0],df_wdb_last_17.shape[0],df_wdb_last_18.shape[0],df_wdb_last_19.shape[0],\n",
    "                         df_wdb_last_20.shape[0],df_wdb_last_22.shape[0],df_wdb_last_23.shape[0],\n",
    "                         df_wdb_last_24.shape[0],df_wdb_last_25.shape[0],df_wdb_last_26.shape[0],df_wdb_last_27.shape[0],\n",
    "                         df_wdb_last_28.shape[0],df_wdb_last_29.shape[0],df_wdb_last_30.shape[0],df_wdb_last_31.shape[0],\n",
    "                         df_wdb_last_32.shape[0],df_wdb_last_33.shape[0],df_wdb_last_34.shape[0],df_wdb_last_35.shape[0]]"
   ]
  },
  {
   "cell_type": "code",
   "execution_count": null,
   "metadata": {},
   "outputs": [],
   "source": [
    "wdb_table   # 未打标疾病标签统计"
   ]
  },
  {
   "cell_type": "code",
   "execution_count": null,
   "metadata": {},
   "outputs": [],
   "source": [
    "ydb_table  # # 已打标疾病标签统计"
   ]
  },
  {
   "cell_type": "code",
   "execution_count": null,
   "metadata": {},
   "outputs": [],
   "source": [
    "ydb_table[ydb_table['疾病子类'].str.contains('后发障')]"
   ]
  },
  {
   "cell_type": "code",
   "execution_count": null,
   "metadata": {},
   "outputs": [],
   "source": [
    "# 最终的结果统计表\n",
    "statistic_table = pd.merge(ydb_table,wdb_table,how='left',on='疾病子类')\n",
    "statistic_table"
   ]
  },
  {
   "cell_type": "code",
   "execution_count": null,
   "metadata": {},
   "outputs": [],
   "source": [
    "statistic_table['可打标眼底图数量'] = statistic_table.loc[:,['已打标眼底图数量','未打标眼底图数量']].apply(lambda x: x.sum(),axis=1)\n",
    "# 将数据类型转为int型\n",
    "statistic_table[['已打标眼底图数量','可打标眼底图数量']] = statistic_table[['已打标眼底图数量','可打标眼底图数量']].astype(int)  "
   ]
  },
  {
   "cell_type": "code",
   "execution_count": null,
   "metadata": {},
   "outputs": [],
   "source": [
    "statistic_table.drop_duplicates(subset='疾病子类',keep='first',inplace=True)\n",
    "statistic_table.reset_index(drop=True,inplace=True)\n",
    "statistic_table"
   ]
  },
  {
   "cell_type": "code",
   "execution_count": null,
   "metadata": {},
   "outputs": [],
   "source": [
    "statistic_table['已打标眼底图数量/总眼底图的占比'] = statistic_table['已打标眼底图数量']/df_last_yd.shape[0]\n",
    "statistic_table['已打标眼底图数量/可打标眼底图的占比'] = statistic_table['已打标眼底图数量']/statistic_table['可打标眼底图数量']\n",
    "# 设置显示格式为百分比\n",
    "statistic_table['已打标眼底图数量/总眼底图的占比'] = statistic_table['已打标眼底图数量/总眼底图的占比'].map(lambda x:format(x,'.2%'))\n",
    "statistic_table['已打标眼底图数量/可打标眼底图的占比'] = statistic_table['已打标眼底图数量/可打标眼底图的占比'].map(lambda x:format(x,'.2%'))"
   ]
  },
  {
   "cell_type": "markdown",
   "metadata": {},
   "source": [
    "### 导出最终的结果统计表"
   ]
  },
  {
   "cell_type": "code",
   "execution_count": null,
   "metadata": {},
   "outputs": [],
   "source": [
    "246-59+3"
   ]
  },
  {
   "cell_type": "code",
   "execution_count": null,
   "metadata": {},
   "outputs": [],
   "source": [
    "out_put_path = r'/Users/edz/Documents/yandi_data/AI_data/zn_dc_ai总表/总表_Last'\n",
    "out_put_file = r'/眼底图像的疾病打标情况统计表_last190.xlsx'\n",
    "writer = pd.ExcelWriter(out_put_path + out_put_file)\n",
    "statistic_table.to_excel(writer,sheet_name='眼底图像的疾病打标情况统计表',index=None)\n",
    "writer.save()"
   ]
  },
  {
   "cell_type": "code",
   "execution_count": null,
   "metadata": {},
   "outputs": [],
   "source": [
    "da = ydb_table[ydb_table['疾病子类'].str.contains('类合计')]"
   ]
  },
  {
   "cell_type": "code",
   "execution_count": null,
   "metadata": {},
   "outputs": [],
   "source": [
    "zi_df = ydb_table.append(da)"
   ]
  },
  {
   "cell_type": "code",
   "execution_count": null,
   "metadata": {},
   "outputs": [],
   "source": [
    "zi_df.drop_duplicates(subset='疾病子类',keep=False,inplace=True)"
   ]
  },
  {
   "cell_type": "code",
   "execution_count": null,
   "metadata": {},
   "outputs": [],
   "source": [
    "zi_df['已打标眼底图数量'] = zi_df['已打标眼底图数量'].astype(int)\n",
    "zi_df.sort_values(by='已打标眼底图数量',inplace=True,ascending=False)\n",
    "zi_df.reset_index(drop=True,inplace=True)\n",
    "zi_df"
   ]
  },
  {
   "cell_type": "code",
   "execution_count": null,
   "metadata": {},
   "outputs": [],
   "source": [
    "zi_df_top30 =zi_df.iloc[:30,:] \n",
    "zi_df_top30"
   ]
  },
  {
   "cell_type": "code",
   "execution_count": null,
   "metadata": {},
   "outputs": [],
   "source": [
    "output_path = r'/Users/edz/Documents/yandi_data/AI_data/标签汇总表'\n",
    "output_file = r'/疾病190子类条形图_top30.xlsx'\n",
    "writer = pd.ExcelWriter(output_path + output_file)\n",
    "zi_df.to_excel(writer,sheet_name='疾病190种子类条形图_全',index=None)\n",
    "zi_df_top30.to_excel(writer,sheet_name='疾病190子类条形图Top30',index=None)\n",
    "writer.save()"
   ]
  },
  {
   "cell_type": "markdown",
   "metadata": {},
   "source": [
    "### 绘制疾病标签占比饼图"
   ]
  },
  {
   "cell_type": "code",
   "execution_count": null,
   "metadata": {},
   "outputs": [],
   "source": [
    "# 选取含”类合计“的项\n",
    "da_data = ydb_table[ydb_table['疾病子类'].str.contains('类合计')]\n",
    "# 合并“糖、青、白”\n",
    "da_data_add = ydb_table.loc[0:2,:]\n",
    "da_data = da_data.append(da_data_add, ignore_index=True) \n",
    "da_data"
   ]
  },
  {
   "cell_type": "code",
   "execution_count": null,
   "metadata": {},
   "outputs": [],
   "source": [
    "da_data['已打标眼底图数量'] = da_data['已打标眼底图数量'].astype(int)\n",
    "da_data = da_data.sort_values(by='已打标眼底图数量', ascending=False)"
   ]
  },
  {
   "cell_type": "code",
   "execution_count": null,
   "metadata": {},
   "outputs": [],
   "source": [
    "# pandas.Series.str.replace进行局部名称替换\n",
    "da_data['疾病子类'] = da_data['疾病子类'].str.replace('合计','',regex=True)"
   ]
  },
  {
   "cell_type": "code",
   "execution_count": null,
   "metadata": {},
   "outputs": [],
   "source": [
    "da_data.drop_duplicates(subset=\"疾病子类\",keep='first',inplace=True)\n",
    "da_data.reset_index(drop=True,inplace=True)"
   ]
  },
  {
   "cell_type": "code",
   "execution_count": null,
   "metadata": {},
   "outputs": [],
   "source": [
    "da_data"
   ]
  },
  {
   "cell_type": "code",
   "execution_count": null,
   "metadata": {},
   "outputs": [],
   "source": [
    "da_data_top30 = da_data.iloc[:30,:] \n",
    "da_data_top30"
   ]
  },
  {
   "cell_type": "code",
   "execution_count": null,
   "metadata": {},
   "outputs": [],
   "source": [
    "output_path = r'/Users/edz/Documents/yandi_data/AI_data/标签汇总表'\n",
    "output_file = r'/59大类眼底疾病条形图_top30.xlsx'\n",
    "writer = pd.ExcelWriter(output_path + output_file)\n",
    "da_data.to_excel(writer,sheet_name='59大类眼底疾病条形图_全',index=None)\n",
    "da_data_top30.to_excel(writer,sheet_name='59大类眼底疾病条形图Top30',index=None)\n",
    "writer.save()"
   ]
  },
  {
   "cell_type": "markdown",
   "metadata": {},
   "source": [
    "### 绘图"
   ]
  },
  {
   "cell_type": "code",
   "execution_count": null,
   "metadata": {},
   "outputs": [],
   "source": [
    "from pylab import *\n",
    "mpl.rcParams['font.sans-serif'] = ['Songti SC']\n",
    "mpl.rcParams['axes.unicode_minus'] = False\n",
    "%matplotlib inline\n",
    "from IPython import display\n",
    "from matplotlib import pyplot as plt\n",
    "import seaborn as sns\n",
    "import scipy.stats as sci"
   ]
  },
  {
   "cell_type": "code",
   "execution_count": null,
   "metadata": {},
   "outputs": [],
   "source": [
    "def auto_text(rects):\n",
    "    for rect in rects:\n",
    "        ax.text(rect.get_x(), rect.get_height(), rect.get_height(), ha='left', va='bottom')"
   ]
  },
  {
   "cell_type": "code",
   "execution_count": null,
   "metadata": {},
   "outputs": [],
   "source": [
    "# 设置图片大小\n",
    "plt.figure(figsize=(20, 18))\n",
    "# pal = sns.color_palette(\"Greens_d\",len(da_data_top30['疾病子类'])\n",
    "# 绘制水平图\n",
    "sns.set(context='notebook',style='darkgrid',palette='deep',font='Songti SC',font_scale=1.2)\n",
    "ax = sns.barplot( da_data_top30['疾病子类'],da_data_top30['已打标眼底图数量'],palette=\"Set1\")\n",
    "plt.xlabel('已打标眼底图数量',fontsize=15)\n",
    "plt.ylabel('疾病子类',fontsize=15)\n",
    "\n",
    "for column,row in da_data_top30.iterrows():\n",
    "#     print(row)\n",
    "    ax.text(row.疾病子类,row.已打标眼底图数量,'row.已打标眼底图数量')\n",
    "\n",
    "# #为横向水平的柱图右侧添加数据标签。\n",
    "# for rect in rect1 :\n",
    "#     w = rect.get_hight()\n",
    "#     ax.text(rect.get_x(), rect.get_height(), rect.get_height(), ha='left', va='bottom')\n",
    "\n",
    "plt.show()"
   ]
  },
  {
   "cell_type": "code",
   "execution_count": null,
   "metadata": {},
   "outputs": [],
   "source": [
    "# ax[0].get_height()\n",
    " for rect in rect1 :\n",
    "    w = rect.get_hight()\n",
    "    ax.text(rect.get_x(), rect.get_height(), rect.get_height(), ha='left', va='bottom')"
   ]
  },
  {
   "cell_type": "code",
   "execution_count": null,
   "metadata": {},
   "outputs": [],
   "source": [
    "da_data_top30"
   ]
  },
  {
   "cell_type": "code",
   "execution_count": null,
   "metadata": {},
   "outputs": [],
   "source": [
    "for column,row in da_data_top30.iterrows():\n",
    "    print(row.已打标眼底图数量)\n",
    "# ax.text(row.疾病子类,row.已打标眼底图数量)"
   ]
  },
  {
   "cell_type": "code",
   "execution_count": null,
   "metadata": {},
   "outputs": [],
   "source": [
    " for index,row in da_data_top30['已打标眼底图数量'].iterrows():\n",
    "        print(index,row)"
   ]
  },
  {
   "cell_type": "code",
   "execution_count": null,
   "metadata": {},
   "outputs": [],
   "source": [
    "city_name = da_data_top30['疾病子类'].to_list\n",
    "city_name"
   ]
  },
  {
   "cell_type": "code",
   "execution_count": null,
   "metadata": {},
   "outputs": [],
   "source": [
    "# 添加占比数据列\n",
    "a = statistic_table\n",
    "a['已打标眼底图数量/总眼底图的占比'] = a['已打标眼底图数量']/df_last_yd.shape[0]\n",
    "a['已打标眼底图数量/可打标眼底图的占比'] = a['已打标眼底图数量']/a['可打标眼底图数量']\n",
    "# 设置显示格式为百分比\n",
    "a['已打标眼底图数量/总眼底图的占比'] = a['已打标眼底图数量/总眼底图的占比'].map(lambda x:format(x,'.2%'))\n",
    "a['已打标眼底图数量/可打标眼底图的占比'] = a['已打标眼底图数量/可打标眼底图的占比'].map(lambda x:format(x,'.2%'))"
   ]
  },
  {
   "cell_type": "code",
   "execution_count": null,
   "metadata": {},
   "outputs": [],
   "source": []
  },
  {
   "cell_type": "code",
   "execution_count": null,
   "metadata": {},
   "outputs": [],
   "source": [
    "df_last_yd.shape[0]"
   ]
  },
  {
   "cell_type": "code",
   "execution_count": null,
   "metadata": {},
   "outputs": [],
   "source": []
  },
  {
   "cell_type": "code",
   "execution_count": null,
   "metadata": {},
   "outputs": [],
   "source": []
  },
  {
   "cell_type": "code",
   "execution_count": null,
   "metadata": {},
   "outputs": [],
   "source": [
    "plt.pie(x, label, explode,shadow=True,pctdistance=0.6,labeldistance=1.1，startangle=90) # explode表示部分扇形突出，x,label,explode均为数组形式数据"
   ]
  },
  {
   "cell_type": "code",
   "execution_count": null,
   "metadata": {},
   "outputs": [],
   "source": [
    "b = a[['疾病子类','已打标眼底图数量/可打标眼底图的占比']]"
   ]
  },
  {
   "cell_type": "code",
   "execution_count": null,
   "metadata": {},
   "outputs": [],
   "source": [
    "c = b.drop([x for x in range(3,11)],axis=0)"
   ]
  },
  {
   "cell_type": "code",
   "execution_count": null,
   "metadata": {},
   "outputs": [],
   "source": [
    "c = c.drop([x for x in range(34,42)],axis=0)\n",
    "c "
   ]
  },
  {
   "cell_type": "code",
   "execution_count": null,
   "metadata": {},
   "outputs": [],
   "source": [
    "c"
   ]
  },
  {
   "cell_type": "code",
   "execution_count": null,
   "metadata": {},
   "outputs": [],
   "source": [
    "import matplotlib.pyplot as plt\n",
    "plt.rcParams['font.sans-serif']=['STHeiti'] #用来正常显示中文标签\n",
    "plt.rcParams['axes.unicode_minus']=False #用来正常显示负号\n",
    "matplotlib.matplotlib_fname()  # 确认字体的安装目录"
   ]
  },
  {
   "cell_type": "code",
   "execution_count": null,
   "metadata": {},
   "outputs": [],
   "source": [
    "from matplotlib import font_manager\n",
    "x = sorted([f.name for f in font_manager.fontManager.ttflist])\n",
    "for i in x:\n",
    "    print(i)"
   ]
  },
  {
   "cell_type": "code",
   "execution_count": null,
   "metadata": {},
   "outputs": [],
   "source": [
    "plt.rcParams['font.sans-serif']=['STHeiti'] #用来正常显示中文标签"
   ]
  },
  {
   "cell_type": "code",
   "execution_count": null,
   "metadata": {},
   "outputs": [],
   "source": [
    "d = a[['疾病子类','已打标眼底图数量/总眼底图的占比']]"
   ]
  },
  {
   "cell_type": "code",
   "execution_count": null,
   "metadata": {},
   "outputs": [],
   "source": [
    "d = d.drop([11,15,33,42],axis=0)\n",
    "d"
   ]
  },
  {
   "cell_type": "code",
   "execution_count": null,
   "metadata": {},
   "outputs": [],
   "source": [
    "# Hiragino Sans GB\n",
    "# Songti SC\n",
    "# Heiti TC\n",
    "# PingFang HK\n",
    "# Songti SC\n",
    "import matplotlib\n",
    "\n",
    "font = {'family' : 'Songti SC',\n",
    "        'weight' : 'bold',\n",
    "        'size'   : 10}\n",
    "matplotlib.rc(\"font\", **font)"
   ]
  },
  {
   "cell_type": "code",
   "execution_count": null,
   "metadata": {
    "scrolled": true
   },
   "outputs": [],
   "source": [
    "plt.rc(font)\n",
    "fig = plt.figure()\n",
    "plt.pie(d['已打标眼底图数量/总眼底图的占比'],labels=d['疾病子类'],autopct='%1.2f%%') #画饼图（数据，数据对应的标签，百分数保留两位小数点）\n",
    "plt.title(\"已打标眼底图数量/总眼底图的占比分布\")\n",
    "plt.show()"
   ]
  },
  {
   "cell_type": "markdown",
   "metadata": {},
   "source": [
    "### 导出没有32分类标签的原始数据，并拆分为6份"
   ]
  },
  {
   "cell_type": "code",
   "execution_count": null,
   "metadata": {},
   "outputs": [],
   "source": [
    "# 导出没有32分类标签的原始数据\n",
    "df_zong.shape"
   ]
  },
  {
   "cell_type": "code",
   "execution_count": null,
   "metadata": {},
   "outputs": [],
   "source": [
    "df_zong.columns"
   ]
  },
  {
   "cell_type": "code",
   "execution_count": null,
   "metadata": {},
   "outputs": [],
   "source": [
    "no_label = df_zong[['图像地址','arithmeticTag']]"
   ]
  },
  {
   "cell_type": "code",
   "execution_count": null,
   "metadata": {},
   "outputs": [],
   "source": [
    "no_label = no_label[~no_label['图像地址'].str.contains('empty|invalid')]"
   ]
  },
  {
   "cell_type": "code",
   "execution_count": null,
   "metadata": {},
   "outputs": [],
   "source": [
    "no_label = no_label[no_label['arithmeticTag'].isnull()]"
   ]
  },
  {
   "cell_type": "code",
   "execution_count": null,
   "metadata": {},
   "outputs": [],
   "source": [
    "no_label[no_label['图像地址'].duplicated()==True]['图像地址'].value_counts()"
   ]
  },
  {
   "cell_type": "code",
   "execution_count": null,
   "metadata": {},
   "outputs": [],
   "source": [
    "no_label.drop_duplicates(subset='图像地址',keep='first',inplace=True)"
   ]
  },
  {
   "cell_type": "code",
   "execution_count": null,
   "metadata": {},
   "outputs": [],
   "source": [
    "no_label['bucket'] = 'zhizhen-tms'"
   ]
  },
  {
   "cell_type": "code",
   "execution_count": null,
   "metadata": {},
   "outputs": [],
   "source": [
    "no_label.tail(2)"
   ]
  },
  {
   "cell_type": "code",
   "execution_count": null,
   "metadata": {},
   "outputs": [],
   "source": [
    "no_label.shape[0]"
   ]
  },
  {
   "cell_type": "code",
   "execution_count": null,
   "metadata": {},
   "outputs": [],
   "source": [
    "6*52400-366554"
   ]
  },
  {
   "cell_type": "code",
   "execution_count": null,
   "metadata": {},
   "outputs": [],
   "source": [
    "no_label.drop(columns=['arithmeticTag'],inplace=True)"
   ]
  },
  {
   "cell_type": "code",
   "execution_count": null,
   "metadata": {},
   "outputs": [],
   "source": [
    "no_label.rename(columns={'图像地址':'objectkey'},inplace=True)"
   ]
  },
  {
   "cell_type": "code",
   "execution_count": null,
   "metadata": {},
   "outputs": [],
   "source": [
    "no_label.reset_index(drop=True,inplace=True)"
   ]
  },
  {
   "cell_type": "code",
   "execution_count": null,
   "metadata": {},
   "outputs": [],
   "source": [
    "# 拆分数据表\n",
    "start_x = 0\n",
    "end_x = 52400\n",
    "temp_size = 52400\n",
    "for i in range(7):\n",
    "    print(start_x,end_x)\n",
    "    df_x = no_label.loc[start_x:end_x,:]\n",
    "    print(df_x.shape[0])\n",
    "    output_path = r'/Users/edz/Documents/yandi_data/AI_data/32分类标签/原始数据'\n",
    "    output_path_file = r'/noclassific_part_' + str(i) + '.txt' \n",
    "    df_x.to_csv(output_path+output_path_file,sep='\\t',index=None)\n",
    "#     writer = pd.ExcelWriter(output_path+output_path_file)\n",
    "#     df_x.to_excel(writer,sheet_name=str(start_x)+\"-\"+str(end_x),index=None)\n",
    "#     writer.save()\n",
    "    \n",
    "    start_x += temp_size\n",
    "    end_x += temp_size"
   ]
  },
  {
   "cell_type": "code",
   "execution_count": null,
   "metadata": {},
   "outputs": [],
   "source": []
  }
 ],
 "metadata": {
  "kernelspec": {
   "display_name": "Python 3",
   "language": "python",
   "name": "python3"
  },
  "language_info": {
   "codemirror_mode": {
    "name": "ipython",
    "version": 3
   },
   "file_extension": ".py",
   "mimetype": "text/x-python",
   "name": "python",
   "nbconvert_exporter": "python",
   "pygments_lexer": "ipython3",
   "version": "3.7.5"
  }
 },
 "nbformat": 4,
 "nbformat_minor": 2
}
