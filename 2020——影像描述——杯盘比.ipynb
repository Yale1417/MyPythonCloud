{
 "cells": [
  {
   "cell_type": "code",
   "execution_count": null,
   "metadata": {},
   "outputs": [],
   "source": [
    "import pandas as pd \n",
    "import numpy as np\n",
    "import re\n",
    "import os\n",
    "import shutil\n",
    "pd.set_option(\"display.max_columns\",None)\n",
    "pd.set_option(\"display.max_rows\",None)\n",
    "pd.set_option(\"expand.frame_repr\",False)\n",
    "print('import succed!')"
   ]
  },
  {
   "cell_type": "code",
   "execution_count": null,
   "metadata": {},
   "outputs": [],
   "source": [
    "input_path = r'/Users/edz/Documents/yandi_data/AI_data'\n",
    "input_path_file = r'/patient3.csv'"
   ]
  },
  {
   "cell_type": "code",
   "execution_count": null,
   "metadata": {},
   "outputs": [],
   "source": [
    "df_ym= pd.read_csv(input_path + input_path_file,sep=',',index_col=None,header=None)\n",
    "print(df_ym.shape)   # 现有库存数据中“影像描述”不为空的数据容量"
   ]
  },
  {
   "cell_type": "code",
   "execution_count": null,
   "metadata": {},
   "outputs": [],
   "source": [
    "# 修改列名\n",
    "df_ym.columns =  ['来自检查id','送阅时间','病例医院名称','阅片医院名称','病历医生id','病例医生名称','阅片医生id','阅片医生名称',\n",
    "                '病史','全身病','病例诊断','影像描述','阅片诊断','质控影像描述','质控阅片诊断','主诉、病例检查、处理、处方json串']\n",
    "df_ym.tail(2) #校验列名修改成功"
   ]
  },
  {
   "cell_type": "code",
   "execution_count": null,
   "metadata": {
    "scrolled": true
   },
   "outputs": [],
   "source": [
    "df_ym.duplicated(subset='来自检查id').sum()  #判断指定Series的行数据是否存在重复项\n",
    "# 或者 df_qgy['来自检查id'].duplicated().sum() "
   ]
  },
  {
   "cell_type": "code",
   "execution_count": null,
   "metadata": {},
   "outputs": [],
   "source": [
    "df_ym['影像描述'] = df_ym['影像描述'].fillna('nan') # 空缺项填充nan\n",
    "df_ym['影像描述'].isnull().sum()"
   ]
  },
  {
   "cell_type": "code",
   "execution_count": null,
   "metadata": {},
   "outputs": [],
   "source": [
    "# df_ym[df_ym['影像描述'].str.contains('双眼视盘边清色正',re.I)]['影像描述'].value_counts()  "
   ]
  },
  {
   "cell_type": "code",
   "execution_count": null,
   "metadata": {},
   "outputs": [],
   "source": [
    "# 自定义”全角转半角“函数\n",
    "def strQ2B(ustring):\n",
    "    \"\"\"把字符串全角转半角\"\"\"\n",
    "    ss = []\n",
    "    for s in ustring:   # ustring=['后发障','AION','无法诊断'],s=list中依次取得的各个字符串\n",
    "        rstring = \"\"\n",
    "#         print(\"每一行值s:{}\".format(s)) \n",
    "        for uchar in s:  # s='后发障',uchar='后发障'中依次取得的各个字符\n",
    "            inside_code = ord(uchar)\n",
    "#                 print(inside_code)\n",
    "            if inside_code == 12288:  # 全角空格直接转换\n",
    "                inside_code = 32\n",
    "            elif (inside_code >= 65281 and inside_code <= 65374):  # 全角字符（除空格）根据关系转化\n",
    "                inside_code -= 65248\n",
    "            rstring += chr(inside_code)\n",
    "#             print(rstring)\n",
    "        ss.append(rstring)\n",
    "#         print(ss)\n",
    "    return ss\n",
    "#     return ''.join(ss)"
   ]
  },
  {
   "cell_type": "code",
   "execution_count": null,
   "metadata": {},
   "outputs": [],
   "source": [
    "#调用函数，实现全角转半角\n",
    "df_ym['影像描述'] = strQ2B(df_ym['影像描述'])  # ''.join用于合并字符，df_ym.at['影像描述'] = ''.join(strQ2B(str_i))\n",
    "df_ym.loc[:5,'影像描述']"
   ]
  },
  {
   "cell_type": "code",
   "execution_count": null,
   "metadata": {},
   "outputs": [],
   "source": [
    "# 插入'影描_gai'列\n",
    "df_ym.insert(df_ym.columns.get_loc('影像描述')+1,'影描_gai',df_ym['影像描述'])"
   ]
  },
  {
   "cell_type": "markdown",
   "metadata": {},
   "source": [
    "## 去除空格、括号、波浪线等\n",
    "\\s表示空格，b = re.compile('\\s')表示匹配空格；df_tw.at[i,'影描_gai'] = re.compile('\\s').sub('',str_i)\n",
    "匹配到空格之后替换为“”（即：去除空格）"
   ]
  },
  {
   "cell_type": "code",
   "execution_count": null,
   "metadata": {},
   "outputs": [],
   "source": [
    "# 去除字符串中的“\\n|\\t|\\r|~|——”\n",
    "def kong_fuc(df):\n",
    "    for i in range(df.shape[0]):\n",
    "        str_i = str(df.at[i,'影描_gai'])\n",
    "    #     match_str = '(左|右\\d期)' \n",
    "        if str_i == 'nan':\n",
    "            pass\n",
    "        elif len(re.compile('\\n|\\t|\\r|~|——|(|)|,|、|。|\\?').findall(str_i)) > 0: # 去除字符串中的“\\n|\\t|\\r|~|——”\n",
    "#             print(str_i)\n",
    "            str_i_1 = str_i.replace('\\n','').replace('\\r','').replace('\\t','').replace(',','').replace('。','').replace('、','')    # 去除\\n|\\t|\\r和,以及。   \n",
    "            str_i_2 = str_i_1.replace('~','-').replace('——','-')  # 改~和————为短中线\n",
    "            str_i_3 = re.compile('\\?').sub('',str_i_2)\n",
    "            str_i_4 = re.compile(';').sub('',str_i_3)\n",
    "            df.at[i,'影描_gai'] = str_i_4.replace('(','').replace(')','')  # 去除括号\n",
    "#             print('__{}'.format(df.at[i,'影描_gai']))\n",
    "        else:\n",
    "            pass\n",
    "\n",
    "    check_df = df[df['影描_gai'].str.contains('\\n|\\t|\\r|~|——|\\(|\\)|,|、|。|\\?|;')]\n",
    "    if check_df.shape[0] > 0:\n",
    "        print(\"剩余{}条数据存在无效标点\".format(check_df.shape[0]))\n",
    "        kong_fuc(df)\n",
    "    else:\n",
    "        print('转化结束！！！')\n",
    "        pass"
   ]
  },
  {
   "cell_type": "code",
   "execution_count": null,
   "metadata": {},
   "outputs": [],
   "source": [
    "kong_fuc(df_ym)    # 调用去除无效标点的函数"
   ]
  },
  {
   "cell_type": "code",
   "execution_count": null,
   "metadata": {},
   "outputs": [],
   "source": [
    "# 去除空格\n",
    "def kong1_fuc(df):\n",
    "    for i in range(df.shape[0]):\n",
    "        str_i = str(df.at[i,'影描_gai'])\n",
    "        if str_i == 'nan':\n",
    "            pass\n",
    "        elif len(re.compile('\\s').findall(str_i)) > 0:\n",
    "    #         print(str_i)\n",
    "            df.at[i,'影描_gai'] = re.compile('\\s').sub('',str_i)  # 去除字符串首尾的空格\n",
    "    #         print('__{}'.format(df.at[i,'影描_gai']))\n",
    "        else:\n",
    "            pass\n",
    "\n",
    "    check_df = df[df['影描_gai'].str.contains('\\s')]  #校验\n",
    "    if check_df.shape[0] > 0:\n",
    "        print(\"剩余{}条数据存在空格\".format(check_df.shape[0]))\n",
    "        kong1_fuc(df)\n",
    "    else:\n",
    "        print('转化结束！！！')\n",
    "        pass"
   ]
  },
  {
   "cell_type": "code",
   "execution_count": null,
   "metadata": {},
   "outputs": [],
   "source": [
    "kong1_fuc(df_ym)"
   ]
  },
  {
   "cell_type": "code",
   "execution_count": null,
   "metadata": {},
   "outputs": [],
   "source": [
    "########### 校验是否还存在空格\n",
    "for i in range(df_ym.shape[0]):\n",
    "    str_i = str(df_ym.at[i,'影描_gai'])\n",
    "    if str_i == 'nan':\n",
    "        pass\n",
    "    elif len(re.compile('\\n|\\t|\\r|~|——|\\(|\\)|,|、|。|\\?|;').findall(str_i)) > 0:\n",
    "        print(str_i)\n",
    "        df_ym.at[i,'影描_gai'] = re.compile('\\?').sub('',str_i)  # 去除字符串首尾的空格\n",
    "        print('__{}'.format(df_ym.at[i,'影描_gai']))\n",
    "    else:\n",
    "        pass"
   ]
  },
  {
   "cell_type": "code",
   "execution_count": null,
   "metadata": {},
   "outputs": [],
   "source": [
    "# 增加“分隔符”的自定义函数\n",
    "def add_function(x):\n",
    "    import re\n",
    "    list_x=[i.start() for i in re.finditer('双|左|右', x)]\n",
    "#     print(list_x)\n",
    "\n",
    "    for i in range(len(list_x)):\n",
    "        x = list(x)\n",
    "    #     print(list_x[i])\n",
    "        x.insert(list_x[i]+i,'!')\n",
    "        x =\"\".join(x)\n",
    "#     print(x)\n",
    "    return x"
   ]
  },
  {
   "cell_type": "code",
   "execution_count": null,
   "metadata": {},
   "outputs": [],
   "source": [
    "#调用函数，增加分隔符\n",
    "for m in range(df_ym.shape[0]):\n",
    "    df_ym.at[m,'影描_gai'] = add_function(df_ym.at[m,'影描_gai'])\n",
    "\n",
    "print(df_ym.loc[:5,'影描_gai'])  #校验"
   ]
  },
  {
   "cell_type": "code",
   "execution_count": null,
   "metadata": {},
   "outputs": [],
   "source": [
    "## 缺少左右眼的——添加“双”标签\n",
    "# 处理字符串没有“左/右/双”的情形\n",
    "def lr_shuang_fuc(df):\n",
    "    for i in range(df.shape[0]):\n",
    "        str_i = str(df.at[i,'影描_gai'])\n",
    "        if str_i == 'nan':\n",
    "            pass\n",
    "        else:\n",
    "            str_tempt = re.split('!',str_i)\n",
    "            str_i_list = list(filter(None,str_tempt))\n",
    "            str_new_list = []\n",
    "            for j in range(len(str_i_list)):\n",
    "                if len(re.compile('(右|左|双)').findall(str_i_list[j])) == 0:\n",
    "#                     print(str_i_list)\n",
    "                    str_new_list.append('双' + str_i_list[j])\n",
    "\n",
    "                else:\n",
    "                    str_new_list.append(str_i_list[j])\n",
    "            df.at[i,'影描_gai'] = '!'.join(str_new_list[m] for m in range(len(str_new_list)))\n",
    "#             print(\"___{}\".format(df.at[i,'影描_gai']))"
   ]
  },
  {
   "cell_type": "code",
   "execution_count": null,
   "metadata": {},
   "outputs": [],
   "source": [
    "lr_shuang_fuc(df_ym)  ## 调用添加“双”标签的函数"
   ]
  },
  {
   "cell_type": "code",
   "execution_count": null,
   "metadata": {},
   "outputs": [],
   "source": [
    "############## 验证“双”补全\n",
    "for i in range(df_ym.shape[0]):\n",
    "    str_i = str(df_ym.at[i,'影描_gai'])\n",
    "    if str_i == 'nan':\n",
    "        pass\n",
    "    else:\n",
    "        str_tempt = re.split('!',str_i)\n",
    "        str_i_list = list(filter(None,str_tempt))\n",
    "        str_new_list = []\n",
    "        for j in range(len(str_i_list)):\n",
    "            if len(re.compile('(双|左|右)').findall(str_i_list[j])) == 0:\n",
    "                print(str_i_list[j])"
   ]
  },
  {
   "cell_type": "code",
   "execution_count": null,
   "metadata": {},
   "outputs": [],
   "source": [
    "print(\"影描_gai——的规格：{}\".format(df_ym['影描_gai'].shape[0]))\n",
    "print(\"影像描述——的规格：{}\".format(df_ym['影像描述'].shape[0]))"
   ]
  },
  {
   "cell_type": "markdown",
   "metadata": {},
   "source": [
    "# 通用字符串的名称归一化"
   ]
  },
  {
   "cell_type": "code",
   "execution_count": null,
   "metadata": {},
   "outputs": [],
   "source": [
    "# 定义归一化函数——单个标签替换\n",
    "def single_replace_fuc(patten_x, repl_x,string_x):\n",
    "    strinfo_0 = re.compile(patten_x, re.I)\n",
    "    if len(strinfo_0.findall(string_x)) > 0:\n",
    "#         print(string_x)\n",
    "        string_x = re.sub(re.compile(patten_x, flags=re.I), repl_x, string_x)\n",
    "#         print(\"__{}\".format(string_x))\n",
    "    else:\n",
    "        pass\n",
    "    \n",
    "    return string_x"
   ]
  },
  {
   "cell_type": "code",
   "execution_count": null,
   "metadata": {},
   "outputs": [],
   "source": [
    "####定义”双眼\\|右眼\\|左眼“转为”双|左|右“的转化函数\n",
    "#双、左、右眼——名称统一\n",
    "# 为解决调用一次函数，会出现的“修改不完全的问题”，可以多次调用函数处理遗留的未匹配数据。\n",
    "def lrs_normal_fuc(df):\n",
    "    for i in range(df.shape[0]):\n",
    "        str_i = str(df.at[i,'影描_gai'])\n",
    "        if str_i == 'nan':\n",
    "            pass\n",
    "        else:\n",
    "            str_i_1 = single_replace_fuc('双眼', '双', str_i)  #str_i_1/2/3均为中间变量,调用函数 single_replace_fuc\n",
    "            str_i_2 = single_replace_fuc('左眼', '左', str_i_1)\n",
    "            str_i_3 = single_replace_fuc('右眼', '右', str_i_2)\n",
    "            df.at[i,'影描_gai'] =  str_i_3\n",
    "\n",
    "    check_df = df[df['影描_gai'].str.contains('双眼|右眼|左眼')]\n",
    "    if check_df.shape[0] > 0:\n",
    "        print(\"剩余{}条数据包含双眼|右眼|左眼\".format(check_df.shape[0]))\n",
    "        lrs_normal_fuc(df)\n",
    "    else:\n",
    "        print('转化结束！！！')\n",
    "        pass"
   ]
  },
  {
   "cell_type": "code",
   "execution_count": null,
   "metadata": {},
   "outputs": [],
   "source": [
    "lrs_normal_fuc(df_ym)    # 调用“”双眼\\|右眼\\|左眼“转为”双|左|右“的转化函数"
   ]
  },
  {
   "cell_type": "markdown",
   "metadata": {},
   "source": [
    "### C/D名称归一化"
   ]
  },
  {
   "cell_type": "code",
   "execution_count": null,
   "metadata": {},
   "outputs": [],
   "source": [
    "####定义C/D拼写错误的转化函数\n",
    "#C/D拼写错误——名称统一\n",
    "def normal_cd_fuc(df):\n",
    "    for i in range(df.shape[0]):\n",
    "        str_i = str(df.at[i,'影描_gai'])\n",
    "        if str_i == 'nan':\n",
    "            pass\n",
    "        else:\n",
    "            a  = 'C/D='\n",
    "            b  = 'C/D'\n",
    "            strinfo_0 = re.compile('C/D约为')\n",
    "            strinfo_1 = re.compile('C/D约')\n",
    "            strinfo_2 = re.compile('C/D', re.I)\n",
    "            strinfo_3 = re.compile('C/D=', re.I)   # re.I 表示忽略大小写\n",
    "            strinfo_4 = re.compile('c/d')\n",
    "            strinfo_5 = re.compile('杯盘比')\n",
    "            strinfo_6 = re.compile('C:D',re.I)\n",
    "            strinfo_7 = re.compile('C/D约有')\n",
    "            strinfo_8 = re.compile('CD比约')\n",
    "            strinfo_9 = re.compile('CD比')\n",
    "            strinfo_10 = re.compile('CD=',re.I)\n",
    "            \n",
    "            \n",
    "\n",
    "            if len(strinfo_5.findall(str_i))>0 :  # 均是汉字的匹配不能加re.I,否则识别不出来\n",
    "#                 print(str_i)\n",
    "                df.at[i,'影描_gai'] = strinfo_5.sub(a,str_i)\n",
    "#                 print(\"~~~~~\"+df.at[i,'影描_gai'])\n",
    "            elif len(strinfo_4.findall(str_i,re.I))>0 :  # \n",
    "#                 print(str_i)\n",
    "                df.at[i,'影描_gai'] = strinfo_4.sub(b,str_i)\n",
    "#                 print(\"======\"+df.at[i,'影描_gai']) \n",
    "            elif len(strinfo_0.findall(str_i))>0 :  # \n",
    "                print(str_i)\n",
    "                df.at[i,'影描_gai'] = strinfo_0.sub(a,str_i)\n",
    "                print(\"===\"+df.at[i,'影描_gai'])\n",
    "            elif len(strinfo_7.findall(str_i))>0 :  # 均是汉字的匹配不能加re.I,否则识别不出来\n",
    "                print(str_i)\n",
    "                df.at[i,'影描_gai'] = strinfo_7.sub(a,str_i)\n",
    "                print(\"~~~~~\"+df.at[i,'影描_gai'])\n",
    "            elif len(strinfo_8.findall(str_i))>0 :  # 均是汉字的匹配不能加re.I,否则识别不出来\n",
    "                print(str_i)\n",
    "                df.at[i,'影描_gai'] = strinfo_8.sub(a,str_i)\n",
    "                print(\"~~~~~\"+df.at[i,'影描_gai'])\n",
    "            elif len(strinfo_9.findall(str_i))>0 and len(strinfo_8.findall(str_i))==0:  # 均是汉字的匹配不能加re.I,否则识别不出来\n",
    "                print(str_i)\n",
    "                df.at[i,'影描_gai'] = strinfo_9.sub(a,str_i)\n",
    "                print(\"~~~~~\"+df.at[i,'影描_gai'])\n",
    "            elif len(strinfo_10.findall(str_i))>0 and len(strinfo_3.findall(str_i))==0:  # 均是汉字的匹配不能加re.I,否则识别不出来\n",
    "                print(str_i)\n",
    "                df.at[i,'影描_gai'] = strinfo_10.sub(a,str_i)\n",
    "                print(\"~~~~~\"+df.at[i,'影描_gai'])\n",
    "            elif len(strinfo_1.findall(str_i))>0 and len(strinfo_0.findall(str_i))==0:  # 排除“Drusen”\n",
    "    #             print(str_i)\n",
    "                df.at[i,'影描_gai'] = strinfo_1.sub(a,str_i)\n",
    "    #             print('***'+df.at[i,'影描_gai'])\n",
    "            elif len(strinfo_2.findall(str_i))>0 and len(strinfo_3.findall(str_i))==0:\n",
    "                if len(strinfo_1.findall(str_i))>0:\n",
    "                    pass\n",
    "                else:\n",
    "                    print(str_i)\n",
    "                    df.at[i,'影描_gai'] = strinfo_2.sub(a,str_i)\n",
    "                    print('__'+df.at[i,'影描_gai'])\n",
    "            elif len(strinfo_6.findall(str_i,re.I))>0 :  # \n",
    "                print(str_i)\n",
    "                df.at[i,'影描_gai'] = strinfo_6.sub(a,str_i)\n",
    "                print(\"——————\"+df.at[i,'影描_gai'])\n",
    "            else:\n",
    "                pass\n",
    "\n",
    "    check_df_jb_0 = df[df['影描_gai'].str.contains('C/D')] \n",
    "    check_df_jb = check_df_jb_0[~check_df_jb_0['影描_gai'].str.contains('C/D=')]  #特殊：右视神经病变待排青光眼?——因此有排青标签，易陷入死循环\n",
    "    if check_df_jb.shape[0] > 0:\n",
    "        print(\"剩余{}条数据未转化为\".format(check_df_jb.shape[0]))\n",
    "        print(check_df_jb[['影像描述','影描_gai']])\n",
    "        normal_cd_fuc(df)\n",
    "    else:\n",
    "        print('转化结束！！！')         "
   ]
  },
  {
   "cell_type": "code",
   "execution_count": null,
   "metadata": {},
   "outputs": [],
   "source": [
    "normal_cd_fuc(df_ym)"
   ]
  },
  {
   "cell_type": "code",
   "execution_count": null,
   "metadata": {},
   "outputs": [],
   "source": [
    "df_ym[df_ym['影描_gai'].str.contains('左0\\.\\d+')]['影描_gai']"
   ]
  },
  {
   "cell_type": "code",
   "execution_count": null,
   "metadata": {},
   "outputs": [],
   "source": [
    "# 处理C/D比书写错误的特殊情形\n",
    "for i in range(df_ym.shape[0]):\n",
    "    str_i = str(df_ym.at[i,'影描_gai'])\n",
    "    if str_i == 'nan':\n",
    "        pass\n",
    "    else:\n",
    "        a  = 'C/D='\n",
    "        strinfo_0 = re.compile('V/D', re.I)\n",
    "        strinfo_1 = re.compile('C\\.D', re.I)  # 正则匹配C.D需要加\\\n",
    "        strinfo_2 = re.compile('C/C|C/A', re.I)\n",
    "        strinfo_3 = re.compile('C/', re.I)\n",
    "        strinfo_4 = re.compile('C/D=', re.I)\n",
    "        strinfo_5 = re.compile('C/约|C/A约', re.I)\n",
    "        strinfo_6 = re.compile('C:/D=', re.I)\n",
    "        strinfo_7 = re.compile('D/D', re.I)\n",
    "        strinfo_8 = re.compile('/D=|D=', re.I)\n",
    "        strinfo_9 = re.compile('/D约', re.I)\n",
    "        if len(strinfo_0.findall(str_i))>0:  # 均是汉字的匹配不能加re.I,否则识别不出来\n",
    "#             print(str_i)\n",
    "            df_ym.at[i,'影描_gai'] = strinfo_0.sub(a,str_i)\n",
    "#             print(\"~~~~~\"+df_ym.at[i,'影描_gai'])\n",
    "        elif len(strinfo_1.findall(str_i,re.I))>0:\n",
    "#             print(str_i)\n",
    "            df_ym.at[i,'影描_gai'] = strinfo_1.sub(a,str_i)\n",
    "#             print(\"======\"+df_ym.at[i,'影描_gai']) \n",
    "        elif len(strinfo_5.findall(str_i))>0 and len(strinfo_4.findall(str_i))==0 :  # 均是汉字的匹配不能加re.I,否则识别不出来\n",
    "#             print(str_i)\n",
    "            df_ym.at[i,'影描_gai'] = strinfo_5.sub(a,str_i)\n",
    "#             print(\"———————\"+df_ym.at[i,'影描_gai'])\n",
    "        elif len(strinfo_2.findall(str_i))>0 and len(strinfo_4.findall(str_i))==0 :  # \n",
    "#             print(str_i)\n",
    "            df_ym.at[i,'影描_gai'] = strinfo_2.sub(a,str_i)\n",
    "#             print(\"===\"+df_ym.at[i,'影描_gai'])\n",
    "        elif len(strinfo_3.findall(str_i))>0 and len(strinfo_4.findall(str_i))==0 :  # 均是汉字的匹配不能加re.I,否则识别不出来\n",
    "#             print(str_i)\n",
    "            df_ym.at[i,'影描_gai'] = strinfo_3.sub(a,str_i)\n",
    "#             print(\"~~~~~\"+df_ym.at[i,'影描_gai'])\n",
    "        elif len(strinfo_6.findall(str_i))>0 and len(strinfo_4.findall(str_i))==0 :  # 均是汉字的匹配不能加re.I,否则识别不出来\n",
    "            print(str_i)\n",
    "            df_ym.at[i,'影描_gai'] = strinfo_6.sub(a,str_i)\n",
    "            print(\"~~~~~\"+df_ym.at[i,'影描_gai'])\n",
    "        elif len(strinfo_9.findall(str_i))>0 and len(strinfo_4.findall(str_i))==0:  # 均是汉字的匹配不能加re.I,否则识别不出来\n",
    "            print(str_i)\n",
    "            df_ym.at[i,'影描_gai'] = strinfo_9.sub(a,str_i)\n",
    "            print(\"~~~~~\"+df_ym.at[i,'影描_gai'])\n",
    "        elif len(strinfo_7.findall(str_i))>0 and len(strinfo_4.findall(str_i))==0:  # 均是汉字的匹配不能加re.I,否则识别不出来\n",
    "            print(str_i)\n",
    "            df_ym.at[i,'影描_gai'] = strinfo_7.sub(a,str_i)\n",
    "            print(\"~~~~~\"+df_ym.at[i,'影描_gai'])\n",
    "        elif len(strinfo_8.findall(str_i))>0 and len(strinfo_4.findall(str_i))==0:  # 排除“Drusen”\n",
    "            print(str_i)\n",
    "            df_ym.at[i,'影描_gai'] = strinfo_8.sub(a,str_i)\n",
    "            print('***'+df_ym.at[i,'影描_gai'])\n",
    "        else:\n",
    "            pass"
   ]
  },
  {
   "cell_type": "markdown",
   "metadata": {},
   "source": [
    "## C/D的数值标准化"
   ]
  },
  {
   "cell_type": "code",
   "execution_count": null,
   "metadata": {},
   "outputs": [],
   "source": [
    "df_ym[df_ym['影描_gai'].str.contains('V/D',re.I)]['影描_gai'].value_counts()  "
   ]
  },
  {
   "cell_type": "code",
   "execution_count": null,
   "metadata": {},
   "outputs": [],
   "source": [
    "# 将C/D=O.4修正为C/D=0.4——即：将0错写为O的情形\n",
    "for i in range(df_ym.shape[0]):\n",
    "    str_i = str(df_ym.at[i,'影描_gai']) \n",
    "    if len(re.compile('O\\.',re.I).findall(str_i))>0 and len(re.compile('C/D',re.I).findall(str_i))>0:\n",
    "        print(str_i)\n",
    "        df_ym.at[i,'影描_gai'] = re.compile('O\\.',re.I).sub('0.',str_i)\n",
    "        print(\"__\" + df_ym.at[i,'影描_gai'] )\n",
    "    else:\n",
    "        pass"
   ]
  },
  {
   "cell_type": "code",
   "execution_count": null,
   "metadata": {},
   "outputs": [],
   "source": [
    "# 纠正“C/D=.0.5”的情形以及”C/D=约为“\n",
    "def nornal_num_fuc(df):\n",
    "    for i in range(df.shape[0]):\n",
    "        str_i = str(df.at[i,'影描_gai'])\n",
    "        if len(re.compile('C/D=\\.0').findall(str_i))>0:\n",
    "#             print(str_i)\n",
    "            df.at[i,'影描_gai'] = re.compile('C/D=\\.0').sub('C/D=0',str_i)\n",
    "#             print(\"__\" + df.at[i,'影描_gai'])\n",
    "        elif len(re.compile('C/D=0\\.0\\.').findall(str_i))>0:  # C/D=0.0.5\n",
    "            print(str_i)\n",
    "            df.at[i,'影描_gai'] = re.compile('C/D=0\\.0\\.').sub('C/D=0.',str_i)\n",
    "            print(\"__\" + df.at[i,'影描_gai'])\n",
    "        elif len(re.compile('C/D=约为').findall(str_i))>0:\n",
    "    #         print(str_i)\n",
    "            df.at[i,'影描_gai'] = re.compile('C/D=约为').sub('C/D=',str_i)\n",
    "    #         print(\"===\" + df.at[i,'影描_gai'])\n",
    "        elif len(re.compile('C/D=比约').findall(str_i))>0:\n",
    "#             print(str_i)\n",
    "            df.at[i,'影描_gai'] = re.compile('C/D=比约').sub('C/D=',str_i)\n",
    "#             print(\"===\" + df.at[i,'影描_gai'])\n",
    "        elif len(re.compile('C/D=约').findall(str_i))>0:\n",
    "    #         print(str_i)\n",
    "            df.at[i,'影描_gai'] = re.compile('C/D=约').sub('C/D=',str_i)\n",
    "    #         print(\"*****\" + df.at[i,'影描_gai'])\n",
    "        elif len(re.compile('C/D约').findall(str_i))>0:\n",
    "    #         print(str_i)\n",
    "            df.at[i,'影描_gai'] = re.compile('C/D约').sub('C/D=',str_i)\n",
    "    #         print(\"*****\" + df.at[i,'影描_gai'])\n",
    "        elif len(re.compile('C/D=有').findall(str_i))>0:\n",
    "#             print(str_i)\n",
    "            df.at[i,'影描_gai'] = re.compile('C/D=有').sub('C/D=',str_i)\n",
    "#             print(\"*****\" + df.at[i,'影描_gai'])\n",
    "        elif len(re.compile('C/D似').findall(str_i))>0:\n",
    "            print(str_i)\n",
    "            df.at[i,'影描_gai'] = re.compile('C/D似').sub('C/D=',str_i)  # C/D似0.9\n",
    "            print(\"*****\" + df.at[i,'影描_gai'])\n",
    "        elif len(re.compile('C/D=0/').findall(str_i))>0:\n",
    "            print(str_i)\n",
    "            df.at[i,'影描_gai'] = re.compile('C/D=0/').sub('C/D=0.',str_i)\n",
    "            print(\"*****\" + df.at[i,'影描_gai'])  \n",
    "        elif len(re.compile('C/D=\\d\\.\\d+--').findall(str_i))>0:  #  处理C/D=0.5--0.6\n",
    "            print(str_i)            \n",
    "            df.at[i,'影描_gai'] = re.compile('--').sub('-',str_i)\n",
    "            print(\"*****\" + df.at[i,'影描_gai'])            \n",
    "        else:\n",
    "            pass"
   ]
  },
  {
   "cell_type": "code",
   "execution_count": null,
   "metadata": {},
   "outputs": [],
   "source": [
    "nornal_num_fuc(df_ym)"
   ]
  },
  {
   "cell_type": "code",
   "execution_count": null,
   "metadata": {},
   "outputs": [],
   "source": [
    "df_ym[df_ym['影描_gai'].str.contains('双眼晶体混浊')]['影描_gai']"
   ]
  },
  {
   "cell_type": "markdown",
   "metadata": {},
   "source": [
    "### 纠正以下情形：\n",
    "C/D=偏小约0.2 C/D=月0.6余  C/D=-0.6  C/D=-0.8 C/D=-0.3\n",
    "\n",
    "C/D==0.5 C/D=≈0.55 C/D=≈0.3 C/D=<   C/D=<0.3 C/D=稍大约0.5 C/D=-0.7-0.8 C/D=-0.7\n",
    "\n",
    "C/D=近1.0 C/D=较大约0.65  C/D=:0.9-1.0  C/D=增大与0.6  左C/D=增大月0.6余"
   ]
  },
  {
   "cell_type": "code",
   "execution_count": null,
   "metadata": {},
   "outputs": [],
   "source": [
    "# 纠正“C/D=.0.5”的情形以及”C/D=约为“\n",
    "for i in range(df_ym.shape[0]):\n",
    "    str_i = str(df_ym.at[i,'影描_gai'])\n",
    "    if len(re.compile('C/D=偏小约').findall(str_i))>0:\n",
    "#         print(str_i)\n",
    "        df_ym.at[i,'影描_gai'] = re.compile('C/D=偏小约').sub('C/D=',str_i)\n",
    "#         print(\"__\" + df_ym.at[i,'影描_gai'])\n",
    "    elif len(re.compile('C/D=月约').findall(str_i))>0:\n",
    "#         print(str_i)\n",
    "        df_ym.at[i,'影描_gai'] = re.compile('C/D=月约').sub('C/D=',str_i)\n",
    "#         print(\"===\" + df_ym.at[i,'影描_gai'])\n",
    "    elif len(re.compile('C/D=月').findall(str_i))>0:\n",
    "#         print(str_i)\n",
    "        df_ym.at[i,'影描_gai'] = re.compile('C/D=月').sub('C/D=',str_i)\n",
    "#         print(\"===\" + df_ym.at[i,'影描_gai'])\n",
    "    elif len(re.compile('C/D=较大约').findall(str_i))>0:\n",
    "#         print(str_i)\n",
    "        df_ym.at[i,'影描_gai'] = re.compile('C/D=较大约').sub('C/D=',str_i)\n",
    "#         print(\"===\" + df_ym.at[i,'影描_gai'])\n",
    "    elif len(re.compile('C/D=稍大约').findall(str_i))>0:\n",
    "#         print(str_i)\n",
    "        df_ym.at[i,'影描_gai'] = re.compile('C/D=稍大约').sub('C/D=',str_i)\n",
    "#         print(\"*****\" + df_ym.at[i,'影描_gai'])\n",
    "    elif len(re.compile('C/D=近').findall(str_i))>0:\n",
    "#         print(str_i)\n",
    "        df_ym.at[i,'影描_gai'] = re.compile('C/D=近').sub('C/D=',str_i)\n",
    "#         print(\"*****\" + df_ym.at[i,'影描_gai'])\n",
    "    elif len(re.compile('C/D=增大与|C/D=增大月').findall(str_i))>0:\n",
    "#         print(str_i)\n",
    "        df_ym.at[i,'影描_gai'] = re.compile('C/D=增大与|C/D=增大月').sub('C/D=',str_i)\n",
    "#         print(\"*****\" + df_ym.at[i,'影描_gai'])\n",
    "    elif len(re.compile('C/D=-|C/D=≈|C/D=<|C/D==|C/D=:').findall(str_i))>0:\n",
    "#         print(str_i)\n",
    "        df_ym.at[i,'影描_gai'] = re.compile('C/D=-|C/D=≈|C/D=<|C/D==|C/D=:').sub('C/D=',str_i)\n",
    "#         print(\"*****\" + df_ym.at[i,'影描_gai'])  \n",
    "    elif len(re.compile('C/D=/').findall(str_i))>0:  # C/D=/6\n",
    "        print(str_i)\n",
    "        df_ym.at[i,'影描_gai'] = re.compile('C/D=/').sub('C/D=0.',str_i)\n",
    "        print(\"*****\" + df_ym.at[i,'影描_gai'])  \n",
    "    elif len(re.compile('C/D=大').findall(str_i))>0:  # C/D=大0.7\n",
    "#         print(str_i)\n",
    "        df_ym.at[i,'影描_gai'] = re.compile('C/D=大').sub('C/D=',str_i)\n",
    "#         print(\"*****\" + df_ym.at[i,'影描_gai'])   \n",
    "    elif len(re.compile('C/D=扩大').findall(str_i))>0:  # C/D=扩大0.7\n",
    "#         print(str_i)\n",
    "        df_ym.at[i,'影描_gai'] = re.compile('C/D=扩大').sub('C/D=',str_i)\n",
    "#         print(\"*****\" + df_ym.at[i,'影描_gai']) \n",
    "    elif len(re.compile('C/D=哟').findall(str_i))>0:  # C/D=扩大0.7\n",
    "        print(str_i)\n",
    "        df_ym.at[i,'影描_gai'] = re.compile('C/D=哟').sub('C/D=',str_i)\n",
    "        print(\"*****\" + df_ym.at[i,'影描_gai']) \n",
    "\n",
    "    else:\n",
    "        pass"
   ]
  },
  {
   "cell_type": "code",
   "execution_count": null,
   "metadata": {},
   "outputs": [],
   "source": [
    "# 寻找类似C/D=03，C/D=.6的情形，均标准化为C/D=0.6  双视盘色好界清C/D=045!右颞上局部RNFLD血管走形大致正常黄斑区大致正常眼底动脉细反\n",
    "# 查看不同类型的名称\n",
    "def zero_point_func(df):\n",
    "    for i in range(df.shape[0]):\n",
    "        str_i = str(df.at[i,'影描_gai'])\n",
    "        if str_i=='nan':   # 排除str_i为”null“的项\n",
    "            pass\n",
    "        else:\n",
    "            str_tempt = re.split(r'!', str_i)\n",
    "            str_i_list = list(filter(None,str_tempt))    # list(filter(None,str)) :去掉re.split()产生的”空字符“项\n",
    "    #         print(\"______________{}\".format(str_i_list))\n",
    "            value_list = []\n",
    "            for j in range(len(str_i_list)):\n",
    "                if len(re.compile('C/D=0',re.I).findall(str_i_list[j]))>0 and len(re.compile('C/D=0\\.',re.I).findall(str_i_list[j]))==0:\n",
    "                # 处理C/D=09\n",
    "                    print(str_i_list[j])\n",
    "                    str_i_list[j] = re.compile('0').sub('0.',str_i_list[j],count=1)\n",
    "                    value_list.append(str_i_list[j])\n",
    "                    print(\"___\" + str_i_list[j])\n",
    "                elif len(re.compile('C/D=\\.\\d+').findall(str_i_list[j]))>0 and len(re.compile('C/D=0\\.\\d+').findall(str_i_list[j]))==0:  \n",
    "                    # 处理C/D=.3\n",
    "                    print(str_i_list[j])\n",
    "                    str_i_list[j] = re.compile('\\.').sub('0.',str_i_list[j],count=1)\n",
    "                    value_list.append(str_i_list[j])\n",
    "                    print(\"====\" + str_i_list[j])\n",
    "                else:\n",
    "                    value_list.append(str_i_list[j])\n",
    "            df.at[i,'影描_gai'] = '!'.join( value_list[g] for g in range(len(value_list)))\n",
    "    #         print(\"~~~~~~~~~~~~~\" + df.at[i,'影描_gai'])"
   ]
  },
  {
   "cell_type": "code",
   "execution_count": null,
   "metadata": {},
   "outputs": [],
   "source": [
    "zero_point_func(df_ym)"
   ]
  },
  {
   "cell_type": "code",
   "execution_count": null,
   "metadata": {},
   "outputs": [],
   "source": [
    "df_ym[df_ym['影描_gai'].str.contains('左\\d+')]['影描_gai']"
   ]
  },
  {
   "cell_type": "markdown",
   "metadata": {},
   "source": [
    "## 处理缺失左、右缺失一级标签的情形\n",
    "双底欠清晰视乳头色好界清C/D!右0.7盘沿略窄神经纤维层看不清!左0.4未见明显出血渗出\n",
    "\n",
    "双视盘色淡红C/D!右0.5!左0.6网膜未见出血渗出\n",
    "\n",
    "右玻璃体混浊!双视乳头色好界清C/D!右0.75!左0.55盘沿形态可无明显RNFLD未见明显出血渗出"
   ]
  },
  {
   "cell_type": "code",
   "execution_count": null,
   "metadata": {},
   "outputs": [],
   "source": [
    "## 黄斑变性AMD\n",
    "##### 为“双黄斑病变_黄斑变性_AMD!右湿性!左干性 ”的左右眼添加一级标签  右干性!左史性   \n",
    "### 双黄斑病变!左外伤  双年龄相关性黄斑变!右早期!左晚期 左活动期!右瘢痕期  \n",
    "def insert_class_function(a, match_x):\n",
    "#     left, middle, right = a.partition(match_x)   # 使用匹配到的字符进行前中后，3区分隔\n",
    "    if len(re.compile('C/D',re.I).findall(a)) > 0:\n",
    "        if len(re.compile(match_x+'0\\.\\d+').findall(a))>0:\n",
    "#             print(a)\n",
    "            index_insert = [i.start() for i in re.finditer(match_x+'0\\.\\d+',a)]  # 找到匹配字符串的起始位置——索引     \n",
    "#             print(index_insert[0])\n",
    "            a = list(a)    # str 无法直接插入，需先转为list\n",
    "            a.insert(index_insert[0]+1,\"C/D=\")\n",
    "            a =\"\".join(a)   # 将分隔开的字符合并到一起\n",
    "        elif len(re.compile(match_x+'约为0\\.\\d+').findall(a))>0:\n",
    "            print(a)\n",
    "            index_insert = [i.start() for i in re.finditer(match_x+'约为0\\.\\d+',a)]  # 找到匹配字符串的起始位置——索引     \n",
    "#             print(index_insert[0])\n",
    "            a = list(a)    # str 无法直接插入，需先转为list\n",
    "            a.insert(index_insert[0]+3,\"C/D=\")\n",
    "            a =\"\".join(a)   # 将分隔开的字符合并到一起\n",
    "        elif len(re.compile(match_x+'约0\\.\\d+').findall(a))>0:\n",
    "            print(a)\n",
    "            index_insert = [i.start() for i in re.finditer(match_x+'约0\\.\\d+',a)]  # 找到匹配字符串的起始位置——索引     \n",
    "#             print(index_insert[0])\n",
    "            a = list(a)    # str 无法直接插入，需先转为list\n",
    "            a.insert(index_insert[0]+2,\"C/D=\")\n",
    "            a =\"\".join(a)   # 将分隔开的字符合并到一起\n",
    "        else:\n",
    "            pass\n",
    "        \n",
    "#     print('__'+a)\n",
    "    return a"
   ]
  },
  {
   "cell_type": "code",
   "execution_count": null,
   "metadata": {},
   "outputs": [],
   "source": [
    "## 黄斑变性AMD\n",
    "# 处理“左几期”的情形：\n",
    "def lr_jiqi_fuc(df, match_str_x):\n",
    "    for i in range(df.shape[0]):\n",
    "        str_i = str(df.at[i,'影描_gai'])\n",
    "    #     match_str = '(左|右\\d期)' \n",
    "        if str_i == 'nan':\n",
    "            pass\n",
    "        elif len(re.compile('C/D',re.I).findall(str_i))== 0:\n",
    "            pass        \n",
    "        else:\n",
    "            df.at[i,'影描_gai'] = insert_class_function(str_i, match_str_x) # 准备匹配检索的字符串——此处为“左2期”或“右1期”等\n",
    "#             print(\"__{}\".format(df.at[i,'影描_gai']))\n",
    "\n",
    "#     check_df_jb_0 = df[df['阅_gai'].str.contains('双青光眼')] \n",
    "#     check_df_jb = check_df_jb_0[check_df_jb_0['阅_gai'].str.contains(match_str_x+'继发|开角|闭角|新生血管|绝对期')]  #特殊：右视神经病变待排青光眼?——因此有排青标签，易陷入死循环\n",
    "#     if check_df_jb.shape[0] > 0:\n",
    "#         print(\"剩余{}条数据未转化为——青光眼\".format(check_df_jb.shape[0]))\n",
    "#         print(check_df_jb[['阅片诊断','阅_gai']])\n",
    "# #         insert_class_function(df, match_x)\n",
    "#     else:\n",
    "#         print('转化结束！！！')         "
   ]
  },
  {
   "cell_type": "code",
   "execution_count": null,
   "metadata": {},
   "outputs": [],
   "source": [
    "lr_jiqi_fuc(df_ym, '左')   "
   ]
  },
  {
   "cell_type": "code",
   "execution_count": null,
   "metadata": {},
   "outputs": [],
   "source": [
    "lr_jiqi_fuc(df_ym, '右')     "
   ]
  },
  {
   "cell_type": "code",
   "execution_count": null,
   "metadata": {},
   "outputs": [],
   "source": [
    "# 双晶体混浊视盘色淡红界清C/D=!双0.6-0.7!左黄斑区色素紊乱\n",
    "lr_jiqi_fuc(df_ym, '双')   "
   ]
  },
  {
   "cell_type": "markdown",
   "metadata": {},
   "source": [
    "### 处理左C/D=0.4!右1.0的情形\n",
    "C/D=!右07!左约C/D=0.9!左下方RNFL显著薄变 C/D=!右075 C/D=!右06 \n",
    "\n",
    "C/D=!右1.0!左C/D=0.8 左C/D=0.4!右1.0 C/D=!右1.0!左C/D=0.9 C/D=!右1.0 左C/D=0.9!右1.0\n",
    "\n",
    "C/D=!右07!左约C/D=0.9! C/D=0.8!右0.6  右C/D=0.5!左1.0!  右C/D=0.5!左1.0  双视乳头色好界清C/D=0.6!左045\n",
    "\n",
    "C/D=!右C/D=0.8!左1.0  双视盘色好C/D=!右C/D=0.65!左034 C/D=!右C/D=0.6!左05  右C/D=0.9!左1.0 右C/D=0.7!左04!"
   ]
  },
  {
   "cell_type": "code",
   "execution_count": null,
   "metadata": {},
   "outputs": [],
   "source": [
    "# a = '右:0.5!左C/D=0.7!'\n",
    "# re.compile('右'+'\\:\\d\\.\\d+'+'!'+'左'+'C/D=\\d\\.\\d+').findall(a)"
   ]
  },
  {
   "cell_type": "code",
   "execution_count": null,
   "metadata": {},
   "outputs": [],
   "source": [
    "## 处理左C/D=0.4!右1.0的情形 \n",
    "def insert_class_function01(df, match_x,math_y):\n",
    "    for i in range(df.shape[0]):\n",
    "        a = str(df.at[i,'影描_gai'])\n",
    "        if len(re.compile(match_x+'C/D=\\d\\.\\d+'+'!'+math_y+'\\d\\.\\d+',re.I).findall(a)) > 0:   #'右C/D=0.9!左1.0' C/D=0.45!左1.0\n",
    "            print(a)\n",
    "            index_insert = [i.start() for i in re.finditer(math_y+'\\d\\.\\d+',a)]  # 找到匹配字符串的起始位置——索引     \n",
    "#             print(index_insert[0])\n",
    "            a = list(a)    # str 无法直接插入，需先转为list\n",
    "            a.insert(index_insert[0]+1,\"C/D=\") \n",
    "            df.at[i,'影描_gai'] =\"\".join(a)   # 将分隔开的字符合并到一起\n",
    "            print('__'+df.at[i,'影描_gai'])    \n",
    "        elif len(re.compile(match_x+'C/D=\\d\\.\\d+'+'!'+math_y+'\\d+',re.I).findall(a)) > 0:   #右C/D=0.65!左034 \n",
    "            print(a)\n",
    "            index_insert = [i.start() for i in re.finditer(math_y+'\\d+',a)]  # 找到匹配字符串的起始位置——索引     \n",
    "#             print(index_insert[0])\n",
    "            a = list(a)    # str 无法直接插入，需先转为list\n",
    "            a.insert(index_insert[0]+1,\"C/D=\") \n",
    "            df.at[i,'影描_gai'] =\"\".join(a)   # 将分隔开的字符合并到一起\n",
    "            print('======'+df.at[i,'影描_gai'])          \n",
    "        elif len(re.compile(match_x+'\\d+'+'!'+math_y+'约C/D=\\d\\.\\d+',re.I).findall(a))>0:   #右07!左约C/D=0.9\n",
    "            print(a)\n",
    "            index_insert = [i.start() for i in re.finditer(match_x+'\\d+',a)]  # 找到匹配字符串的起始位置——索引     \n",
    "#             print(index_insert[0])\n",
    "            a = list(a)    # str 无法直接插入，需先转为list\n",
    "            a.insert(index_insert[0]+1,\"C/D=\")\n",
    "            df.at[i,'影描_gai'] =\"\".join(a)   # 将分隔开的字符合并到一起\n",
    "            print('__'+df.at[i,'影描_gai'])\n",
    "        elif len(re.compile(match_x+'\\d+'+'!'+math_y+'C/D=\\d\\.\\d+',re.I).findall(a))>0:   #右07!左C/D=0.9\n",
    "            print(a)\n",
    "            index_insert = [i.start() for i in re.finditer(match_x+'\\d+',a)]  # 找到匹配字符串的起始位置——索引     \n",
    "#             print(index_insert[0])\n",
    "            a = list(a)    # str 无法直接插入，需先转为list\n",
    "            a.insert(index_insert[0]+1,\"C/D=\")\n",
    "            df.at[i,'影描_gai'] =\"\".join(a)   # 将分隔开的字符合并到一起\n",
    "            print('__'+df.at[i,'影描_gai'])\n",
    "        elif len(re.compile(match_x+'\\:\\d\\.\\d+'+'!'+math_y+'C/D=\\d\\.\\d+',re.I).findall(a))>0:   # 右:0.5!左C/D=0.7!\n",
    "            print(a)\n",
    "            index_insert = [i.start() for i in re.finditer(match_x+'\\:\\d\\.\\d+',a)]  # 找到匹配字符串的起始位置——索引  # 匹配三位数杯盘比，   \n",
    "#             print(index_insert[0])\n",
    "            a = list(a)    # str 无法直接插入，需先转为list\n",
    "            a.insert(index_insert[0]+2,\"C/D=\") \n",
    "            df.at[i,'影描_gai'] =\"\".join(a)   # 将分隔开的字符合并到一起\n",
    "            print('__'+df.at[i,'影描_gai'])  \n",
    "\n",
    "        else:\n",
    "            pass"
   ]
  },
  {
   "cell_type": "code",
   "execution_count": null,
   "metadata": {},
   "outputs": [],
   "source": [
    "insert_class_function01(df_ym, '右','左')"
   ]
  },
  {
   "cell_type": "code",
   "execution_count": null,
   "metadata": {},
   "outputs": [],
   "source": [
    "insert_class_function01(df_ym, '左','右')"
   ]
  },
  {
   "cell_type": "code",
   "execution_count": null,
   "metadata": {},
   "outputs": [],
   "source": [
    "# 处理——双视盘色好界清C/D=0.65!左1.0\n",
    "def insert_class_function02(df,math_y):\n",
    "    for i in range(df.shape[0]):\n",
    "        a = str(df.at[i,'影描_gai'])\n",
    "        if len(re.compile('C/D=\\d\\.\\d+'+'!'+math_y+'\\d\\.\\d+',re.I).findall(a)) > 0:   #'右C/D=0.9!左1.0' C/D=0.45!左1.0\n",
    "            print(a)\n",
    "            index_insert = [i.start() for i in re.finditer(math_y+'\\d\\.\\d+',a)]  # 找到匹配字符串的起始位置——索引     \n",
    "#             print(index_insert[0])\n",
    "            a = list(a)    # str 无法直接插入，需先转为list\n",
    "            a.insert(index_insert[0]+1,\"C/D=\") \n",
    "            df.at[i,'影描_gai'] =\"\".join(a)   # 将分隔开的字符合并到一起\n",
    "            print('__'+df.at[i,'影描_gai'])  \n",
    "        elif len(re.compile('C/D=\\d\\.\\d+'+'!'+math_y+'\\d+',re.I).findall(a)) > 0:   #'双视乳头色好界清C/D=0.6!左045\n",
    "            print(a)\n",
    "            index_insert = [i.start() for i in re.finditer(math_y+'\\d+',a)]  # 找到匹配字符串的起始位置——索引     \n",
    "#             print(index_insert[0])\n",
    "            a = list(a)    # str 无法直接插入，需先转为list\n",
    "            a.insert(index_insert[0]+1,\"C/D=\") \n",
    "            df.at[i,'影描_gai'] =\"\".join(a)   # 将分隔开的字符合并到一起\n",
    "            print('__'+df.at[i,'影描_gai'])\n",
    "        elif len(re.compile('C/D=\\d\\.\\d+.*'+'!'+math_y+'\\d\\d',re.I).findall(a)) > 0:   #'双视盘色好C/D=!右C/D=0.85下方盘沿丢失网膜出血伴棉絮斑!左09盘沿丢失\n",
    "            print(a)\n",
    "            index_insert = [i.start() for i in re.finditer(math_y+'\\d\\d',a)]  # 找到匹配字符串的起始位置——索引  # 匹配两位数杯盘比，   \n",
    "#             print(index_insert[0])\n",
    "            a = list(a)    # str 无法直接插入，需先转为list\n",
    "            a.insert(index_insert[0]+1,\"C/D=\") \n",
    "            df.at[i,'影描_gai'] =\"\".join(a)   # 将分隔开的字符合并到一起\n",
    "            print('__'+df.at[i,'影描_gai'])\n",
    "        elif len(re.compile('C/D=\\d\\.\\d+.*'+'!'+math_y+'\\d\\d\\d',re.I).findall(a)) > 0:   #'双视盘色好C/D=!右C/D=0.85下方盘沿丢失网膜出血伴棉絮斑!左09盘沿丢失\n",
    "            print(a)\n",
    "            index_insert = [i.start() for i in re.finditer(math_y+'\\d\\d\\d',a)]  # 找到匹配字符串的起始位置——索引  # 匹配三位数杯盘比，   \n",
    "#             print(index_insert[0])\n",
    "            a = list(a)    # str 无法直接插入，需先转为list\n",
    "            a.insert(index_insert[0]+1,\"C/D=\") \n",
    "            df.at[i,'影描_gai'] =\"\".join(a)   # 将分隔开的字符合并到一起\n",
    "            print('__'+df.at[i,'影描_gai'])             \n",
    "        else:\n",
    "            pass"
   ]
  },
  {
   "cell_type": "code",
   "execution_count": null,
   "metadata": {},
   "outputs": [],
   "source": [
    "insert_class_function02(df_ym,'左')"
   ]
  },
  {
   "cell_type": "code",
   "execution_count": null,
   "metadata": {},
   "outputs": [],
   "source": [
    "insert_class_function02(df_ym,'右')"
   ]
  },
  {
   "cell_type": "code",
   "execution_count": null,
   "metadata": {},
   "outputs": [],
   "source": [
    "# 再次调用函数修正C/D=04和C/D=0/7的情形\n",
    "zero_point_func(df_ym)\n",
    "nornal_num_fuc(df_ym)"
   ]
  },
  {
   "cell_type": "code",
   "execution_count": null,
   "metadata": {},
   "outputs": [],
   "source": [
    "df_ym[df_ym['影描_gai'].str.contains('左09')]['影描_gai']"
   ]
  },
  {
   "cell_type": "markdown",
   "metadata": {},
   "source": [
    "### 去除无效'C/D='——打标干扰项"
   ]
  },
  {
   "cell_type": "code",
   "execution_count": null,
   "metadata": {},
   "outputs": [],
   "source": [
    "# 处理”C/D=正常范围“的情形 或者”双底欠清晰视乳头色好界清C/D=!“中的”C/D=“\n",
    "for i in range(df_ym.shape[0]):\n",
    "    str_i = str(df_ym.at[i,'影描_gai'])\n",
    "    str_tempt = re.split('!',str_i)\n",
    "    str_i_list = list(filter(None,str_tempt))\n",
    "    value_list = []\n",
    "#     print(str_i)\n",
    "    for k in range(len(str_i_list)):\n",
    "        if len(re.compile('C/D=').findall(str_i_list[k])) > 0 and len(re.compile('C/D=\\d\\.\\d+').findall(str_i_list[k])) ==0:\n",
    "            str_i_list[k] = re.compile('C/D=').sub('',str_i_list[k])\n",
    "            value_list.append(str_i_list[k])   \n",
    "        else:\n",
    "            value_list.append(str_i_list[k]) \n",
    "#     print(\"__{}\".format(value_list))\n",
    "    \n",
    "    df_ym.at[i,'影描_gai'] = '!'.join([value_list[g] for g in range(len(value_list))])\n",
    "#     print(\"____{}\".format(df_ym.at[i,'影描_gai']))"
   ]
  },
  {
   "cell_type": "code",
   "execution_count": null,
   "metadata": {},
   "outputs": [],
   "source": [
    "###############校验”干扰项“全部去除\n",
    "for i in range(df_ym.shape[0]):\n",
    "    str_i = str(df_ym.at[i,'影描_gai'])\n",
    "    str_tempt = re.split('!',str_i)\n",
    "    str_i_list = list(filter(None,str_tempt))\n",
    "    value_list = []\n",
    "#     print(str_i)\n",
    "    for k in range(len(str_i_list)):\n",
    "        if len(re.compile('C/D=').findall(str_i_list[k])) > 0 and len(re.compile('C/D=\\d\\.\\d+').findall(str_i_list[k])) ==0:\n",
    "            print(str_i_list[k])\n",
    "        else:\n",
    "            pass"
   ]
  },
  {
   "cell_type": "code",
   "execution_count": null,
   "metadata": {},
   "outputs": [],
   "source": [
    "# 校验还有多少杯盘比缺失一级标签\n",
    "df_ym[df_ym['影描_gai'].str.contains('双底欠清晰视乳头色好界清C/D=')]['影描_gai']"
   ]
  },
  {
   "cell_type": "code",
   "execution_count": null,
   "metadata": {},
   "outputs": [],
   "source": [
    "# 处理”C/D=0.500.6“的情形—— 中间添加段横线-\n",
    "def add_duanxian_func(df):\n",
    "    for i in range(df.shape[0]):\n",
    "        str_i = str(df.at[i,'影描_gai'])\n",
    "        str_tempt = re.split('!',str_i)\n",
    "        str_i_list = list(filter(None,str_tempt))\n",
    "        value_list = []\n",
    "    #     print(str_i)\n",
    "        for k in range(len(str_i_list)):\n",
    "            if len(re.compile('C/D=\\d\\.\\d+\\.\\d+').findall(str_i_list[k])) > 0:\n",
    "                print(str_i_list[k])\n",
    "                insert_start = [i.start() for i in re.finditer('\\.\\d+',str_i_list[k])]\n",
    "                print(insert_start)\n",
    "                a = list(str_i_list[k])    # str 无法直接插入，需先转为list\n",
    "                a.insert(insert_start[1]-1,'-')\n",
    "                str_i_list[k]=\"\".join(a)\n",
    "                value_list.append(str_i_list[k])\n",
    "            else:\n",
    "                value_list.append(str_i_list[k])\n",
    "\n",
    "        df.at[i,'影描_gai'] = \"!\".join(value_list[g] for g in range(len(value_list)))\n",
    "    #     print('__{}'.format(df.at[i,'影描_gai']))"
   ]
  },
  {
   "cell_type": "code",
   "execution_count": null,
   "metadata": {},
   "outputs": [],
   "source": [
    "add_duanxian_func(df_ym)"
   ]
  },
  {
   "cell_type": "code",
   "execution_count": null,
   "metadata": {},
   "outputs": [],
   "source": [
    "############## 校验全部处理——处理”C/D=0.500.6“的情形—— 中间添加段横线-\n",
    "for i in range(df_ym.shape[0]):\n",
    "    str_i = str(df_ym.at[i,'影描_gai'])\n",
    "    str_tempt = re.split('!',str_i)\n",
    "    str_i_list = list(filter(None,str_tempt))\n",
    "    value_list = []\n",
    "#     print(str_i)\n",
    "    for k in range(len(str_i_list)):\n",
    "        if len(re.compile('C/D=\\d\\.\\d+\\.\\d+').findall(str_i_list[k])) > 0:\n",
    "            print(str_i_list[k])\n",
    "        else:\n",
    "            pass"
   ]
  },
  {
   "cell_type": "markdown",
   "metadata": {},
   "source": [
    "## 添加新标签"
   ]
  },
  {
   "cell_type": "code",
   "execution_count": null,
   "metadata": {},
   "outputs": [],
   "source": [
    "df_ym.insert(df_ym.columns.get_loc('影描_gai')+1,'right_杯盘比C/D',None)\n",
    "df_ym.insert(df_ym.columns.get_loc('影描_gai')+1,'left_杯盘比C/D',None)"
   ]
  },
  {
   "cell_type": "code",
   "execution_count": null,
   "metadata": {},
   "outputs": [],
   "source": [
    "# 添加脉络膜Coats病的解析标签\n",
    "def add_new_label_fuc(df):\n",
    "    for i in range(df.shape[0]):\n",
    "        str_i = str(df.at[i,'影描_gai'])\n",
    "        if len(re.compile('C/D=\\d\\.\\d+').findall(str_i)) > 0:\n",
    "            str_tempt = re.split(r'!', str_i)\n",
    "            str_i_list = list(filter(None,str_tempt))    # list(filter(None,str)) :去掉re.split()产生的”空字符“项\n",
    "            for k in range(len(str_i_list)):\n",
    "                if (str.find(str_i_list[k],'C/D=')!=-1) and (str.find(str_i_list[k],'双')!=-1):\n",
    "#                     print(str_i_list[k])\n",
    "                    if len(re.compile('C/D='+'\\d\\.\\d+'+'-\\d\\.\\d+').findall(str_i_list[k]))>0:\n",
    "                        index_start = [i.start() for i in re.finditer('C/D='+'\\d\\.\\d+',str_i_list[k])] # 起始索引\n",
    "                        index_end = [i.end() for i in re.finditer('C/D='+'\\d\\.\\d+'+'-\\d\\.\\d+',str_i_list[k])] # 终止索引 \n",
    "#                         print(index_start,index_end)\n",
    "                    else:\n",
    "                        index_start = [i.start() for i in re.finditer('C/D='+'\\d\\.\\d+',str_i_list[k])] # 起始索引\n",
    "                        index_end = [i.end() for i in re.finditer('C/D='+'\\d\\.\\d+',str_i_list[k])] # 终止索引                  \n",
    "#                         print(index_start,index_end)\n",
    "                    df.at[i,'left_杯盘比C/D'] = str_i_list[k][index_start[0]+4:index_end[0]] # 截取杯盘比\n",
    "                    df.at[i,'right_杯盘比C/D'] = str_i_list[k][index_start[0]+4:index_end[0]] \n",
    "                elif (str.find(str_i_list[k],'C/D=')!=-1) and (str.find(str_i_list[k],'左')!=-1):\n",
    "#                     print(str_i_list[k])\n",
    "                    if len(re.compile('C/D='+'\\d\\.\\d+'+'-\\d\\.\\d+').findall(str_i_list[k]))>0:\n",
    "                        index_start = [i.start() for i in re.finditer('C/D='+'\\d\\.\\d+',str_i_list[k])] # 起始索引\n",
    "                        index_end = [i.end() for i in re.finditer('C/D='+'\\d\\.\\d+'+'-\\d\\.\\d+',str_i_list[k])] # 终止索引 \n",
    "#                         print(index_start,index_end)\n",
    "                    else:\n",
    "                        index_start = [i.start() for i in re.finditer('C/D='+'\\d\\.\\d+',str_i_list[k])] # 起始索引\n",
    "                        index_end = [i.end() for i in re.finditer('C/D='+'\\d\\.\\d+',str_i_list[k])] # 终止索引                  \n",
    "#                         print(index_start,index_end)\n",
    "                    df.at[i,'left_杯盘比C/D'] = str_i_list[k][index_start[0]+4:index_end[0]] # 截取杯盘比\n",
    "                elif (str.find(str_i_list[k],'C/D=')!=-1) and (str.find(str_i_list[k],'右')!=-1):\n",
    "                    if len(re.compile('C/D='+'\\d\\.\\d+'+'-\\d\\.\\d+').findall(str_i_list[k]))>0:\n",
    "                        index_start = [i.start() for i in re.finditer('C/D='+'\\d\\.\\d+',str_i_list[k])] # 起始索引\n",
    "                        index_end = [i.end() for i in re.finditer('C/D='+'\\d\\.\\d+'+'-\\d\\.\\d+',str_i_list[k])] # 终止索引 \n",
    "#                         print(index_start,index_end)\n",
    "                    else:\n",
    "                        index_start = [i.start() for i in re.finditer('C/D='+'\\d\\.\\d+',str_i_list[k])] # 起始索引\n",
    "                        index_end = [i.end() for i in re.finditer('C/D='+'\\d\\.\\d+',str_i_list[k])] # 终止索引                  \n",
    "#                         print(index_start,index_end)\n",
    "                    df.at[i,'right_杯盘比C/D'] = str_i_list[k][index_start[0]+4:index_end[0]] \n",
    "                else:\n",
    "                    pass\n",
    "        else:\n",
    "            pass"
   ]
  },
  {
   "cell_type": "code",
   "execution_count": null,
   "metadata": {},
   "outputs": [],
   "source": [
    "add_new_label_fuc(df_ym)   # 调用添加新标签的函数"
   ]
  },
  {
   "cell_type": "markdown",
   "metadata": {},
   "source": [
    "### '影描_gai'字段——含“Coats病”标签的数据容量"
   ]
  },
  {
   "cell_type": "code",
   "execution_count": null,
   "metadata": {},
   "outputs": [],
   "source": [
    "df_ym[df_ym['影描_gai'].str.contains('C/D=\\d\\.\\d+--')]['影描_gai']"
   ]
  },
  {
   "cell_type": "code",
   "execution_count": null,
   "metadata": {},
   "outputs": [],
   "source": [
    "print(\"'影描_gai'字段——含C/D——数据容量:{}\".format(df_ym[df_ym['影描_gai'].str.contains('C/D=\\d\\.\\d+')].shape[0] ))  # 含青光眼的数据容量"
   ]
  },
  {
   "cell_type": "code",
   "execution_count": null,
   "metadata": {
    "scrolled": true
   },
   "outputs": [],
   "source": [
    "df_ym['left_杯盘比C/D'].value_counts()  # C/D=0.5--"
   ]
  },
  {
   "cell_type": "code",
   "execution_count": null,
   "metadata": {},
   "outputs": [],
   "source": [
    "df_ym['right_杯盘比C/D'].value_counts()"
   ]
  },
  {
   "cell_type": "code",
   "execution_count": null,
   "metadata": {},
   "outputs": [],
   "source": [
    "df_ym[df_ym['left_杯盘比C/D'].isin(['0.500'])][['影像描述','影描_gai']]"
   ]
  },
  {
   "cell_type": "code",
   "execution_count": null,
   "metadata": {
    "scrolled": true
   },
   "outputs": [],
   "source": [
    "df_ym_jiao = df_ym[['影像描述','影描_gai','left_杯盘比C/D','right_杯盘比C/D']].drop_duplicates(keep='first')  # 去重\n",
    "## 患者维度\n",
    "print(\"'影描_gai'字段去重后——数据容量:{}\".format(df_ym_jiao.shape[0]) )  # '影描_gai'字段去重后的数据容量\n",
    "df_ym_jiao[:5]"
   ]
  },
  {
   "cell_type": "code",
   "execution_count": null,
   "metadata": {},
   "outputs": [],
   "source": [
    "## 患者维度——含白内障\n",
    "### '影描_gai'字段——含“白内障”标签的数据容量——去重后，唯一标签\n",
    "df_ym_jiao_notduplicate = df_ym_jiao[df_ym_jiao['影描_gai'].str.contains('C/D=')]   # '影描_gai'字段去重后——含白内障的数据容量\n",
    "print(\"'影描_gai'字段去重后_含C/D——数据容量:{}\".format(df_ym_jiao_notduplicate.shape[0]))"
   ]
  },
  {
   "cell_type": "code",
   "execution_count": null,
   "metadata": {},
   "outputs": [],
   "source": [
    "df_last_01 = df_ym_jiao.sample(n=5000,replace=False,random_state=None,axis=0)"
   ]
  },
  {
   "cell_type": "code",
   "execution_count": null,
   "metadata": {},
   "outputs": [],
   "source": [
    "df_last_01[df_last_01['影描_gai'].str.contains('C/D=')].shape[0]"
   ]
  },
  {
   "cell_type": "code",
   "execution_count": null,
   "metadata": {},
   "outputs": [],
   "source": [
    "output_path = r'/Users/edz/Documents/yandi_data/导出数据/影像描述'\n",
    "output_file = r'/杯盘比' + str(df_ym[df_ym['影描_gai'].str.contains('C/D=')].shape[0]) +'_20200331.xlsx'\n",
    "writer = pd.ExcelWriter(output_path + output_file)\n",
    "df_last_01.to_excel(writer,sheet_name='含杯盘比_5000',index=None)\n",
    "df_ym_jiao_notduplicate.to_excel(writer,sheet_name='含杯盘比_去重_'+ str(df_ym_jiao_notduplicate.shape[0]),index=None)\n",
    "df_ym_jiao.to_excel(writer,sheet_name='影描_gai_去重_'+str(df_ym_jiao.shape[0]),index=None)\n",
    "writer.save()"
   ]
  },
  {
   "cell_type": "code",
   "execution_count": null,
   "metadata": {},
   "outputs": [],
   "source": [
    "# 输出全量250625的糖网标签\n",
    "df_ym_quan = df_ym[['来自检查id','影描_gai','left_杯盘比C/D','right_杯盘比C/D']]"
   ]
  },
  {
   "cell_type": "code",
   "execution_count": null,
   "metadata": {},
   "outputs": [],
   "source": [
    "df_ym_quan.shape[0]"
   ]
  },
  {
   "cell_type": "code",
   "execution_count": null,
   "metadata": {},
   "outputs": [],
   "source": [
    "# 导出新增疾病标签\n",
    "output_path = r'/Users/edz/Documents/yandi_data/AI_data/zn_ai_影像描述标签'\n",
    "output_file = r'/杯盘比_quan_250625.xlsx'\n",
    "writer = pd.ExcelWriter(output_path + output_file)\n",
    "df_ym_quan.to_excel(writer,sheet_name='杯盘比'+str(df_ym_quan.shape[0]),index=None)\n",
    "writer.save()"
   ]
  },
  {
   "cell_type": "code",
   "execution_count": null,
   "metadata": {},
   "outputs": [],
   "source": []
  }
 ],
 "metadata": {
  "kernelspec": {
   "display_name": "Python 3",
   "language": "python",
   "name": "python3"
  },
  "language_info": {
   "codemirror_mode": {
    "name": "ipython",
    "version": 3
   },
   "file_extension": ".py",
   "mimetype": "text/x-python",
   "name": "python",
   "nbconvert_exporter": "python",
   "pygments_lexer": "ipython3",
   "version": "3.7.5"
  }
 },
 "nbformat": 4,
 "nbformat_minor": 2
}
